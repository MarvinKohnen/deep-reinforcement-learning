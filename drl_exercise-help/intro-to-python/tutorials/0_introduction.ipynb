{
 "cells": [
  {
   "cell_type": "markdown",
   "metadata": {},
   "source": [
    "# Introduction to Python (tutorial)\n",
    "In this notebook, we will introduce you to the basics of programming in Python. We will explain how to work with Jupyter notebooks, contrast \"interactive programming\" with \"scripting\", and introduce you to the concept of object-oriented programming. Importantly, we believe that programming is best learned by *doing it*, so this notebook will feature a lot of (ungraded) exercises. Because students often differ in how much experience they have with programming, the exercises are often relatively easy. However, to challenge those more familiar with programming, we also include (optional!) more difficult exercises. The concepts discussed in these exercises will not be featured on the exam and/or graded assignments.\n",
    "\n",
    "## Contents\n",
    "1. Jupyter notebooks\n",
    "2. Interactive vs. script mode\n",
    "3. Object-oriented programming"
   ]
  },
  {
   "cell_type": "markdown",
   "metadata": {},
   "source": [
    "## Jupyter notebooks\n",
    "So, what are Jupyter notebooks, actually? Basically, using Jupyter notebooks is like using the web-browser as a kind of editor from which you can run Python code, similar to the MATLAB interactive editor or RStudio. Just like any editor, code in Jupyter notebooks is interpreted and executed by Python on your computer (or on a remote server) and their results are returned to the notebook for display.\n",
    "\n",
    "The cool thing about these notebooks is that they allow you to mix code \"cells\" (see below) and text \"cells\" (such as this one). The (printed) output from code blocks are displayed right below the code blocks themselves. \n",
    "\n",
    "Jupyter notebooks have two *modes*: edit mode and command mode.\n",
    "\n",
    "- *Command mode* is indicated by a grey cell border with a blue left margin (as is the case now!): When you are in command mode, you are able to edit the notebook as a whole, but not type into individual cells. Most importantly, in command mode, the keyboard is mapped to a set of shortcuts that let you perform notebook and cell actions efficiently (some shortcuts in command mode will be discussed later!). Enter command mode by pressing **Esc** or using the mouse to click outside a cell’s editor area; <br><br>\n",
    "- *Edit mode* is indicated by a green cell border and a prompt showing in the editor area: When a cell is in edit mode, you can type into the cell, like a normal text editor. Enter edit mode by pressing Enter or using the mouse to double-click on a cell’s editor area.\n",
    "\n",
    "When you're reading and scrolling through the tutorials, you'll be in the command mode mostly. But once you have to program (or write) stuff yourself, you have to switch to edit mode. But we'll get to that. First, we'll explain something about the two types of cells: code cells and text cells."
   ]
  },
  {
   "cell_type": "markdown",
   "metadata": {},
   "source": [
    "### Code cells\n",
    "\n",
    "Code cells are the place to write your Python code, similar to MATLAB 'code sections' (which are usually deliniated by %%). Importantly, unlike the interactive editors in RStudio and MATLAB, a code cell in Jupyter notebooks can only be run all at once. This means you cannot run it line-by-line, but you have to run the entire cell!\n",
    "\n",
    "#### Running cells\n",
    "Let's look at an example. Below, you see a code-cell with two print-statements. To run the cell, select it (i.e., the cell should have a green or blue frame around it; doesn't matter whether you're in edit or command mode), and click on the \"&#9654; Run\" icon or press `ctr+Enter`). Try it with the cell below!"
   ]
  },
  {
   "cell_type": "code",
   "execution_count": null,
   "metadata": {},
   "outputs": [],
   "source": [
    "print(\"I'm printing Python code\")\n",
    "print(3 + 3)"
   ]
  },
  {
   "cell_type": "markdown",
   "metadata": {},
   "source": [
    "Note that you cannot run the two print statements separately! (Unless you put them in two separate cells.) Also, in the above cell, we're explicitly printing the results of the code. By default, code cells always print the *last* line (if it's not a variable assignment), even if you don't explicitly call `print`:"
   ]
  },
  {
   "cell_type": "code",
   "execution_count": null,
   "metadata": {},
   "outputs": [],
   "source": [
    "first_line = \"This is not printed\"\n",
    "last_line = \"But this is!\"\n",
    "last_line"
   ]
  },
  {
   "cell_type": "markdown",
   "metadata": {},
   "source": [
    "In your own code, if you want to see the results of your code, we recommend always using `print` statements!"
   ]
  },
  {
   "cell_type": "markdown",
   "metadata": {},
   "source": [
    "#### Stop running/execution of cells\n",
    "Sometimes, you might want to quit the execution of a code-cell because it's taking too long (or worse, you created an infinite loop!). To do so, click the stop icon &#9632; in the top menu!"
   ]
  },
  {
   "cell_type": "markdown",
   "metadata": {},
   "source": [
    "#### Restarting the kernel\n",
    "Sometimes, you accidentally 'crash' the notebook, for example when creating an infinite loop or when loading in too much data. You know your notebook 'crashed' when stopping the cell (&#9632;) does not work and your cell continues its execution, as evident by the `In [*]:` prompt next to the cell. In those cases, you need to completely restart the notebook, or in programming lingo: you need to \"restart the kernel\". To do so, click `Kernel` and `Restart`.\n",
    "\n",
    "Importantly, when you restart the kernel, it will keep all text/code that you've written, but it will **not** remember all the variables that you defined before restarting the kernel, including the imports. So if you restart the kernel, you will have to re-import everything (e.g. run `import numpy as np` again)."
   ]
  },
  {
   "cell_type": "markdown",
   "metadata": {},
   "source": [
    "#### Inserting cells\n",
    "As you can see in the code cell above, you can only run the entire cell (i.e. both `print` statements). Sometimes, of course, you'd like to organise code across multiple cells. To do this, you can simply add new blocks (cells) by selecting \"Insert &rarr; Insert Cell Below\" on the toolbar (or use the shortcut by pressing the \"B\" key when you're in command mode; \"B\" refers to \"**b**elow\"). This will insert a new code cell below the cell you have currently highlighted (the currently highlighted cell has a blue box around it). "
   ]
  },
  {
   "cell_type": "markdown",
   "metadata": {},
   "source": [
    "<div class='alert alert-warning' style=\"padding-bottom:10px\">\n",
    "    <b>ToDo</b>: Try inserting a cell below and write some code, e.g., <tt>print(10 * 10)</tt>.\n",
    "</div>"
   ]
  },
  {
   "cell_type": "markdown",
   "metadata": {},
   "source": [
    "#### Inline plotting\n",
    "Another cool feature of Jupyter notebooks is that you can display figures in the same notebook! You simply define some plots in a code cell and it'll output the plot below it. \n",
    "\n",
    "Check it out by executing (click the \"play\" button or `ctr+Enter`) the next cell."
   ]
  },
  {
   "cell_type": "code",
   "execution_count": null,
   "metadata": {},
   "outputs": [],
   "source": [
    "# We'll get to what the code means later in the tutorial\n",
    "import matplotlib.pyplot as plt # The plotting package 'Matplotlib' is discussed in section 3!\n",
    "\n",
    "# Now, let's plot something\n",
    "plt.plot(range(10))\n",
    "plt.show()"
   ]
  },
  {
   "cell_type": "markdown",
   "metadata": {},
   "source": [
    "We'll discuss plotting in detail in a future tutorial!"
   ]
  },
  {
   "cell_type": "markdown",
   "metadata": {},
   "source": [
    "### Text (\"markdown\") cells\n",
    "Next to code cells, jupyter notebooks allow you to write text in so-called \"markdown cells\" (the cell this text is written in is, obviously, also a markdown cell). Markdown cells accept plain text and can be formatted by special markdown-syntax. A couple of examples:\n",
    "\n",
    "\\# One hash creates a large header <br>\n",
    "\\#\\# Two hashes creates a slightly smaller header (this goes up to four hashes)\n",
    "\n",
    "**Bold text** can be created by enclosing text in \\*\\*double asterisks\\*\\* and italicized text can be created by enclosing text in \\*single asterisks\\*. You can even include URLs and insert images from the web; check this [link](https://github.com/adam-p/markdown-here/wiki/Markdown-Cheatsheet) for a cheatsheet with markdown syntax and options! All the special markdown-syntax and options will be converted to readable text *after running the text cell* (again, by pressing the \"play\" icon in the toolbar or by `ctr+Enter`).\n",
    "\n",
    "To insert a text (markdown) cell, insert a new cell (\"Insert &rarr; Insert Cell Below\" or \"B\" in command mode). Then, *while highlighting the new cell*, press \"Cell &rarr; Cell Type &rarr; Markdown\" on the toolbar on top of the notebook (or, while in command mode, press the \"m\" key; \"m\" refers to \"markdown\"). You should see the prompt (the **`In [ ]`** thingie) disappear. Voilà, now it's a text cell!"
   ]
  },
  {
   "cell_type": "markdown",
   "metadata": {},
   "source": [
    "<div class=\"alert alert-warning\">\n",
    "<b>ToDo</b>: Try it out yourself! Insert a new markdown cell and try to write the following (without peeking at this cell!):\n",
    "\n",
    "**OMG**, this is the most awesome Python tutorial *ever*.\n",
    "</div>"
   ]
  },
  {
   "cell_type": "markdown",
   "metadata": {},
   "source": [
    "### Changing cell type\n",
    "Sometimes you might accidentally change the cell type from \"code\" to \"markdown\". To change it back, you can click \"Cell\" &rarr; \"Cell Type\" &rarr; \"Code\" or \"Markdown\" (or use the shortcuts, in command mode, \"m\" for markdown or \"y\" for code). "
   ]
  },
  {
   "cell_type": "markdown",
   "metadata": {},
   "source": [
    "<div class=\"alert alert-warning\">\n",
    "<b>ToDo</b>: Try it out yourself! Change the code cell, which contains markdown, into a markdown cell!\n",
    "</div>"
   ]
  },
  {
   "cell_type": "code",
   "execution_count": null,
   "metadata": {
    "tags": [
     "raises-exception"
    ]
   },
   "outputs": [],
   "source": [
    "This is a code cell, but it contains markdown - **oh no**!"
   ]
  },
  {
   "cell_type": "markdown",
   "metadata": {},
   "source": [
    "### Getting help\n",
    "Throughout this course, you'll encounter situations in which you have to use functions that you'd like to get some more information on, e.g. which inputs it expects. To get help on any python function you'd like to use, you can simply write the function-name appended with a \"?\" and run the cell. This will open a window below with the \"docstring\" (explanation of the function). Take for example the built-in function **`len()`**. To get some more information, simply type `len?` in a code cell and run the cell."
   ]
  },
  {
   "cell_type": "markdown",
   "metadata": {},
   "source": [
    "<div class=\"alert alert-warning\">\n",
    "    <b>ToDo</b>: Try it out yourself: create a code cell below, type <tt>len?</tt> and check the output!\n",
    "</div>"
   ]
  },
  {
   "cell_type": "markdown",
   "metadata": {},
   "source": [
    "If this method (i.e. appending with \"?\") does not give you enough information, try to google (or just whatever search engine) the name of the function together with 'python' and, if you know from which package the function comes, the name of that package. For instance, for len() you could google: ['python len()'](http://lmgtfy.com/?q=python+len), or later when you'll use the numpy package, and you'd like to know how the `numpy.arange` function works you could google: \"python numpy arange\"."
   ]
  },
  {
   "cell_type": "markdown",
   "metadata": {},
   "source": [
    "<div class=\"alert alert-success\">\n",
    "    <b>Tip</b>: Google is your friend! Googling things is an integral aspect of programming. If you're stuck, try to figure it out yourself by trying to find the solution online. At first, this might seem frustrating, but in the long run, it will make you a better programmer.\n",
    "</div>"
   ]
  },
  {
   "cell_type": "markdown",
   "metadata": {},
   "source": [
    "### Saving your work & closing/shutting down the notebook\n",
    "You're running and actively editing the notebook in a browser, but remember that it's still just a file located on your account on your laptop (or server). Therefore, for your work to persist, you need to save the notebook once in a while (and definitely before closing the notebook). To save, simply press the floppy-disk image in the top-left (or do `ctr+s` while in command mode).\n",
    "\n",
    "If you saved your notebook and want to close it, click \"File\" &rarr; \"Close and halt\". This will stop your notebook from running and close it."
   ]
  },
  {
   "cell_type": "markdown",
   "metadata": {},
   "source": [
    "### Executing order and overwriting variables\n",
    "Jupyter notebooks are meant to be run from top to bottom. You can, of course, go back and work on a previous section. But beware: variables from later sections (i.e., more towards the bottom of the notebook) might overwrite previously defined ones! For example, suppose that we define a particular variable `y` to be 5 (note that assignment in Python is done using the `=` operator):"
   ]
  },
  {
   "cell_type": "code",
   "execution_count": null,
   "metadata": {},
   "outputs": [],
   "source": [
    "y = 5"
   ]
  },
  {
   "cell_type": "code",
   "execution_count": null,
   "metadata": {},
   "outputs": [],
   "source": [
    "print(\"Is y equal to 5?\", (y == 5))"
   ]
  },
  {
   "cell_type": "markdown",
   "metadata": {},
   "source": [
    "Now, in a later part we might again define a variable `y`, but this time we define it to be 6."
   ]
  },
  {
   "cell_type": "code",
   "execution_count": null,
   "metadata": {},
   "outputs": [],
   "source": [
    "y = 6"
   ]
  },
  {
   "cell_type": "markdown",
   "metadata": {},
   "source": [
    "If we would rerun (i.e., \"go back\") to the cell with the print statement (try this!), suddenly, it will print:\n",
    "\n",
    "```\n",
    "Is y equal to 5? False\n",
    "```\n",
    "\n",
    "This is why the order of executing the cells matter! The notebooks are designed to be run from top to bottom. So, if you encounter situations where you get errors because your variable suddenly seemed to have changed (where it used to work just fine), it might be due to variables being overwritten by code in later sections.\n",
    "\n",
    "If this happens, we recommend clearing and restarting your kernel (the thing that executes your code) by Kernel &rarr; Restart & Clear Output (in the toolbar on top), and rerun all your cells from top to bottom."
   ]
  },
  {
   "cell_type": "markdown",
   "metadata": {},
   "source": [
    "### Exercises (ToDo/ToThink)\n",
    "We believe that the best way to learn how to do neuroimaging analysis is by *actually programming* the analyses yourself. You have already seen some of these (ungraded) exercises, which we call \"ToDos\" (formatted as <font color='orange'>orange</font> boxes): short programming exercises, which you get immediate feedback for using \"tests\" (more on this later). We highly recommend doing/answering the ToDos/ToThinks, because they are designed to improve your understanding of the material!\n",
    "\n",
    "Sometimes, you also encounter <font color='green'>Tips and Tricks</font>, which may contain advice, more information on a specific topic, or links to relevant websites or material. \n",
    "\n",
    "For example, a \"ToDo\" would look something like this:"
   ]
  },
  {
   "cell_type": "markdown",
   "metadata": {},
   "source": [
    "<div class=\"alert alert-warning\">\n",
    "    <b>ToDo</b>: In the code-cell below, set the variable <tt>x</tt> to 5 (without quotes!) and remove the <tt>raise NotImplementedError</tt> statement.\n",
    "</div>"
   ]
  },
  {
   "cell_type": "code",
   "execution_count": null,
   "metadata": {
    "deletable": false,
    "nbgrader": {
     "cell_type": "code",
     "checksum": "e88b19f318f1961c6946d46051b91df1",
     "grade": false,
     "grade_id": "cell-18f974e3fcc0d18f",
     "locked": false,
     "schema_version": 3,
     "solution": true
    },
    "tags": [
     "hide-cell"
    ]
   },
   "outputs": [],
   "source": [
    "\"\"\" Implement the ToDo here. \"\"\"\n",
    "\n",
    "x = 'not yet 5'\n",
    "# YOUR CODE HERE\n",
    "raise NotImplementedError()"
   ]
  },
  {
   "cell_type": "markdown",
   "metadata": {},
   "source": [
    "Each answer-cell will contain the statement `raise NotImplementedError`. When implementing your ToDo, *you always have to remove this statement*, otherwise it will give an error when you run it.\n",
    "\n",
    "Then, *after* each code-cell corresponding to the ToDo, there are one or more code cell(s) with \"tests\" written by us. These tests provide you with feedback about whether you implemented the \"ToDo\" correctly (\"Well done!\"), or, if it give an error or the wrong answer, will give you some hints on how to get it right. You can keep trying these ToDo exercises until your implementation passes the test cell(s)! If you don't see any errors when running the test-cells, you did the ToDo correctly!\n",
    "\n",
    "The tests associated with the ToDo exercises are usually implemented as a set of `assert` statements (or `np.testing.assert_*`, which 'assert' whether a specific statement is true. If it evaluates to `False`, then that means you've made an error and it will \"crash\" by raising a specific error (with optional hints on how to proceed). For example, for the above `ToDo`, we simply evaluated the statement `assert(x == 5)` to check whether you set `x` to 5 correctly, as is shown in the cell below:"
   ]
  },
  {
   "cell_type": "code",
   "execution_count": null,
   "metadata": {
    "deletable": false,
    "editable": false,
    "nbgrader": {
     "cell_type": "code",
     "checksum": "52c5298905113f79ddc38cf93ca7ab54",
     "grade": true,
     "grade_id": "cell-9eb6167410bb1e5b",
     "locked": true,
     "points": 0,
     "schema_version": 3,
     "solution": false
    }
   },
   "outputs": [],
   "source": [
    "\"\"\" Checks whether the above ToDo is correct. \"\"\"\n",
    "try:\n",
    "    assert(x == 5)\n",
    "except AssertionError as e:\n",
    "    print(\"x does not evaluate to 5! Did you replace 'not yet 5' with 5?\")\n",
    "    raise(e)\n",
    "else:\n",
    "    print(\"Well done!\")"
   ]
  },
  {
   "cell_type": "markdown",
   "metadata": {},
   "source": [
    "In contrast to ToDos, you don't get any immediate feedback on <font color='blue'>ToThinks</font> (because this cannot be automated). These ToThinks are designed to make you reflect on the study material.\n",
    "\n",
    "Now, let's try another ToDo. Note that it is followed by two test-cells, which test different aspects of your implementation."
   ]
  },
  {
   "cell_type": "markdown",
   "metadata": {},
   "source": [
    "<div class=\"alert alert-warning\">\n",
    "    <b>ToDo</b>: In the code-cell below, set the variable <tt>y</tt> to <tt>x * 2</tt>, so you have to replace <tt>None</tt> with <tt>x * 2</tt> (yes, this is as easy as it sounds). Don't forget to remove the <tt>raise NotImplementedError</tt>.\n",
    "</div>"
   ]
  },
  {
   "cell_type": "code",
   "execution_count": null,
   "metadata": {
    "deletable": false,
    "nbgrader": {
     "cell_type": "code",
     "checksum": "ad39087f3c6b0f7c9692fde3b3f606b1",
     "grade": false,
     "grade_id": "cell-ab70f6aba1198918",
     "locked": false,
     "schema_version": 3,
     "solution": true
    },
    "tags": [
     "hide-cell"
    ]
   },
   "outputs": [],
   "source": [
    "\"\"\" Implement the ToDo here. \"\"\"\n",
    "x = 2\n",
    "y = None\n",
    "# YOUR CODE HERE\n",
    "raise NotImplementedError()"
   ]
  },
  {
   "cell_type": "code",
   "execution_count": null,
   "metadata": {
    "deletable": false,
    "editable": false,
    "nbgrader": {
     "cell_type": "code",
     "checksum": "b477cee2eb58aa18e129d6a50fbe7a57",
     "grade": true,
     "grade_id": "cell-3beed6559429c800",
     "locked": true,
     "points": 0,
     "schema_version": 3,
     "solution": false
    }
   },
   "outputs": [],
   "source": [
    "\"\"\" This tests the above ToDo. \"\"\"\n",
    "try:\n",
    "    assert(y == x * 2)\n",
    "except AssertionError as e:\n",
    "    print(\"y does not evaluate to x * 2 (i.e., 4)! Did you replace y with x * 2?\")\n",
    "    raise(e)\n",
    "else:\n",
    "    print(\"Correct!\")"
   ]
  },
  {
   "cell_type": "code",
   "execution_count": null,
   "metadata": {
    "deletable": false,
    "editable": false,
    "nbgrader": {
     "cell_type": "code",
     "checksum": "5b82d9651e3df4349c9e9eee8dcb9744",
     "grade": true,
     "grade_id": "cell-4bc66c72a83cb48e",
     "locked": true,
     "points": 0,
     "schema_version": 3,
     "solution": false
    }
   },
   "outputs": [],
   "source": [
    "\"\"\" This tests the above ToDo as well. \"\"\"\n",
    "try:\n",
    "    assert(isinstance(y, int))\n",
    "except AssertionError as e:\n",
    "    print(\"y doesn't seem to be an integer (it is of type %s; make sure it is!\" % type(y))\n",
    "    raise(e)\n",
    "else:\n",
    "    print(\"Epic!\")"
   ]
  },
  {
   "cell_type": "markdown",
   "metadata": {},
   "source": [
    "ToThink exercises need a written answer in the associated markdown cell. A typical 'ToThink' may look like this:  "
   ]
  },
  {
   "cell_type": "markdown",
   "metadata": {},
   "source": [
    "<div class='alert alert-info'>\n",
    "<b>ToThink</b> (1 point): What's your name? Please write it in the text-cell below.\n",
    "</div>"
   ]
  },
  {
   "cell_type": "markdown",
   "metadata": {
    "deletable": false,
    "nbgrader": {
     "cell_type": "markdown",
     "checksum": "96b270af0faaa4d8998785f48e050487",
     "grade": true,
     "grade_id": "cell-1b7dde716f8757c0",
     "locked": false,
     "points": 0,
     "schema_version": 3,
     "solution": true
    }
   },
   "source": [
    "YOUR ANSWER HERE"
   ]
  },
  {
   "cell_type": "markdown",
   "metadata": {},
   "source": [
    "Make sure you actually write your name in the cell above! (You'll have to double-click the text-cell to go into 'edit mode' and replace 'YOUR ANSWER HERE' with your name, and render the cell again by running it.)"
   ]
  },
  {
   "cell_type": "markdown",
   "metadata": {},
   "source": [
    "## Interactive vs. script mode\n",
    "Some programming languages, including Python, can be used *interactively*. Here, interactive means that subsets of code from a single file can be run one by one. Jupyter notebooks enable this way of programming by allowing users to split code across multiple cells (as you've seen in the previous section). Importantly, because all variables defined will be kept in memory until you close the notebook (i.e., when you stop the Python process), you can inspect the result of each step in your code. \n",
    "\n",
    "To peek at all variables defined thus far, we can use the `%whos` \"magic command\":"
   ]
  },
  {
   "cell_type": "code",
   "execution_count": null,
   "metadata": {},
   "outputs": [],
   "source": [
    "%whos"
   ]
  },
  {
   "cell_type": "markdown",
   "metadata": {},
   "source": [
    "Note that [magic commands](https://ipython.readthedocs.io/en/stable/interactive/magics.html) are Jupyter notebook-specific functionality, so it won't work in environments other than Jupyter notebooks! \n",
    "\n",
    "Interactive programming is common in languages such as R and Matlab, whose popular editors (like RStudio and the default Matlab editor) by design encourage users to run their scripts line by line. This way of programming is great for teaching, as it allows for explanation of concepts in a step by step fashion. Similarly, interactive programming is great when troubleshooting (\"debugging\") your code, exploring your data, or trying out different data visualizations.\n",
    "\n",
    "However, this way of programming is not necessarily always the best way to write, organize, and run your code. For example, if you want to reuse your code across multiple projects or applications, you'd have to copy your code from one notebook to the other. Also, notebooks tend to become large and messy when the scope and complexity of projects increase. Fortunately, you can also store your code in regular Python files, i.e., any plain text file with the extension `.py`. These are analogous to R scripts (`.R`) and Matlab scripts (`.m`). Writing Python code in Python files is actually the way most people use Python!\n",
    "\n",
    "Like Jupyter notebooks, Python files accept any valid Python code. We included an example script, `example_file.py`, in the current directory. "
   ]
  },
  {
   "cell_type": "markdown",
   "metadata": {},
   "source": [
    "<div class='alert alert-warning'>\n",
    "    <b>ToDo</b>: Locate the <tt>example_file.py</tt> file in the file browser from the Jupyter interface. Click on it to open it and inspect its contents.\n",
    "</div>"
   ]
  },
  {
   "cell_type": "markdown",
   "metadata": {},
   "source": [
    "As you can see, this file contains a couple of comments (prefixed by `#`) and two lines of code: one defining a variable (`message`) pointing to a string (`\"Hi, welcome to introPy!\"`) and one printing the variable. \n",
    "\n",
    "Now, you might ask yourself, \"how should these files by run?\". Usually, Python files are run (or \"executed\") in a *terminal*. A terminal, or sometimes called a *command line*, is a tool to perform tasks on a computer without a graphical interface. Instead of a graphical interface, you type commands in the terminal to tell it what to do. Although each operating system has its own type of terminal (and way to open it), the Jupyter environment also comes with its own terminal implementation. "
   ]
  },
  {
   "cell_type": "markdown",
   "metadata": {},
   "source": [
    "<div class='alert alert-warning'>\n",
    "    <b>ToDo</b> Open a terminal by clicking on <em>File</em> &rarr; <em>New</em> &rarr; <em>Terminal</em> in the upper right corner (in the classic interface) or upper left corner (in the JupyterLab interface).\n",
    "</div>"
   ]
  },
  {
   "cell_type": "markdown",
   "metadata": {},
   "source": [
    "This should open a new tab with a terminal. In the terminal, you can enter different commands. For example, to print something to the terminal window (similar to the Python `print` function), you can run the following command:\n",
    "\n",
    "```bash\n",
    "echo \"Hey! I'm running stuff in the terminal. #lit\"\n",
    "```"
   ]
  },
  {
   "cell_type": "markdown",
   "metadata": {},
   "source": [
    "<div class='alert alert-warning'>\n",
    "    <b>ToDo</b> Run the command above in the terminal!\n",
    "</div>"
   ]
  },
  {
   "cell_type": "markdown",
   "metadata": {},
   "source": [
    "In the above example, `echo` is a built-in command on most Linux and Mac systems. In addition to built-in commands, you can also enter Python commands to run Python files! To do so, your command should look something like:\n",
    "\n",
    "```\n",
    "python path/to/your/python_file.py\n",
    "```"
   ]
  },
  {
   "cell_type": "markdown",
   "metadata": {},
   "source": [
    "The path to your Python file should be specified relative to your location in the terminal. By default in this course, Jupyter terminals are openened at the root of the directory with course materials. So, to run the `example_file.py` file, we cannot enter `python example_file.py`, but we should instead enter the full path to the file:\n",
    "\n",
    "```\n",
    "python week_1/example_file.py\n",
    "```"
   ]
  },
  {
   "cell_type": "markdown",
   "metadata": {},
   "source": [
    "<div class='alert alert-success'>\n",
    "    <b>Note</b>: While Mac and Linux systems (including JupyterHub environments) use forward slashes (/) as a \"separator\" symbol, Windows uses backslashes (\\). So, on Windows, you'd need to run <tt>python week_1\\example_file.py</tt>.\n",
    "</div>"
   ]
  },
  {
   "cell_type": "markdown",
   "metadata": {},
   "source": [
    "<div class='alert alert-warning'>\n",
    "    <b>ToDo</b>: Run the file <tt>example_file.py</tt> in your terminal!\n",
    "</div>"
   ]
  },
  {
   "cell_type": "markdown",
   "metadata": {},
   "source": [
    "Importantly, when running Python files, it is run *as a whole*; unlike R and Matlab scripts, Python files cannot be run line by line!\n",
    "\n",
    "As you can see, this non-interactive way of programming &mdash; which we'll call \"script mode\" for a lack of a better term &mdash; is quite different from interactive programming in Jupyter notebooks. Unlike in Jupyter notebooks, script mode strictly separates the process of writing code and running code. In this course, you will write code in both \"interactive mode\" (mostly week 1) and in \"script mode\" (mostly week 2)."
   ]
  },
  {
   "cell_type": "markdown",
   "metadata": {},
   "source": [
    "### Scripts vs. modules\n",
    "One last concept related to script mode we want to discuss is the distinction between Python \"scripts\" and Python \"modules\". In short, any Python file (i.e., a file with the extension `.py`) can be either a *script* or a *module*, and whether it is one or the other depends on how you use the file. In short, scripts are Python files that contain code that actually *does* something (e.g., compute the average of a series of numbers, clean up a messy excel file, etc.) while modules only contain code that *define* things.\n",
    "\n",
    "In the course materials, we have included a very simple script (`example_script.py`) and a simple module (`example_module.py`). The script computes the average of two (predefined) numbers (i.e., it *does* something). The module file only *defines* a function (`average`). Indeed, if you'd run the script, several things will be done (i.e., the average of `a` and `b` will be computed and the result will be printed), but if you'd run the module, nothing will happen."
   ]
  },
  {
   "cell_type": "markdown",
   "metadata": {},
   "source": [
    "<div class='alert alert-warning'>\n",
    "    <b>ToDo</b>: Run both files separately and confirm for yourself that nothing happens when running the module file (<tt>example_module.py</tt>).\n",
    "</div>"
   ]
  },
  {
   "cell_type": "markdown",
   "metadata": {},
   "source": [
    "It is important to realize that this distinction between scripts and modules is a *conceptual* difference, not a *technical* one. Python doesn't care whether you think a file is a script or a module &mdash; it just sees and runs a `.py` file. Why would *you* care, then? Well, because it allows you to organize your code in a sensible and efficient manner, where modules may define operations that may be used across different scripts. In the example script and module discussed previously, we actually did something similar by \"importing\" functionality from the module in the script file! (Imports will be discussed at length in the next notebook.)\n",
    "\n",
    "To give a more practical example, in my own research projects I often have a single `analysis.py` *script* which I run when I want to (re)run my analysis. This script uses functionality from different modules, such as `preprocessing.py` and `visualization.py`. This way, the analysis script stays relatively short and readable, abstracting away from the different operations defined in the modules.\n",
    "\n",
    "Again, this distinction between scripts and modules is only conceptual. Nothing is stopping you from writing all your code in one single file! For example, the `average` function definition from the `example_module.py` module could also have been directly included in the `example_script.py` script; nothing wrong with that. But understanding the difference between these two types of files and organizing your code accordingly will undoubtely lead to cleaner, better readable code in the long run, especially for large projects!"
   ]
  },
  {
   "cell_type": "markdown",
   "metadata": {},
   "source": [
    "## Object-oriented programming\n",
    "Before you are going to delve more into actual programming in the next notebook, we need to discuss one more concept: object-oriented programming. Here, we will discuss the essentials of what you need to know for this course. \n",
    "\n",
    "Object-oriented programming (OOP) is a particular programming paradigm. In such paradigms, \"objects\" are things that may contain data (called *attributes*) and functionality (called *methods*). Python is such an object-oriented programming language, as opposed to for example R and Matlab (although both feature some OOP functionality). Now, you may ask, \"what are these *objects*, then?\"\n",
    "\n",
    "The answer is **everything**.\n",
    "\n",
    "Everything in Python is an object. Every variable you define is pointing to a particular object in memory. For example, consider the following variable definition:"
   ]
  },
  {
   "cell_type": "code",
   "execution_count": null,
   "metadata": {},
   "outputs": [],
   "source": [
    "x = 'hello'"
   ]
  },
  {
   "cell_type": "markdown",
   "metadata": {},
   "source": [
    "Here, `x` is an object! If we define a particular function (which will be explained in detail in the next notebook) ..."
   ]
  },
  {
   "cell_type": "code",
   "execution_count": null,
   "metadata": {},
   "outputs": [],
   "source": [
    "def some_function(arg):\n",
    "    return arg + 1"
   ]
  },
  {
   "cell_type": "markdown",
   "metadata": {},
   "source": [
    "... then `some_function` is also an object!"
   ]
  },
  {
   "cell_type": "markdown",
   "metadata": {},
   "source": [
    "Importantly, each object is of a certain *class*. An object's class defines which *attributes* and which *methods* an object has. To find out an object's class, you can use the function `type`:"
   ]
  },
  {
   "cell_type": "code",
   "execution_count": null,
   "metadata": {},
   "outputs": [],
   "source": [
    "type(x)"
   ]
  },
  {
   "cell_type": "markdown",
   "metadata": {},
   "source": [
    "So, it appears that the class of `x` is `str`, which stands for \"string\"!"
   ]
  },
  {
   "cell_type": "markdown",
   "metadata": {},
   "source": [
    "<div class='alert alert-warning'>\n",
    "    <b>ToDo</b>: find out the class of the function <tt>some_function</tt>\n",
    "</div>"
   ]
  },
  {
   "cell_type": "code",
   "execution_count": null,
   "metadata": {},
   "outputs": [],
   "source": [
    "# Find out the class of `some_function` below!\n"
   ]
  },
  {
   "cell_type": "markdown",
   "metadata": {},
   "source": [
    "To further explain the relation between objects and classes, consider the following analogy. One way to think about the relationship between an object and a class is as the relationship between a building and it's (architectural) plan.\n",
    "\n",
    "In other words, just like a building plan outlines how a building should be constructed, the class specifies how an object should be created. In programmer lingo, an object is always an *instance* of a class. Classes in Python define, basically, the attributes (i.e., things that an object *is* or *has*) and the methods (i.e., what each object *can do*). Importantly, all built-in data types in Python (like strings, integers, and lists) are in fact classes! In addition to built-in classes, you can also define your own custom classes! We will see an example of a custom class shortly.\n",
    "\n",
    "Both attributes and methods can be accessed by the object appended with a period (.) and the name of the attribute/method. The *only* difference between attributes and methods is that methods are followed by round brackets, (), with optional arguments. For example, to access the `__class__` attribute of the string variable `x`, we would run the following:"
   ]
  },
  {
   "cell_type": "code",
   "execution_count": null,
   "metadata": {},
   "outputs": [],
   "source": [
    "x.__class__"
   ]
  },
  {
   "cell_type": "markdown",
   "metadata": {},
   "source": [
    "As you can see, this attribute of `x` returns the name of its class. (Note that you could achieve the same by running `type(x)`!) Think of attributes as things that describe properties of objects.\n",
    "\n",
    "As mentioned before, *methods* represent things that objects can *do*. For example, all string objects (like `x`) have the method `capitalize`, which can be run as follows:"
   ]
  },
  {
   "cell_type": "code",
   "execution_count": null,
   "metadata": {},
   "outputs": [],
   "source": [
    "x.capitalize()"
   ]
  },
  {
   "cell_type": "markdown",
   "metadata": {},
   "source": [
    "As you can see, this method *does* something, i.e., it capitalizes the first character of the string! Note the round brackets in the previous line of code! This shows us that `capitalize` is in fact a method, and not an attribute."
   ]
  },
  {
   "cell_type": "markdown",
   "metadata": {},
   "source": [
    "<div class='alert alert-warning'>\n",
    "    <b>ToDo</b>: In the cell below, try out the string method <tt>isdigit</tt> using the object <tt>x</tt>. Do you understand what it does?\n",
    "</div>"
   ]
  },
  {
   "cell_type": "code",
   "execution_count": null,
   "metadata": {},
   "outputs": [],
   "source": [
    "# Try out the `isdigit` method below!\n"
   ]
  },
  {
   "cell_type": "markdown",
   "metadata": {},
   "source": [
    "In the previous two examples (`capitalize` and `isdigit`), the methods do not take any inputs (or \"arguments\"). Some methods, however, need inputs. For example, the `replace` method of string objects takes two arguments: the first with the substring that should be replaced and the second with the substring that should replace the first one. An example:"
   ]
  },
  {
   "cell_type": "code",
   "execution_count": null,
   "metadata": {},
   "outputs": [],
   "source": [
    "x.replace('h', 'c')"
   ]
  },
  {
   "cell_type": "markdown",
   "metadata": {},
   "source": [
    "As you can see in the example above, methods are very much like *functions* in the sense that they (may) take some inputs and (may) return something. Importantly, often (but not always, as we'll see in a minute) the results from the method operation are not automatically stored! So, if you want to store the result of a method call, assign the result to a (new) variable!"
   ]
  },
  {
   "cell_type": "code",
   "execution_count": null,
   "metadata": {},
   "outputs": [],
   "source": [
    "x_h2c = x.replace('h', 'c')\n",
    "print(\"The variable x_h2c contains:\", x_h2c)"
   ]
  },
  {
   "cell_type": "markdown",
   "metadata": {},
   "source": [
    "Importantly, the `x_h2c` variable is now a new object, again from the string class!"
   ]
  },
  {
   "cell_type": "code",
   "execution_count": null,
   "metadata": {},
   "outputs": [],
   "source": [
    "type(x_h2c)"
   ]
  },
  {
   "cell_type": "markdown",
   "metadata": {},
   "source": [
    "This is highlighting the fact about Python we mentioned earlier: *everything is an object!*"
   ]
  },
  {
   "cell_type": "markdown",
   "metadata": {},
   "source": [
    "<div class='alert alert-warning'>\n",
    "    <b>ToDo</b>: In the code cell below, using the variable <tt>x</tt>, call the method <tt>islower</tt> and save the result in a new variable <tt>is_x_lowercase</tt>.\n",
    "</div>"
   ]
  },
  {
   "cell_type": "code",
   "execution_count": null,
   "metadata": {
    "deletable": false,
    "nbgrader": {
     "cell_type": "code",
     "checksum": "16f6a63a77474a55681906c50c3769fb",
     "grade": false,
     "grade_id": "cell-d75d7adfb26ba5aa",
     "locked": false,
     "schema_version": 3,
     "solution": true,
     "task": false
    },
    "tags": [
     "hide-cell"
    ]
   },
   "outputs": [],
   "source": [
    "# Implement the ToDo here\n",
    "# YOUR CODE HERE\n",
    "raise NotImplementedError()"
   ]
  },
  {
   "cell_type": "code",
   "execution_count": null,
   "metadata": {
    "deletable": false,
    "editable": false,
    "nbgrader": {
     "cell_type": "code",
     "checksum": "0382fb26fcc2603975c2a09cba567ef0",
     "grade": true,
     "grade_id": "cell-ff456221f2b9418a",
     "locked": true,
     "points": 0,
     "schema_version": 3,
     "solution": false,
     "task": false
    }
   },
   "outputs": [],
   "source": [
    "\"\"\" This cell tests your implementation above. \"\"\"\n",
    "# Test if variable is defined\n",
    "if 'is_x_lowercase' not in locals():\n",
    "    raise ValueError(\"Couldn't find the variable 'is_x_lowercase'; did you spell it correctly?\")\n",
    "else:\n",
    "    # Test if the right method has been called\n",
    "    if type(is_x_lowercase) != bool:\n",
    "        raise ValueError(\"Hmmm, the output type is not what I expected (a boolean); did you \"\n",
    "                         \"call the right method (islower)?\")\n",
    "    else:  # probably correct implementation then\n",
    "        print(\"Yay! Well done.\")"
   ]
  },
  {
   "cell_type": "markdown",
   "metadata": {},
   "source": [
    "Alright, although you now know how to access and use attributes and methods of *existing* objects, you might wonder how you can *create* objects. Creating objects actually looks a lot like calling a function (or method!): \n",
    "\n",
    "* you call a particular \"class\" (`Someclass` in the image below) ...\n",
    "* ... with, optionally, one or more arguments (`arg1`, `arg2` in the image below) ...\n",
    "* ... which you assign to a new variable (`my_var` in the image below)\n",
    "\n",
    "The new variable then represents the new object!"
   ]
  },
  {
   "cell_type": "markdown",
   "metadata": {},
   "source": [
    "![obj_class_diff](https://docs.google.com/drawings/d/e/2PACX-1vRs-GPEf1hZ229q01Zv4Nwwspi4dxXr900qUxFBPHeeI70yXE0uLKgrvxjk9LVL1bHp78ZIZGWCnOT4/pub?w=893&h=284)"
   ]
  },
  {
   "cell_type": "markdown",
   "metadata": {},
   "source": [
    "Most object are initialized in this way. To showcase this, we created a custom class, `Person`, which we defined in the `utils.py` file. We import the class below:"
   ]
  },
  {
   "cell_type": "code",
   "execution_count": null,
   "metadata": {},
   "outputs": [],
   "source": [
    "from utils import Person"
   ]
  },
  {
   "cell_type": "markdown",
   "metadata": {},
   "source": [
    "Here, `Person` is like the `Someclass` element in the image above. Often, the class documentation tells us if the class should be initialized with any variables, and if so, which ones. One neat trick to peek at the code documentation of a particular class/function in Jupyter notebooks is to run the class/function appended with a question mark:"
   ]
  },
  {
   "cell_type": "code",
   "execution_count": null,
   "metadata": {},
   "outputs": [],
   "source": [
    "Person?"
   ]
  },
  {
   "cell_type": "markdown",
   "metadata": {},
   "source": [
    "As you can see, the `Person` class needs two variables upon initialization: a name (a string) and an age (an integer or a float). Now, let's initialize a `Person` object and store it in a variable named `random_person`:"
   ]
  },
  {
   "cell_type": "code",
   "execution_count": null,
   "metadata": {},
   "outputs": [],
   "source": [
    "random_person = Person('Lukas', 29)"
   ]
  },
  {
   "cell_type": "markdown",
   "metadata": {},
   "source": [
    "Now, the `random_person` represents an object (from the class `Person`) with its own attributes and methods! Often, the names of the input arguments (here, \"name\" and \"age\") are also bound to the object as attributes:"
   ]
  },
  {
   "cell_type": "code",
   "execution_count": null,
   "metadata": {},
   "outputs": [],
   "source": [
    "print(random_person.name)\n",
    "print(random_person.age)"
   ]
  },
  {
   "cell_type": "markdown",
   "metadata": {},
   "source": [
    "To find out which (other) attributes and methods a particular object has, you can either look at the source code (i.e., looking at the `utils.py` file in this case) or using the following Jupyter trick: in a code cell, type the name of the object followed by a period (.) and press TAB. This will create a pop-up with a list of the possible attributes (called \"instances\" in the Jupyter interface) and methods (called simply \"functions\" in Jupyter)."
   ]
  },
  {
   "cell_type": "markdown",
   "metadata": {},
   "source": [
    "<div class='alert alert-warning'>\n",
    "    <b>ToDo</b>: In the cell below, use the Jupyter notebook trick just discussed to check out the attributes and methods of the <tt>random_person</tt> object.\n",
    "</div>"
   ]
  },
  {
   "cell_type": "code",
   "execution_count": null,
   "metadata": {},
   "outputs": [],
   "source": [
    "# Use the Jupyter notebook trick here!\n"
   ]
  },
  {
   "cell_type": "markdown",
   "metadata": {},
   "source": [
    "As you've seen, the `random_person` object has three methods: `introduce`, `is_older_than_30`, and `increase_age`. The `introduce` method is a simple method that only prints something:"
   ]
  },
  {
   "cell_type": "code",
   "execution_count": null,
   "metadata": {},
   "outputs": [],
   "source": [
    "random_person.introduce()"
   ]
  },
  {
   "cell_type": "markdown",
   "metadata": {},
   "source": [
    "Other methods, like the `is_older_than_30` method, actually also return something:"
   ]
  },
  {
   "cell_type": "code",
   "execution_count": null,
   "metadata": {},
   "outputs": [],
   "source": [
    "older_than_30 = random_person.is_older_than_30()\n",
    "print(f\"Is {random_person.name} older than 30?\", older_than_30)  # thank God"
   ]
  },
  {
   "cell_type": "markdown",
   "metadata": {},
   "source": [
    "Finally, some methods may not return anything but instead modify its own attributes! For example, the `increase_age` method takes a single input (an integer) that will increase the age attribute of the `Person` object by that number! For example:"
   ]
  },
  {
   "cell_type": "code",
   "execution_count": null,
   "metadata": {},
   "outputs": [],
   "source": [
    "random_person.increase_age(1)\n",
    "print(f\"{random_person.name} is now this old:\", random_person.age)  # oh no!"
   ]
  },
  {
   "cell_type": "markdown",
   "metadata": {},
   "source": [
    "As you can see, no need to save the result from `increase_age` in a new variable, because it is saved \"internally\" in the `age` attribute!"
   ]
  },
  {
   "cell_type": "markdown",
   "metadata": {},
   "source": [
    "<div class='alert alert-danger'>\n",
    "    <b>Warning!</b> If you save the \"result\" from a method call in a new variable even though that method doesn't return something, Python won't crash but save the result as <tt>None</tt>! So if you ever notice that one of your variables is <tt>None</tt>, this might have happened!\n",
    "</div>"
   ]
  },
  {
   "cell_type": "markdown",
   "metadata": {},
   "source": [
    "<div class='alert alert-warning'>\n",
    "    <b>ToDo</b>: Lukas doesn't like to be 30 years old. Can you make him 29 again? Watch out: if you run the command <tt>increase_age</tt> multiple times, the <tt>age</tt> attribute will also be modified multiple times!\n",
    "</div>"
   ]
  },
  {
   "cell_type": "code",
   "execution_count": null,
   "metadata": {
    "deletable": false,
    "nbgrader": {
     "cell_type": "code",
     "checksum": "d423a010b7166cf913063d6b45343178",
     "grade": false,
     "grade_id": "cell-55c01a3f14958265",
     "locked": false,
     "schema_version": 3,
     "solution": true,
     "task": false
    },
    "tags": [
     "hide-cell"
    ]
   },
   "outputs": [],
   "source": [
    "\"\"\" Implement the ToDo here. \"\"\"\n",
    "# YOUR CODE HERE\n",
    "raise NotImplementedError()"
   ]
  },
  {
   "cell_type": "code",
   "execution_count": null,
   "metadata": {
    "deletable": false,
    "editable": false,
    "nbgrader": {
     "cell_type": "code",
     "checksum": "461801243b0b55b462480c2968e3aa9a",
     "grade": true,
     "grade_id": "cell-99b51e087e431f8f",
     "locked": true,
     "points": 0,
     "schema_version": 3,
     "solution": false,
     "task": false
    }
   },
   "outputs": [],
   "source": [
    "\"\"\" Tests the ToDo implementation above. \"\"\"\n",
    "if random_person.age != 29:\n",
    "    raise ValueError(f\"Oh no, {random_person.name} is not 29 but {random_person.age}!\")\n",
    "else:\n",
    "    print(\"Yes! Well done. I feel younger already.\")"
   ]
  },
  {
   "cell_type": "markdown",
   "metadata": {},
   "source": [
    "<div class='alert alert-warning'>\n",
    "    <b>ToDo</b>: Create a new <tt>Person</tt> object with your own name and age and save it in a variable named <tt>my_self</tt>. Then, introduce yourself (using the <tt>introduce</tt> method) and pretend its your birthday and increase your age by 1 (using the <tt>increase_age</tt> method).\n",
    "</div>"
   ]
  },
  {
   "cell_type": "code",
   "execution_count": null,
   "metadata": {
    "deletable": false,
    "nbgrader": {
     "cell_type": "code",
     "checksum": "270ba7fdd00cad768e8fbcca9ddd168c",
     "grade": false,
     "grade_id": "cell-1051b748346ec149",
     "locked": false,
     "schema_version": 3,
     "solution": true,
     "task": false
    },
    "tags": [
     "hide-cell"
    ]
   },
   "outputs": [],
   "source": [
    "\"\"\" Implement your ToDo here. \"\"\"\n",
    "# YOUR CODE HERE\n",
    "raise NotImplementedError()"
   ]
  },
  {
   "cell_type": "code",
   "execution_count": null,
   "metadata": {
    "deletable": false,
    "editable": false,
    "nbgrader": {
     "cell_type": "code",
     "checksum": "db86b271166334a9b63d62ee80c80e04",
     "grade": true,
     "grade_id": "cell-9ba9c5bcfddb03d0",
     "locked": true,
     "points": 0,
     "schema_version": 3,
     "solution": false,
     "task": false
    }
   },
   "outputs": [],
   "source": [
    "\"\"\" Tests the above ToDo. \"\"\"\n",
    "if not 'my_self' in locals():\n",
    "    raise ValueError(\"Oh no! I couldn't find the variable 'my_self'! Did you spell it correctly?\")\n",
    "else:\n",
    "    if type(my_self.age) not in (int, float):\n",
    "        raise ValueError(\"Oh no! Did you enter a valid number for age upon initialization?\")\n",
    "    else:\n",
    "        print(f\"Great work, {my_self.name}! You're on a roll!\")"
   ]
  },
  {
   "cell_type": "markdown",
   "metadata": {},
   "source": [
    "Now, some of you may wonder about those built-in classes like strings, integers, and lists &mdash; objects from those classes seem to be initialized differently than we discussed! This is true! This is because some classes are used so often, Python introduced a shorter sytax (sometimes called \"[syntactic sugar](https://en.wikipedia.org/wiki/Syntactic_sugar)\") to initialize objects from such classes. For example, as we have seen, string objects can be initialized by just wrapping characters in quotes:"
   ]
  },
  {
   "cell_type": "code",
   "execution_count": null,
   "metadata": {},
   "outputs": [],
   "source": [
    "this_is_a_string = \"a random sequence of characters in quotes\"  # single quotes are fine too"
   ]
  },
  {
   "cell_type": "markdown",
   "metadata": {},
   "source": [
    "A more elaborate, but equivalent, way to initialize strings also exists, however:"
   ]
  },
  {
   "cell_type": "code",
   "execution_count": null,
   "metadata": {},
   "outputs": [],
   "source": [
    "this_is_another_string = str(\"another random sequence of characters\")"
   ]
  },
  {
   "cell_type": "markdown",
   "metadata": {},
   "source": [
    "The initialization process underlying `this_is_a_string` and `this_is_another_string` is equivalent! The same applies to integers:"
   ]
  },
  {
   "cell_type": "code",
   "execution_count": null,
   "metadata": {},
   "outputs": [],
   "source": [
    "# Integers can be initialized using \"syntactic sugar\":\n",
    "my_integer = 5\n",
    "\n",
    "# ... or this way:\n",
    "my_integer = int(5)"
   ]
  },
  {
   "cell_type": "markdown",
   "metadata": {},
   "source": [
    "... and lists:"
   ]
  },
  {
   "cell_type": "code",
   "execution_count": null,
   "metadata": {},
   "outputs": [],
   "source": [
    "# The \"syntactic sugar\" way:\n",
    "my_list = [0, 1, 2]\n",
    "\n",
    "# ... or this way:\n",
    "my_list = list([1, 2, 3])"
   ]
  },
  {
   "cell_type": "markdown",
   "metadata": {},
   "source": [
    "All this is to show that *everything* in Python is an object! Objects may be initialized from built-in classes (like strings, integers, and lists) or from custom classes (like the `Person` class). We want you to understand that all objects may have certain attributes (which describe properties of the object) and methods (which represent things an object can *do*). You will encounter this idea a lot when we start working with the different data visualization (Matplotlib) and analysis (Pandas, Numpy) packages. Also, Psychopy features a lot of object-oriented programming.\n",
    "\n",
    "For those that want a challenge can continue with the **optional** next section about creating custom classes yourself! If not, please continue with the next notebook: `1_python_basics.ipynb`."
   ]
  },
  {
   "cell_type": "markdown",
   "metadata": {},
   "source": [
    "### Custom classes (optional)\n",
    "In the previous section, you have seen how to instantiate objects from (custom) classes. In this (optional) section, you will learn how to *write* your own classes! This won't cover everything of object-oriented programming, but it will teach you enough to get started. Although it is not strictly necessary, familiarity with functions helps a lot to understand this section. \n",
    "\n",
    "Now, suppose that you are running an experiment for your MSc thesis. Each participant in your study performs a simple reaction time task. Half of the subjects are given a cup of coffee beforehand (condition: caffeine) while the other half are given a cup of water beforehand (condition: water). You think it would be nice to create a custom class that stores some information about a participant and their results. We will call this class `Participant`. In what follows, we will create the class step by step.\n",
    "\n",
    "To create a custom class in Python, you use the keyword `class` followed by the name of your class, which is customarily capitalized:"
   ]
  },
  {
   "cell_type": "code",
   "execution_count": null,
   "metadata": {},
   "outputs": [],
   "source": [
    "class Participant:\n",
    "    pass"
   ]
  },
  {
   "cell_type": "markdown",
   "metadata": {},
   "source": [
    "Here, we leave the \"body\" of the class empty and just use the filler keyword `pass` (without `pass`, the cell would raise an error). "
   ]
  },
  {
   "cell_type": "markdown",
   "metadata": {},
   "source": [
    "#### The `__init__` method\n",
    "The next step is to define the class *constructor*, which is a method which outlines what needs to happen upon initialization. To create a method, you just need to define a function inside the class. Functions in Python are defined using the keyword `def`, followed by the name of the function, its (optional) arguments, and the function body (we will discuss functions in detail in the next notebook). The name of the constructor method is `__init__` (short for \"initialize\") and takes at least one argument, which is customarily named `self` (which we'll explain in a bit):"
   ]
  },
  {
   "cell_type": "code",
   "execution_count": null,
   "metadata": {},
   "outputs": [],
   "source": [
    "class Participant:\n",
    "    \"\"\" Usually, right underneath the class name, some documentation about the class is added\n",
    "    across a multiline string using triple quotes. For example, we might add 'A class to represent\n",
    "    participants in our study'. \"\"\"\n",
    "    def __init__(self):\n",
    "        pass"
   ]
  },
  {
   "cell_type": "markdown",
   "metadata": {},
   "source": [
    "Note that any code within the class definition is indented with four spaces (or a single tab; both are okay)! This tells Python which code belongs (and doesn't belong) to the class definition. Right now, the `__init__` method doesn't do anything, but it does allow us to create an object with the class `Participant` by calling `Participant()` (note the round brackets):"
   ]
  },
  {
   "cell_type": "code",
   "execution_count": null,
   "metadata": {},
   "outputs": [],
   "source": [
    "participant_1 = Participant()"
   ]
  },
  {
   "cell_type": "markdown",
   "metadata": {},
   "source": [
    "<div class='alert alert-warning'>\n",
    "    <b>ToDo</b>: Let's make the <tt>__init__</tt> method actually do something! In the class definition below, add a print statement within the <tt>__init__</tt> function which prints out \"Constructing a Participant object!\". Make sure to add another indent (four spaces or a tab) for your print statement (just like the <tt>pass</tt> keyword in the <tt>__init__</tt> method above).\n",
    "</div>"
   ]
  },
  {
   "cell_type": "code",
   "execution_count": null,
   "metadata": {
    "deletable": false,
    "nbgrader": {
     "cell_type": "code",
     "checksum": "9a0242fc8acaeb856ef3bc7420579232",
     "grade": false,
     "grade_id": "cell-8dc444463c1071cd",
     "locked": false,
     "schema_version": 3,
     "solution": true,
     "task": false
    },
    "tags": [
     "hide-cell"
    ]
   },
   "outputs": [],
   "source": [
    "\"\"\" Implement your ToDo here. \"\"\"\n",
    "\n",
    "class Participant:\n",
    "    \"\"\" Usually, right underneath the class name, some documentation about the class is added\n",
    "    across a multiline string using triple quotes. For example, we might add 'A class to represent\n",
    "    participants in our study'. \"\"\"\n",
    "    def __init__(self):\n",
    "        # YOUR CODE HERE\n",
    "        raise NotImplementedError()"
   ]
  },
  {
   "cell_type": "code",
   "execution_count": null,
   "metadata": {
    "deletable": false,
    "editable": false,
    "nbgrader": {
     "cell_type": "code",
     "checksum": "08c74fd3c8893f4e94d71d9aaca2c184",
     "grade": true,
     "grade_id": "cell-2b60791390d357f7",
     "locked": true,
     "points": 0,
     "schema_version": 3,
     "solution": false,
     "task": false
    }
   },
   "outputs": [],
   "source": [
    "\"\"\" Tests the above ToDo. \"\"\"\n",
    "import inspect\n",
    "testp = Participant()\n",
    "if not any('print(' in l for l in inspect.getsourcelines(testp.__init__)[0]):\n",
    "    raise ValueError(\"Could not find a print statement in the __init__ method!\")\n",
    "else:\n",
    "    print(\"Awesome! You're doing great.\")"
   ]
  },
  {
   "cell_type": "markdown",
   "metadata": {},
   "source": [
    "As you can see in the test cell, whenver a `Participant` object is initialized, the `__init__` method is triggered (under the hood)! You can do anything you like in the `__init__` method, but usually this method is used to \"bind\" attributes to it**self**, such as arguments given to the `__init__` method. For example, let's add a single argument (in addition to `self`) to the constructor, a subject number (an integer):"
   ]
  },
  {
   "cell_type": "code",
   "execution_count": null,
   "metadata": {},
   "outputs": [],
   "source": [
    "\"\"\" Implement your ToDo here. \"\"\"\n",
    "\n",
    "class Participant:\n",
    "    \"\"\" A class to represent participants in our study. \"\"\"\n",
    "    def __init__(self, sub_nr):\n",
    "        self.sub_nr = sub_nr"
   ]
  },
  {
   "cell_type": "markdown",
   "metadata": {},
   "source": [
    "<div class='alert alert-warning'>\n",
    "    <b>ToDo</b>: Below, initialize a new <tt>Participant</tt> object with a particular participant number (e.g., `1`). Then, try to access that attribute (<tt>sub_nr</tt>) from your new object! What happens if you don't supply a participant number when calling <tt>Participant</tt>?\n",
    "</div>"
   ]
  },
  {
   "cell_type": "code",
   "execution_count": null,
   "metadata": {
    "deletable": false,
    "nbgrader": {
     "cell_type": "code",
     "checksum": "99cdce5711ae01682ee8fddeb0053e6f",
     "grade": false,
     "grade_id": "cell-eebbcb15c0a7c113",
     "locked": false,
     "schema_version": 3,
     "solution": true,
     "task": false
    },
    "tags": [
     "hide-cell"
    ]
   },
   "outputs": [],
   "source": [
    "\"\"\" Implement your ToDo here (no test cell). \"\"\"\n",
    "# YOUR CODE HERE\n",
    "raise NotImplementedError()"
   ]
  },
  {
   "cell_type": "markdown",
   "metadata": {},
   "source": [
    "As you can see, whenever you construct a new `Participant` object (and thus implicitly call the `__init__` method) the `self` argument is actually ignored. The `self` argument in classes function as a sort of placeholder (or template) in the class that will be \"filled in\" by the specific object once it is initialized. In other words, anything that is referenced by `self` in the *class definition* is referenced by the object name after initialization. This concept will become more clear when we'll discuss other class methods later.\n",
    "\n"
   ]
  },
  {
   "cell_type": "markdown",
   "metadata": {},
   "source": [
    "<div class='alert alert-warning'>\n",
    "    <b>ToDo</b>: Below, rewrite the <tt>__init__</tt> method to accept (apart from <tt>self</tt>) two arguments: <tt>sub_nr</tt> <em>and</em> <tt>condition</tt>, a string (which should be either a \"caffeine\" or \"water\"). Then, make sure the value of the <tt>condition</tt> argument is bound to <tt>self</tt> such that the object will have a <tt>condition</tt> attribute. Bonus for those with more programming experience: raise a <tt>ValueError</tt> whenever the condition is something else than \"caffeine\" and \"water\".\n",
    "</div>"
   ]
  },
  {
   "cell_type": "code",
   "execution_count": null,
   "metadata": {
    "deletable": false,
    "nbgrader": {
     "cell_type": "code",
     "checksum": "c81557707571bce57d9d17b57c06852d",
     "grade": false,
     "grade_id": "cell-05e3887378e59a7f",
     "locked": false,
     "schema_version": 3,
     "solution": true,
     "task": false
    },
    "tags": [
     "hide-cell"
    ]
   },
   "outputs": [],
   "source": [
    "\"\"\" Implement your ToDo here. \"\"\"\n",
    "class Participant:\n",
    "    \"\"\" A class to represent participants in our study. \"\"\"\n",
    "    # YOUR CODE HERE\n",
    "    raise NotImplementedError()"
   ]
  },
  {
   "cell_type": "code",
   "execution_count": null,
   "metadata": {
    "deletable": false,
    "editable": false,
    "nbgrader": {
     "cell_type": "code",
     "checksum": "39e5b3c316598c47353e78fee64c69ca",
     "grade": true,
     "grade_id": "cell-2df43d22ece99e87",
     "locked": true,
     "points": 0,
     "schema_version": 3,
     "solution": false,
     "task": false
    }
   },
   "outputs": [],
   "source": [
    "\"\"\" Tests the above ToDo. \"\"\"\n",
    "try:\n",
    "    testp = Participant(1, 'water')\n",
    "except Exception as e:\n",
    "    print(\"Something went wrong during initialization ... Is your syntax correct?\")\n",
    "    raise(e)\n",
    "else:\n",
    "    if not hasattr(testp, 'condition'):\n",
    "        raise ValueError(\"Your class does not have an attribute called 'condition'!\")\n",
    "    else:\n",
    "        print(\"Yeah! Well done!\")"
   ]
  },
  {
   "cell_type": "code",
   "execution_count": null,
   "metadata": {
    "deletable": false,
    "editable": false,
    "nbgrader": {
     "cell_type": "code",
     "checksum": "397c5dbe0653f20030018986e785aeaa",
     "grade": true,
     "grade_id": "cell-856d2ac26263d4ba",
     "locked": true,
     "points": 0,
     "schema_version": 3,
     "solution": false,
     "task": false
    }
   },
   "outputs": [],
   "source": [
    "\"\"\" Tests bonus part. If you haven't done this, you may ignore this. \"\"\"\n",
    "try:\n",
    "    testp = Participant(1, 'tea')\n",
    "except ValueError:\n",
    "    # Yes! It's raising an error, great!\n",
    "    print(\"Well done!\")\n",
    "else:\n",
    "    raise ValueError(\"It should raise an error, but it isn't doing so ... \")"
   ]
  },
  {
   "cell_type": "markdown",
   "metadata": {},
   "source": [
    "#### Other methods\n",
    "The `__init__` method is almost always included in custom Python classes. But you can of course add more custom methods (like the `introduce` method in the previously discussed `Person` class)! For example, suppose that you want to know whether the participant number is larger than 10. I know, not a very realistic use case, but we'll keep it simple. Just like the `__init__` method, you can add a method by defining a function inside the class definition:"
   ]
  },
  {
   "cell_type": "code",
   "execution_count": null,
   "metadata": {},
   "outputs": [],
   "source": [
    "class Participant:\n",
    "    \"\"\" A class to represent participants in our study. \"\"\"\n",
    "    def __init__(self, sub_nr, condition):\n",
    "        self.sub_nr = sub_nr\n",
    "        self.condition = condition\n",
    "    \n",
    "    def larger_than_10(self):\n",
    "        \"\"\" Checks if sub_nr is larger than 10. \"\"\"\n",
    "        if self.sub_nr > 10:\n",
    "            ans = 'yes'\n",
    "        else:\n",
    "            ans = 'no'\n",
    "\n",
    "        return ans"
   ]
  },
  {
   "cell_type": "markdown",
   "metadata": {},
   "source": [
    "As you can see, like the `__init__` method, the `larger_than_10` method also takes `self` as input. This way, the object can access attributes of it**self**. This happens in the `larger_than_10` method when it accesses the `sub_nr` attribute through `self.sub_nr`! Without `self` as the first argument, this would not have been possible. Let's check out whether it works:"
   ]
  },
  {
   "cell_type": "code",
   "execution_count": null,
   "metadata": {},
   "outputs": [],
   "source": [
    "participant_15 = Participant(15, 'water')\n",
    "answer = participant_15.larger_than_10()\n",
    "print(answer)"
   ]
  },
  {
   "cell_type": "markdown",
   "metadata": {},
   "source": [
    "One last thing that is important to know is that you can also create attributes outside the `__init__` method! For example, we could store the result of the `larger_than_10` call as an attribute by \"binding\" it to `self` inside the method: "
   ]
  },
  {
   "cell_type": "code",
   "execution_count": null,
   "metadata": {},
   "outputs": [],
   "source": [
    "class Participant:\n",
    "    \"\"\" A class to represent participants in our study. \"\"\"\n",
    "    def __init__(self, sub_nr, condition):\n",
    "        self.sub_nr = sub_nr\n",
    "        self.condition = condition\n",
    "        self.ltt = None  # to be filled in later\n",
    "    \n",
    "    def larger_than_10(self):\n",
    "        \"\"\" Checks if sub_nr is larger than 10. \"\"\"\n",
    "        if self.sub_nr > 10:\n",
    "            ans = 'yes'\n",
    "        else:\n",
    "            ans = 'no'\n",
    "        \n",
    "        # Here, we bind `ans` to `self`! Note that we can call the attribute\n",
    "        # whatever we want! Here, we use `ltt` (Larger Than Ten)\n",
    "        self.ltt = ans\n",
    "        \n",
    "        return ans"
   ]
  },
  {
   "cell_type": "markdown",
   "metadata": {},
   "source": [
    "Note that, if you expect attributes to be created after initialization (i.e., outside the `__init__` method), it is good practice to pre-set this attribute to `None` inside the `__init__` function (as we did above as well). Now, let's see whether it works as expected:"
   ]
  },
  {
   "cell_type": "code",
   "execution_count": null,
   "metadata": {},
   "outputs": [],
   "source": [
    "participant_x = Participant(10, 'caffeine')\n",
    "\n",
    "# After initialization, `ltt` is still None\n",
    "print(participant_x.ltt)\n",
    "\n",
    "# But after calling `larger_than_10`, it is correctly set!\n",
    "participant_x.larger_than_10()\n",
    "print(participant_x.ltt)"
   ]
  },
  {
   "cell_type": "markdown",
   "metadata": {},
   "source": [
    "Now, let's try a slightly harder ToDo!"
   ]
  },
  {
   "cell_type": "markdown",
   "metadata": {},
   "source": [
    "<div class='alert alert-warning'>\n",
    "    <b>ToDo</b>: Create a new method, <tt>add_data</tt>, that takes as a list of numbers as a single (apart from <tt>self</tt>) input argument named <tt>data</tt> and checks whether its length is larger than 4. You can use the built-in function <tt>len</tt> for this. If the list of numbers is larger than 4, add it as an attribute named <tt>data</tt>. If it isn't, do not add it as an attribute. Make sure to pre-set the <tt>data</tt> attribute! \n",
    "</div>"
   ]
  },
  {
   "cell_type": "code",
   "execution_count": null,
   "metadata": {
    "deletable": false,
    "nbgrader": {
     "cell_type": "code",
     "checksum": "3768cf14f6e05cea90c4c2f90a09b8aa",
     "grade": false,
     "grade_id": "cell-7e51ea1a1e08466a",
     "locked": false,
     "schema_version": 3,
     "solution": true,
     "task": false
    },
    "tags": [
     "hide-cell"
    ]
   },
   "outputs": [],
   "source": [
    "\"\"\" Implement your ToDo here. \"\"\"\n",
    "class Participant:\n",
    "    \"\"\" A class to represent participants in our study. \"\"\"\n",
    "    \n",
    "    def __init__(self, sub_nr, condition):\n",
    "        # YOUR CODE HERE\n",
    "        raise NotImplementedError()"
   ]
  },
  {
   "cell_type": "code",
   "execution_count": null,
   "metadata": {
    "deletable": false,
    "editable": false,
    "nbgrader": {
     "cell_type": "code",
     "checksum": "4c0bad07637676cae5ea8a8fb4e2e91f",
     "grade": true,
     "grade_id": "cell-c89603141b3e7ed8",
     "locked": true,
     "points": 0,
     "schema_version": 3,
     "solution": false,
     "task": false
    }
   },
   "outputs": [],
   "source": [
    "\"\"\" Tests the ToDo above. \"\"\"\n",
    "testp = Participant(1, 'water')\n",
    "if not hasattr(testp, 'data'):\n",
    "    raise ValueError(\"It looks like you didn't pre-set the data attribute!\")\n",
    "else:\n",
    "    if testp.data is not None:\n",
    "        raise ValueError(\"Make sure to pre-set the data attribute with None!\")\n",
    "    \n",
    "testp.add_data([1, 2, 3])\n",
    "if testp.data is not None:\n",
    "    raise ValueError(\"The data attribute should not be updated when the length of the list is smaller than 5!\")\n",
    "\n",
    "testp.add_data([1, 2, 3, 4, 5, 6])\n",
    "if testp.data is None:\n",
    "    raise ValueError(\"The data attribute has not been updated ...\")\n",
    "\n",
    "print(\"EPIC! This wasn't easy, but everything works as expected!\")"
   ]
  },
  {
   "cell_type": "markdown",
   "metadata": {},
   "source": [
    "Okay then, let's finish with an even harder ToDo for those that already have some experience with Python. Its solution features quite some more advanced concepts that will be discussed in the upcoming notebooks, so no worries if you can't figure this out!"
   ]
  },
  {
   "cell_type": "markdown",
   "metadata": {},
   "source": [
    "<div class='alert alert-warning'>\n",
    "    <b>ToDo</b>: Modify the <tt>add_data</tt> method such that it <em>only</em> stores data when the input is a list of exactly 10 numbers. Whenever the data (of length 10) is added for the first time, store it as an attribute with the name <tt>data</tt> as before. However, whenever the <tt>add_data</tt> method is called when the <tt>data</tt> attribute already contains a list of 10 numbers, add the 10 new numbers to the corresponding existing numbers: the first number from the new list should be added to the first number from the existing list in the <tt>data</tt> attribute, etc. etc. Also, add a new method called <tt>average_data</tt> that computes the average of each number in the <tt>data</tt> attribute and stores this list of numbers in a new attribute called <tt>current_average</tt>.\n",
    "<br><br>\n",
    "A couple of hints:\n",
    "<ul>\n",
    "    <li>Make sure to pre-set all attributes upon initialization!</li>\n",
    "    <li>Do not cheat by using external packages such as Numpy ;-) </li>\n",
    "</ul>\n",
    "</div>"
   ]
  },
  {
   "cell_type": "code",
   "execution_count": null,
   "metadata": {
    "deletable": false,
    "nbgrader": {
     "cell_type": "code",
     "checksum": "2c4569683860bec2ccfccbc3b69d235b",
     "grade": false,
     "grade_id": "cell-b8b3f1c4550f8c8e",
     "locked": false,
     "schema_version": 3,
     "solution": true,
     "task": false
    },
    "tags": [
     "hide-cell"
    ]
   },
   "outputs": [],
   "source": [
    "\"\"\" Implement your ToDo here. \"\"\"\n",
    "class Participant:\n",
    "    \"\"\" A class to represent participants in our study. \"\"\"\n",
    "\n",
    "    # YOUR CODE HERE\n",
    "    raise NotImplementedError()"
   ]
  },
  {
   "cell_type": "code",
   "execution_count": null,
   "metadata": {
    "deletable": false,
    "editable": false,
    "nbgrader": {
     "cell_type": "code",
     "checksum": "419f87a1fab561dc27bdb86b1c683c4d",
     "grade": true,
     "grade_id": "cell-0446fb31df798216",
     "locked": true,
     "points": 0,
     "schema_version": 3,
     "solution": false,
     "task": false
    }
   },
   "outputs": [],
   "source": [
    "\"\"\" Tests the above ToDo (part 1). \"\"\"\n",
    "from copy import copy\n",
    "\n",
    "testp = Participant(1, 'water')\n",
    "testp.add_data([1, 2, 3])  # should not add it because != length 10\n",
    "if testp.data is not None:\n",
    "    raise ValueError(\"It should only store data with the list contains exactly 10 numbers!\")\n",
    "\n",
    "inp1 = [1, 2, 3, 4, 5, 6, 7, 8, 9, 10]\n",
    "testp.add_data(copy(inp1))\n",
    "if not isinstance(getattr(testp, 'data'), list):\n",
    "    raise ValueError(\"Hmm, the data was not stored although it was exactly of length 10!\")\n",
    "    \n",
    "# Let's add some numbers\n",
    "inp2 = [2, 1, 5, 8, 9, 10, 3, 3, 1, 2]\n",
    "testp.add_data(inp2)\n",
    "for i, (x, y) in enumerate(zip(inp1, inp2)):\n",
    "    if (x + y) != testp.data[i]:\n",
    "        raise ValueError(\"Hmm, the number in position {i+1} is not added correctly ...\")\n",
    "        \n",
    "print(\"YES! Well done so far! Let's see how the next test cell goes ...\")"
   ]
  },
  {
   "cell_type": "code",
   "execution_count": null,
   "metadata": {
    "deletable": false,
    "editable": false,
    "nbgrader": {
     "cell_type": "code",
     "checksum": "f9ce9661c124e801457be16e3c4d861d",
     "grade": true,
     "grade_id": "cell-142feca126bbc9ff",
     "locked": true,
     "points": 0,
     "schema_version": 3,
     "solution": false,
     "task": false
    }
   },
   "outputs": [],
   "source": [
    "\"\"\" Tests the above ToDo (part 2). \"\"\"\n",
    "testp = Participant(1, 'water')\n",
    "testp.add_data(inp1)\n",
    "testp.add_data(inp2)\n",
    "testp.average_data()\n",
    "\n",
    "av = [(i1 + i2) / 2 for i1, i2 in zip(inp1, inp2)]\n",
    "if all(testp.current_average[i] == av[i] for i in range(10)):\n",
    "    print(\"OMG. You're amazing!\")"
   ]
  },
  {
   "cell_type": "markdown",
   "metadata": {},
   "source": [
    "If you're done with this notebook, please continue with the next one, `1_python_basics.ipynb` (but treat yourself to a nice cup of tea or coffee, first &mdash; you deserved it)."
   ]
  }
 ],
 "metadata": {
  "kernelspec": {
   "display_name": "Python 3 (ipykernel)",
   "language": "python",
   "name": "python3"
  },
  "language_info": {
   "codemirror_mode": {
    "name": "ipython",
    "version": 3
   },
   "file_extension": ".py",
   "mimetype": "text/x-python",
   "name": "python",
   "nbconvert_exporter": "python",
   "pygments_lexer": "ipython3",
   "version": "3.10.15"
  },
  "toc": {
   "base_numbering": 1,
   "nav_menu": {},
   "number_sections": true,
   "sideBar": true,
   "skip_h1_title": true,
   "title_cell": "Table of Contents",
   "title_sidebar": "Contents",
   "toc_cell": false,
   "toc_position": {},
   "toc_section_display": true,
   "toc_window_display": false
  },
  "toc-autonumbering": false,
  "toc-showcode": false,
  "toc-showmarkdowntxt": false,
  "toc-showtags": false
 },
 "nbformat": 4,
 "nbformat_minor": 4
}
