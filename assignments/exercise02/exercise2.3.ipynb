{
 "cells": [
  {
   "cell_type": "markdown",
   "id": "ad5b95c31bdafaee",
   "metadata": {
    "collapsed": false
   },
   "source": [
    "State space:    - 4 continuous variables:\n",
    "                    - Cart Position; Limits: [-4.8, 4.8]\n",
    "                    - Cart Velocity; Limits: [-Inf, Inf]\n",
    "                    - Pole Angle; Limits: [-24 deg, 24 deg]\n",
    "                    - Pole Angular Velocity; Limits: [-Inf, Inf]\n",
    "            \n",
    "Action space:   - 2 discrete actions:\n",
    "                    - Push cart to the left\n",
    "                    - Push cart to the right\n",
    "                    \n",
    "Environment dynamics:   - Start: all variables (Cart Position, Cart Velocity, Pole Angle, Pole Angular Velocity) \n",
    "                        start with a random value between -0.05 and +0.05\n",
    "                        - End: \n",
    "                            1. Pole is no longer balanced (angle greater than +-12 degrees)\n",
    "                            2. Cart reaches the edge of the envrionment (Cart Position greater than +-2.4)\n",
    "                            3. Maximum episode length is met (in this case 500 time steps)\n",
    "                            \n",
    "Reward structure:   - Option 1: +1 for each time step the pole is balanced\n",
    "                    - Option 2: 0 for all time steps, -1 when the pole falls (and the episode terminates, see above)"
   ]
  },
  {
   "cell_type": "code",
   "execution_count": 3,
   "id": "initial_id",
   "metadata": {
    "ExecuteTime": {
     "end_time": "2024-11-03T17:12:02.520295400Z",
     "start_time": "2024-11-03T17:12:01.987536900Z"
    },
    "collapsed": true
   },
   "outputs": [],
   "source": [
    "import gymnasium as gym\n",
    "import numpy as np\n",
    "import matplotlib.pyplot as plt\n",
    "import random\n",
    "import time"
   ]
  },
  {
   "cell_type": "code",
   "execution_count": 10,
   "id": "29ffc9db72a6ed31",
   "metadata": {
    "collapsed": false
   },
   "outputs": [
    {
     "name": "stdout",
     "output_type": "stream",
     "text": [
      "[ 0.03746238 -0.21115932  0.04881892  0.26271296]\n",
      "[ 0.03323919 -0.4069429   0.05407317  0.5703855 ]\n",
      "[ 0.02510033 -0.2126193   0.06548089  0.2952159 ]\n",
      "[ 0.02084794 -0.01848901  0.0713852   0.02388216]\n",
      "[ 0.02047816  0.17554046  0.07186285 -0.24545138]\n",
      "[ 0.02398897 -0.02053038  0.06695382  0.06900529]\n",
      "[ 0.02357837 -0.21654518  0.06833392  0.3820384 ]\n",
      "[ 0.01924746 -0.4125675   0.0759747   0.6954602 ]\n",
      "[ 0.01099611 -0.60865635  0.08988389  1.0110601 ]\n",
      "[-1.1770148e-03 -8.0485529e-01  1.1010510e-01  1.3305607e+00]\n",
      "[-0.01727412 -1.0011803   0.1367163   1.6555705 ]\n",
      "[-0.03729773 -1.1976072   0.16982773  1.9875311 ]\n",
      "[-0.06124987 -1.0046263   0.20957835  1.7519137 ]\n"
     ]
    },
    {
     "ename": "",
     "evalue": "",
     "output_type": "error",
     "traceback": [
      "\u001b[1;31mThe Kernel crashed while executing code in the current cell or a previous cell. \n",
      "\u001b[1;31mPlease review the code in the cell(s) to identify a possible cause of the failure. \n",
      "\u001b[1;31mClick <a href='https://aka.ms/vscodeJupyterKernelCrash'>here</a> for more info. \n",
      "\u001b[1;31mView Jupyter <a href='command:jupyter.viewOutput'>log</a> for further details."
     ]
    }
   ],
   "source": [
    "\"\"\"\n",
    "Simple Simulation of the CartPole environment; \n",
    "code structure taken from gym documentation. The loop chooses a random action at each time step.\n",
    "The action is then executed and the environment is rendered. Rendering is delayed by 0.1 seconds after each step,\n",
    "as otherwise the simulation terminates after <1 second and cannot actually be observed by humans.\n",
    "\"\"\"\n",
    "env = gym.make(\"CartPole-v1\", render_mode = \"human\") #Create the environment\n",
    "\n",
    "observation, info = env.reset() #obligatory reset\n",
    "\n",
    "episode_over = False\n",
    "while not episode_over:\n",
    "    action = env.action_space.sample() #sample random action (either 0 or 1, left or right)\n",
    "    observation, reward, terminated, truncated, info = env.step(action) #action is performed\n",
    "    \n",
    "    print(observation)\n",
    "    \n",
    "    env.render() #environment is rendered\n",
    "    time.sleep(0.1) #delay\n",
    "    \n",
    "    #if either a termination condition is met or the maximum episode length is reached, the loop needs to end\n",
    "    episode_over = terminated or truncated \n",
    "\n",
    "env.close() #close the environment"
   ]
  },
  {
   "cell_type": "code",
   "execution_count": 5,
   "id": "cfba7d062b167abf",
   "metadata": {
    "ExecuteTime": {
     "end_time": "2024-11-03T17:24:09.430523800Z",
     "start_time": "2024-11-03T17:24:09.421043600Z"
    },
    "collapsed": false
   },
   "outputs": [],
   "source": [
    "def simple_policy(observation, borders=False, even=False, lowAngSpeed=False, lowCartSpeed=False):\n",
    "    \"\"\"\n",
    "    Simple policy which uses the given observation to choose whether to push the cart left or right.\n",
    "    \"\"\"\n",
    "    if borders:\n",
    "        if observation[0] < -2.3:\n",
    "            return 1\n",
    "        elif observation[0] > 2.3:\n",
    "            return 0\n",
    "    \n",
    "    if lowAngSpeed:\n",
    "        if observation[3] < -1.5 or observation[3] > 1.5:\n",
    "            return 0 if observation[3] < 0 else 1\n",
    "        \n",
    "    if lowCartSpeed:\n",
    "        if observation[1] < -1.5 or observation[1] > 1.5:\n",
    "            return 0 if observation[1] < 0 else 1\n",
    "    \n",
    "    if even: \n",
    "        if -0.05 < observation[2] < 0.05: #equates to ~3 degrees\n",
    "            return random.choice([0, 1])\n",
    "    \n",
    "    return 0 if observation[2] < 0 else 1 #if the pole leans left, push cart left, otherwise push cart right"
   ]
  },
  {
   "cell_type": "code",
   "execution_count": 6,
   "id": "375f378644d6b91",
   "metadata": {
    "ExecuteTime": {
     "end_time": "2024-11-03T17:24:11.203756300Z",
     "start_time": "2024-11-03T17:24:11.186950Z"
    },
    "collapsed": false
   },
   "outputs": [],
   "source": [
    "def run_env(borders=False, even=False, lowAngSpeed=False, lowCartSpeed=False, render=False):\n",
    "    \"\"\"\n",
    "    Execution of the CartPole environment using own policies; rest as above.\n",
    "    \"\"\"\n",
    "    env = gym.make(\"CartPole-v1\") #Create the environment\n",
    "    \n",
    "    observation, info = env.reset() #obligatory reset\n",
    "    \n",
    "    reward_cum = 0\n",
    "    episode_over = False\n",
    "    while not episode_over:\n",
    "        action = simple_policy(observation, borders=borders, even=even, lowAngSpeed=lowAngSpeed, lowCartSpeed=lowCartSpeed)\n",
    "        observation, reward, terminated, truncated, info = env.step(action) #action is performed\n",
    "        \n",
    "        #print(observation) if observation[1] < -1.5 or observation[1] > 1.5 else None\n",
    "        reward_cum += reward\n",
    "        \n",
    "        if render: \n",
    "            env.render() #environment is rendered\n",
    "        \n",
    "        #if either a termination condition is met or the maximum episode length is reached, the loop needs to end\n",
    "        episode_over = terminated or truncated \n",
    "    \n",
    "    env.close() #close the environment\n",
    "    return reward_cum\n"
   ]
  },
  {
   "cell_type": "code",
   "execution_count": 7,
   "id": "f785db876e3cef45",
   "metadata": {
    "ExecuteTime": {
     "end_time": "2024-11-03T17:24:12.784890400Z",
     "start_time": "2024-11-03T17:24:12.769131800Z"
    },
    "collapsed": false
   },
   "outputs": [],
   "source": [
    "def run_episodes(n=100):\n",
    "    \n",
    "    mean_rewards = []\n",
    "    \n",
    "    #simplest form\n",
    "    mean_rewards.append(np.mean([run_env(borders=False, even=False, lowAngSpeed=False, lowCartSpeed=False) for _ in range(n)]))\n",
    "    \n",
    "    #form that generally tries to keep pole upright\n",
    "    mean_rewards.append(np.mean([run_env(borders=False, even=True, lowAngSpeed=False, lowCartSpeed=False) for _ in range(n)]))\n",
    "    \n",
    "    #form that also tries to stay in bounds\n",
    "    mean_rewards.append(np.mean([run_env(borders=True, even=True, lowAngSpeed=False, lowCartSpeed=False) for _ in range(n)]))\n",
    "    \n",
    "    #form that keeps angular speed within limits\n",
    "    mean_rewards.append(np.mean([run_env(borders=True, even=True, lowAngSpeed=True, lowCartSpeed=False) for _ in range(n)]))\n",
    "    \n",
    "    #form that keeps angular speed within limits, but is not concerned with borders\n",
    "    mean_rewards.append(np.mean([run_env(borders=False, even=True, lowAngSpeed=True, lowCartSpeed=False) for _ in range(n)]))\n",
    "    \n",
    "    #form that also keeps cart speed within limits\n",
    "    mean_rewards.append(np.mean([run_env(borders=True, even=True, lowAngSpeed=True, lowCartSpeed=True) for _ in range(n)]))\n",
    "    \n",
    "    return mean_rewards\n"
   ]
  },
  {
   "cell_type": "code",
   "execution_count": 8,
   "id": "994ae01c3d26164a",
   "metadata": {
    "ExecuteTime": {
     "end_time": "2024-11-03T17:25:14.693481300Z",
     "start_time": "2024-11-03T17:24:45.066887600Z"
    },
    "collapsed": false
   },
   "outputs": [
    {
     "name": "stdout",
     "output_type": "stream",
     "text": [
      "[[ 42.58   48.02   50.595 345.345 341.65  250.625]\n",
      " [ 42.25   48.56   46.7   321.845 344.065 249.35 ]\n",
      " [ 41.94   50.545  49.605 346.02  359.83  247.465]\n",
      " [ 42.02   50.25   52.    330.635 333.475 254.175]\n",
      " [ 41.17   48.995  50.87  328.25  347.325 250.985]\n",
      " [ 42.55   49.635  49.53  351.45  329.405 241.17 ]\n",
      " [ 43.5    49.55   49.585 330.02  328.625 252.025]\n",
      " [ 42.67   47.67   48.615 332.785 333.925 235.45 ]\n",
      " [ 42.515  55.245  46.5   340.425 330.205 241.97 ]\n",
      " [ 42.77   49.505  48.675 314.79  326.225 255.26 ]]\n"
     ]
    }
   ],
   "source": [
    "num_policies = 6\n",
    "num_runs = 10\n",
    "\n",
    "mean_reward_array = np.ndarray((num_runs, num_policies))\n",
    "for i in range(num_runs):\n",
    "    mean_rewards = run_episodes(n=200)\n",
    "    mean_reward_array[i] = mean_rewards\n",
    "\n",
    "print(mean_reward_array)"
   ]
  },
  {
   "cell_type": "code",
   "execution_count": 9,
   "id": "40b3a23f3a88de3",
   "metadata": {
    "ExecuteTime": {
     "end_time": "2024-11-03T17:26:05.981059200Z",
     "start_time": "2024-11-03T17:26:05.873265200Z"
    },
    "collapsed": false
   },
   "outputs": [
    {
     "data": {
      "image/png": "[encoded data removed]",
      "text/plain": [
       "<Figure size 640x480 with 1 Axes>"
      ]
     },
     "metadata": {},
     "output_type": "display_data"
    }
   ],
   "source": [
    "for i in range(num_policies):\n",
    "    plt.plot(np.transpose(mean_reward_array)[i], label=f'Policy {i+1}')\n",
    "\n",
    "plt.xlabel('Policy Index')\n",
    "plt.ylabel('Mean Reward')\n",
    "plt.title('Mean Rewards for Different Policies')\n",
    "plt.legend()\n",
    "plt.show()"
   ]
  },
  {
   "cell_type": "markdown",
   "id": "2c46dc9af38a4423",
   "metadata": {
    "collapsed": false
   },
   "source": [
    "It can be clearly seen that the simplest approach, i.e. moving in the opposite direction of the pole's lean is the worst policy.\n",
    "When watching the actual simulation, it can be seen that this very quickly results in overcorrection on the agents part, \n",
    "with the pole oscillating faster and faster, leading to a fall.\n",
    "This is slightly improved by just choosing a random direction when the pole is (nearly) upright. Choosing a random direction \n",
    "is an approach to simulate \"doing nothing\" in a sense, as the pole is already balanced and no action is required.\n",
    "A significant improvement is achieved when correcting for the angular velocity of the pole, as this directly combats the oscillation\n",
    "and therefore the tendency to overcorrect.\n",
    "Interestingly, it can be seen that ensuring that the cart stays within its positional bounds does not significantly improve the \n",
    "performance of the agent. This is likely to the fact that the cart needs a long time to move to the outer edges, meaning that \n",
    "the case in which the cart reaches the edge is rare and therefore does not significantly impact the overall performance.\n",
    "Lastly, taking the cart velocity into consideration does decrease the agents performance. This is probably because it tends to \n",
    "unnecessarily change the direction of the cart, which leads to additional angular velocity for the pole, rather than helping to \n",
    "keep it low and the pole upright."
   ]
  }
 ],
 "metadata": {
  "kernelspec": {
   "display_name": "Python 3",
   "language": "python",
   "name": "python3"
  },
  "language_info": {
   "codemirror_mode": {
    "name": "ipython",
    "version": 3
   },
   "file_extension": ".py",
   "mimetype": "text/x-python",
   "name": "python",
   "nbconvert_exporter": "python",
   "pygments_lexer": "ipython3",
   "version": "3.12.6"
  }
 },
 "nbformat": 4,
 "nbformat_minor": 5
}
