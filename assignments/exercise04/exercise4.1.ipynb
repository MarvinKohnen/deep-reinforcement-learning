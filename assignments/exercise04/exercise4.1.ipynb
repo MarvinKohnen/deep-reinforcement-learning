{
 "cells": [
  {
   "metadata": {},
   "cell_type": "markdown",
   "source": [
    "## Task a)\n",
    "\n",
    "- As behavioural policy, the simple policy from exercise 3.2 is used.\n",
    "- The evaluation of the policy happens as in the on-policy MC approach in exercise 3.2, with 2 notable differences:\n",
    "\t1. The algorithm is now off-policy (it does not use the action-value function to choose the next action at all)\n",
    "\t2. The reward is scaled by the ratio of the target policy to the behavioural policy (importance sampling)\n",
    "\n",
    "Disclaimer:\n",
    "I decided to implement importance sampling on the frozen lake environment rather than the grid-world environment due to its non-deterministic properties. I hope that the results from this exercise are still valuable."
   ],
   "id": "cf52077804849b90"
  },
  {
   "metadata": {
    "ExecuteTime": {
     "end_time": "2025-01-12T20:23:37.369453Z",
     "start_time": "2025-01-12T20:23:37.353998Z"
    }
   },
   "cell_type": "code",
   "source": [
    "import gymnasium as gym\n",
    "import numpy as np\n",
    "import matplotlib.pyplot as plt\n",
    "import random\n",
    "import time"
   ],
   "id": "3b82a39a73cfb3ba",
   "outputs": [],
   "execution_count": 6
  },
  {
   "cell_type": "code",
   "id": "initial_id",
   "metadata": {
    "collapsed": true,
    "ExecuteTime": {
     "end_time": "2025-01-12T21:56:51.156386Z",
     "start_time": "2025-01-12T21:56:51.140287Z"
    }
   },
   "source": [
    "class MCOffPolicy:\n",
    "\tdef __init__(self, gamma=1, epsilon=0.1):\n",
    "\t\tself.moves = [0, 1, 2, 3]\n",
    "\t\tself.probabilities = [0.15, 0.35, 0.35, 0.15]\n",
    "\t\tself.returns = [[[] for _ in range(4)] for _ in range(16)]\n",
    "\t\tself.v = np.random.rand(16, 4)\n",
    "\t\tself.gamma = gamma\n",
    "\t\tself.epsilon = epsilon\n",
    "\n",
    "\n",
    "\tdef behaviour_policy(self, observation):\n",
    "\t\treturn np.random.choice(self.moves, p=self.probabilities)\n",
    "\n",
    "\tdef target_policy(self, observation):\n",
    "\t\treturn np.random.choice(np.asarray(self.v[observation] == np.max(self.v[observation])).nonzero()[0])\n",
    "\n",
    "\tdef evaluate(self, path, actions, rewards):\n",
    "\t\tg = 0\n",
    "\t\tp = 1\n",
    "\t\tfor t in reversed(range(len(path) - 1)):\n",
    "\t\t\t# calculate ratio of target policy to behaviour policy with every step\n",
    "\t\t\t# (generating the relative probability of the trajectory while traversing that same trajectory)\n",
    "\t\t\tif sum(self.v[path[t]]) != 0:\n",
    "\t\t\t\tp = p * ((self.v[path[t]][actions[t]] / sum(self.v[path[t]])) / self.probabilities[actions[t]])\n",
    "\t\t\telse:\n",
    "\t\t\t\tp = p * (0.25 / self.probabilities[actions[t]])\n",
    "\t\t\tg = self.gamma * g + rewards[t]\n",
    "\t\t\tif (path[t], actions[t]) not in zip(path[:t], actions[:t]):\n",
    "\t\t\t\tself.returns[path[t]][actions[t]].append(g*p)  #scale reward g by ratio p\n",
    "\t\t\t\t#self.returns[path[t]][actions[t]].append(g)\n",
    "\t\t\t\tself.v[path[t]][actions[t]] = np.average(self.returns[path[t]][actions[t]])\n",
    "\n",
    "\t\treturn self.v\n",
    "\n",
    "\tdef get_v(self):\n",
    "\t\treturn self.v"
   ],
   "outputs": [],
   "execution_count": 139
  },
  {
   "metadata": {
    "ExecuteTime": {
     "end_time": "2025-01-12T21:56:51.593891Z",
     "start_time": "2025-01-12T21:56:51.578259Z"
    }
   },
   "cell_type": "code",
   "source": [
    "def run_episode(env, policy):\n",
    "    observation, info = env.reset()  #obligatory reset\n",
    "\n",
    "    path = [observation]\n",
    "    rewards = []\n",
    "    actions = []\n",
    "\n",
    "    episode_over = False\n",
    "    while not episode_over:\n",
    "        action = policy.behaviour_policy(observation)\n",
    "        actions.append(action)\n",
    "\n",
    "        observation, reward, terminated, truncated, info = env.step(action)  #action is performed\n",
    "\n",
    "        path.append(observation)\n",
    "        rewards.append(reward)\n",
    "\n",
    "        #if either a termination condition is met or the maximum episode length is reached,\n",
    "        #the loop needs to end\n",
    "        episode_over = terminated or truncated\n",
    "\n",
    "    return path, actions, rewards\n"
   ],
   "id": "ff1d99806ff767c7",
   "outputs": [],
   "execution_count": 140
  },
  {
   "metadata": {
    "ExecuteTime": {
     "end_time": "2025-01-12T21:56:51.954913Z",
     "start_time": "2025-01-12T21:56:51.939285Z"
    }
   },
   "cell_type": "code",
   "source": [
    "def run(policy, n=100):\n",
    "    env = gym.make('FrozenLake-v1', desc=None, map_name=\"4x4\", is_slippery=True)\n",
    "\n",
    "    rewards_list = []\n",
    "    for _ in range(n):\n",
    "        path, actions, rewards = run_episode(env, policy)\n",
    "        policy.evaluate(path, actions, rewards)\n",
    "        rewards_list.append(rewards[-1])\n",
    "\n",
    "    return policy.get_v(), rewards_list"
   ],
   "id": "bb85bfecd8dece24",
   "outputs": [],
   "execution_count": 141
  },
  {
   "metadata": {
    "ExecuteTime": {
     "end_time": "2025-01-12T21:56:56.933497Z",
     "start_time": "2025-01-12T21:56:53.440274Z"
    }
   },
   "cell_type": "code",
   "source": [
    "policy = MCOffPolicy(gamma=1)\n",
    "value_func, rewards_list = run(policy, n=10000)\n",
    "print(value_func)\n",
    "print(sum(rewards_list))"
   ],
   "id": "4751420dc5343cba",
   "outputs": [
    {
     "name": "stdout",
     "output_type": "stream",
     "text": [
      "[[0.00000000e+00 0.00000000e+00 4.02769113e-04 0.00000000e+00]\n",
      " [0.00000000e+00 0.00000000e+00 2.63492389e-04 0.00000000e+00]\n",
      " [0.00000000e+00 1.46246727e-03 0.00000000e+00 0.00000000e+00]\n",
      " [0.00000000e+00 0.00000000e+00 0.00000000e+00 0.00000000e+00]\n",
      " [3.03601825e-04 0.00000000e+00 0.00000000e+00 0.00000000e+00]\n",
      " [3.31647663e-01 5.62116599e-01 3.57664542e-01 2.24051976e-01]\n",
      " [0.00000000e+00 1.01760974e-02 0.00000000e+00 0.00000000e+00]\n",
      " [6.86335828e-01 6.34916442e-01 8.74101135e-01 7.10040329e-01]\n",
      " [0.00000000e+00 1.70653887e-01 0.00000000e+00 0.00000000e+00]\n",
      " [0.00000000e+00 0.00000000e+00 2.26710285e-01 0.00000000e+00]\n",
      " [0.00000000e+00 0.00000000e+00 4.88334928e-01 0.00000000e+00]\n",
      " [8.74689974e-01 8.16476229e-01 3.38463568e-01 7.75499213e-01]\n",
      " [5.14158477e-01 8.43510228e-01 4.71820292e-01 3.98528469e-01]\n",
      " [0.00000000e+00 4.08425919e-01 0.00000000e+00 0.00000000e+00]\n",
      " [0.00000000e+00 0.00000000e+00 1.27419205e+00 0.00000000e+00]\n",
      " [2.10743893e-01 5.77900328e-01 3.98297979e-01 2.38599473e-02]]\n",
      "205.0\n"
     ]
    }
   ],
   "execution_count": 142
  },
  {
   "metadata": {
    "ExecuteTime": {
     "end_time": "2025-01-12T21:56:57.157022Z",
     "start_time": "2025-01-12T21:56:56.938162Z"
    }
   },
   "cell_type": "code",
   "source": [
    "optimal_policy = np.asarray(list(map(np.argmax, value_func))).reshape(4, 4)\n",
    "actions_labels = ['←', '↓', '→', '↑']\n",
    "policy_grid = np.array([[actions_labels[action] for action in row] for row in optimal_policy])\n",
    "\n",
    "fig, ax = plt.subplots()\n",
    "ax.set_title('Optimal Policy')\n",
    "ax.axis('off')\n",
    "table = ax.table(cellText=policy_grid, loc='center', cellLoc='center')\n",
    "table.scale(1, 4)\n",
    "plt.show()\n",
    "\n",
    "fig, axes = plt.subplots(1, 4, figsize=(20, 5))\n",
    "for a in range(4):\n",
    "    ax = axes[a]\n",
    "    q_values = value_func[:, a].reshape(4, 4)\n",
    "    im = ax.imshow(q_values, vmin=np.min(value_func), vmax=np.max(value_func), cmap='viridis')\n",
    "    ax.set_title(\"Action: %s\" % actions_labels[a])\n",
    "    ax.set_xticks([]) # remove x-axis ticks\n",
    "    ax.set_yticks([]) # remove y-axis ticks\n",
    "fig.colorbar(im, ax=axes.ravel().tolist())\n",
    "plt.show()"
   ],
   "id": "3bee8015c5f2178a",
   "outputs": [
    {
     "data": {
      "text/plain": [
       "<Figure size 640x480 with 1 Axes>"
      ],
      "image/png": "[encoded data removed]"
     },
     "metadata": {},
     "output_type": "display_data"
    },
    {
     "data": {
      "text/plain": [
       "<Figure size 2000x500 with 5 Axes>"
      ],
      "image/png": "[encoded data removed]"
     },
     "metadata": {},
     "output_type": "display_data"
    }
   ],
   "execution_count": 143
  },
  {
   "metadata": {
    "ExecuteTime": {
     "end_time": "2025-01-12T21:56:57.188648Z",
     "start_time": "2025-01-12T21:56:57.174547Z"
    }
   },
   "cell_type": "code",
   "source": [
    "def run_episode_target(env, policy):\n",
    "    observation, info = env.reset()  #obligatory reset\n",
    "\n",
    "    path = [observation]\n",
    "    rewards = []\n",
    "    actions = []\n",
    "\n",
    "    episode_over = False\n",
    "    while not episode_over:\n",
    "        action = policy.target_policy(observation)\n",
    "        actions.append(action)\n",
    "\n",
    "        observation, reward, terminated, truncated, info = env.step(action)  #action is performed\n",
    "\n",
    "        path.append(observation)\n",
    "        rewards.append(reward)\n",
    "\n",
    "        #if either a termination condition is met or the maximum episode length is reached,\n",
    "        #the loop needs to end\n",
    "        episode_over = terminated or truncated\n",
    "\n",
    "    return path, actions, rewards"
   ],
   "id": "6b439f43b860c749",
   "outputs": [],
   "execution_count": 144
  },
  {
   "metadata": {
    "ExecuteTime": {
     "end_time": "2025-01-12T21:56:57.219905Z",
     "start_time": "2025-01-12T21:56:57.204376Z"
    }
   },
   "cell_type": "code",
   "source": [
    "def run_target(policy, n=100):\n",
    "    env = gym.make('FrozenLake-v1', desc=None, map_name=\"4x4\", is_slippery=True)\n",
    "\n",
    "    rewards_list = []\n",
    "    for _ in range(n):\n",
    "        path, actions, rewards = run_episode_target(env, policy)\n",
    "        rewards_list.append(rewards[-1])\n",
    "\n",
    "    return policy.get_v(), rewards_list"
   ],
   "id": "b1ca635099e72790",
   "outputs": [],
   "execution_count": 145
  },
  {
   "metadata": {
    "ExecuteTime": {
     "end_time": "2025-01-12T21:56:38.114312Z",
     "start_time": "2025-01-12T21:56:37.890315Z"
    }
   },
   "cell_type": "code",
   "source": [
    "#evaluationg when not using importance sampling\n",
    "value_func, rewards_list = run_target(policy, n=1000)\n",
    "print(value_func)\n",
    "print(sum(rewards_list))"
   ],
   "id": "7ef2aa60f64affb2",
   "outputs": [
    {
     "name": "stdout",
     "output_type": "stream",
     "text": [
      "[[0.02611421 0.02113715 0.0212554  0.02067356]\n",
      " [0.01484099 0.02149858 0.01400934 0.02036199]\n",
      " [0.02608696 0.03103914 0.02952603 0.01399689]\n",
      " [0.0132626  0.01424501 0.00470958 0.01230769]\n",
      " [0.03604903 0.02836389 0.02811776 0.00995025]\n",
      " [0.87297365 0.74684163 0.95750578 0.63876626]\n",
      " [0.07171315 0.07731959 0.04562044 0.02066116]\n",
      " [0.4936818  0.56729066 0.01291615 0.60378799]\n",
      " [0.03533569 0.05819672 0.05335366 0.05769231]\n",
      " [0.07936508 0.15863454 0.13701431 0.09174312]\n",
      " [0.24475524 0.24919094 0.18918919 0.06369427]\n",
      " [0.68756099 0.31446648 0.14698286 0.99447804]\n",
      " [0.24232401 0.27119407 0.82153105 0.54747759]\n",
      " [0.15833333 0.24680851 0.29493088 0.21487603]\n",
      " [0.35051546 0.59512195 0.52830189 0.50515464]\n",
      " [0.95489859 0.81715061 0.65991594 0.32290577]]\n",
      "191.0\n"
     ]
    }
   ],
   "execution_count": 138
  },
  {
   "metadata": {
    "ExecuteTime": {
     "end_time": "2025-01-12T21:57:05.267878Z",
     "start_time": "2025-01-12T21:57:05.150373Z"
    }
   },
   "cell_type": "code",
   "source": [
    "#evaluating when using importance sampling\n",
    "value_func, rewards_list = run_target(policy, n=1000)\n",
    "print(value_func)\n",
    "print(sum(rewards_list))"
   ],
   "id": "c6629815f0cd1389",
   "outputs": [
    {
     "name": "stdout",
     "output_type": "stream",
     "text": [
      "[[0.00000000e+00 0.00000000e+00 4.02769113e-04 0.00000000e+00]\n",
      " [0.00000000e+00 0.00000000e+00 2.63492389e-04 0.00000000e+00]\n",
      " [0.00000000e+00 1.46246727e-03 0.00000000e+00 0.00000000e+00]\n",
      " [0.00000000e+00 0.00000000e+00 0.00000000e+00 0.00000000e+00]\n",
      " [3.03601825e-04 0.00000000e+00 0.00000000e+00 0.00000000e+00]\n",
      " [3.31647663e-01 5.62116599e-01 3.57664542e-01 2.24051976e-01]\n",
      " [0.00000000e+00 1.01760974e-02 0.00000000e+00 0.00000000e+00]\n",
      " [6.86335828e-01 6.34916442e-01 8.74101135e-01 7.10040329e-01]\n",
      " [0.00000000e+00 1.70653887e-01 0.00000000e+00 0.00000000e+00]\n",
      " [0.00000000e+00 0.00000000e+00 2.26710285e-01 0.00000000e+00]\n",
      " [0.00000000e+00 0.00000000e+00 4.88334928e-01 0.00000000e+00]\n",
      " [8.74689974e-01 8.16476229e-01 3.38463568e-01 7.75499213e-01]\n",
      " [5.14158477e-01 8.43510228e-01 4.71820292e-01 3.98528469e-01]\n",
      " [0.00000000e+00 4.08425919e-01 0.00000000e+00 0.00000000e+00]\n",
      " [0.00000000e+00 0.00000000e+00 1.27419205e+00 0.00000000e+00]\n",
      " [2.10743893e-01 5.77900328e-01 3.98297979e-01 2.38599473e-02]]\n",
      "42.0\n"
     ]
    }
   ],
   "execution_count": 150
  },
  {
   "metadata": {},
   "cell_type": "markdown",
   "source": [
    "#### Reflection:\n",
    "- The use of importance sampling can improve a given problem, but as it drastically increases variance, the sample size needs to increase in the same drastic manner to combat this effect.\n",
    "- Due to this increased variance, both the convergence speed and the accuracy can be affected negatively, however, in some environments the final accuracy after convergence should be better than without importance sampling.\n",
    "- In an environment such as the one presented here (with non-deterministic action effects), I believe that the increased variance when using importance sampling combined with the variance caused by the non-deterministic environment leads to worse results when using importance sampling than without, especially with lower sample sizes.\n",
    "- In fact, in this case, just using off-policy MC led to the agent reaching the goal roughly 20% of the time, while when including importance sampling, it only reaches the goal 4-5% of the time."
   ],
   "id": "475d5c8d6e4abf42"
  }
 ],
 "metadata": {
  "kernelspec": {
   "display_name": "Python 3",
   "language": "python",
   "name": "python3"
  },
  "language_info": {
   "codemirror_mode": {
    "name": "ipython",
    "version": 2
   },
   "file_extension": ".py",
   "mimetype": "text/x-python",
   "name": "python",
   "nbconvert_exporter": "python",
   "pygments_lexer": "ipython2",
   "version": "2.7.6"
  }
 },
 "nbformat": 4,
 "nbformat_minor": 5
}
