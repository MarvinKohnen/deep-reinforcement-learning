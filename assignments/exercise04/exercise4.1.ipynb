{
 "cells": [
  {
   "metadata": {},
   "cell_type": "markdown",
   "source": [
    "## Task a)\n",
    "\n",
    "- As behavioural policy, the simple policy from exercise 3.2 is used.\n",
    "- The evaluation of the policy happens as in the on-policy MC approach in exercise 3.2, with 2 notable differences:\n",
    "\t1. The algorithm is now off-policy (it does not use the action-value function to choose the next action at all)\n",
    "\t2. The reward is scaled by the ratio of the target policy to the behavioural policy (importance sampling)\n",
    "\n",
    "Disclaimer:\n",
    "I decided to implement importance sampling on the frozen lake environment rather than the grid-world environment due to its non-deterministic properties. I hope that the results from this exercise are still valuable."
   ],
   "id": "cf52077804849b90"
  },
  {
   "metadata": {
    "ExecuteTime": {
     "end_time": "2025-01-12T22:20:56.207650Z",
     "start_time": "2025-01-12T22:20:56.088074Z"
    }
   },
   "cell_type": "code",
   "source": [
    "import gymnasium as gym\n",
    "import numpy as np\n",
    "import matplotlib.pyplot as plt\n",
    "import random\n",
    "import time"
   ],
   "id": "3b82a39a73cfb3ba",
   "outputs": [],
   "execution_count": 1
  },
  {
   "cell_type": "code",
   "id": "initial_id",
   "metadata": {
    "collapsed": true,
    "ExecuteTime": {
     "end_time": "2025-01-12T22:21:16.716101Z",
     "start_time": "2025-01-12T22:21:16.700434Z"
    }
   },
   "source": [
    "class MCOffPolicy:\n",
    "\tdef __init__(self, gamma=1, epsilon=0.1):\n",
    "\t\tself.moves = [0, 1, 2, 3]\n",
    "\t\tself.probabilities = [0.15, 0.35, 0.35, 0.15]\n",
    "\t\tself.returns = [[[] for _ in range(4)] for _ in range(16)]\n",
    "\t\tself.v = np.random.rand(16, 4)\n",
    "\t\tself.gamma = gamma\n",
    "\t\tself.epsilon = epsilon\n",
    "\n",
    "\n",
    "\tdef behaviour_policy(self, observation):\n",
    "\t\treturn np.random.choice(self.moves, p=self.probabilities)\n",
    "\n",
    "\tdef target_policy(self, observation):\n",
    "\t\treturn np.random.choice(np.asarray(self.v[observation] == np.max(self.v[observation])).nonzero()[0])\n",
    "\n",
    "\tdef evaluate(self, path, actions, rewards):\n",
    "\t\tg = 0\n",
    "\t\tp = 1\n",
    "\t\tfor t in reversed(range(len(path) - 1)):\n",
    "\t\t\t# calculate ratio of target policy to behaviour policy with every step\n",
    "\t\t\t# (generating the relative probability of the trajectory while traversing that same trajectory)\n",
    "\t\t\tif sum(self.v[path[t]]) != 0:\n",
    "\t\t\t\tp = p * ((self.v[path[t]][actions[t]] / sum(self.v[path[t]])) / self.probabilities[actions[t]])\n",
    "\t\t\telse:\n",
    "\t\t\t\tp = p * (0.25 / self.probabilities[actions[t]])\n",
    "\t\t\tg = self.gamma * g + rewards[t]\n",
    "\t\t\tif (path[t], actions[t]) not in zip(path[:t], actions[:t]):\n",
    "\t\t\t\tself.returns[path[t]][actions[t]].append(g*p)  #scale reward g by ratio p\n",
    "\t\t\t\t#self.returns[path[t]][actions[t]].append(g)\n",
    "\t\t\t\tself.v[path[t]][actions[t]] = np.average(self.returns[path[t]][actions[t]])\n",
    "\n",
    "\t\treturn self.v\n",
    "\n",
    "\tdef get_v(self):\n",
    "\t\treturn self.v"
   ],
   "outputs": [],
   "execution_count": 10
  },
  {
   "metadata": {
    "ExecuteTime": {
     "end_time": "2025-01-12T22:21:17.391673Z",
     "start_time": "2025-01-12T22:21:17.375867Z"
    }
   },
   "cell_type": "code",
   "source": [
    "def run_episode(env, policy):\n",
    "    observation, info = env.reset()  #obligatory reset\n",
    "\n",
    "    path = [observation]\n",
    "    rewards = []\n",
    "    actions = []\n",
    "\n",
    "    episode_over = False\n",
    "    while not episode_over:\n",
    "        action = policy.behaviour_policy(observation)\n",
    "        actions.append(action)\n",
    "\n",
    "        observation, reward, terminated, truncated, info = env.step(action)  #action is performed\n",
    "\n",
    "        path.append(observation)\n",
    "        rewards.append(reward)\n",
    "\n",
    "        #if either a termination condition is met or the maximum episode length is reached,\n",
    "        #the loop needs to end\n",
    "        episode_over = terminated or truncated\n",
    "\n",
    "    return path, actions, rewards\n"
   ],
   "id": "ff1d99806ff767c7",
   "outputs": [],
   "execution_count": 11
  },
  {
   "metadata": {
    "ExecuteTime": {
     "end_time": "2025-01-12T22:21:17.933146Z",
     "start_time": "2025-01-12T22:21:17.917521Z"
    }
   },
   "cell_type": "code",
   "source": [
    "def run(policy, n=100):\n",
    "    env = gym.make('FrozenLake-v1', desc=None, map_name=\"4x4\", is_slippery=True)\n",
    "\n",
    "    rewards_list = []\n",
    "    for _ in range(n):\n",
    "        path, actions, rewards = run_episode(env, policy)\n",
    "        policy.evaluate(path, actions, rewards)\n",
    "        rewards_list.append(rewards[-1])\n",
    "\n",
    "    return policy.get_v(), rewards_list"
   ],
   "id": "bb85bfecd8dece24",
   "outputs": [],
   "execution_count": 12
  },
  {
   "metadata": {
    "ExecuteTime": {
     "end_time": "2025-01-12T22:21:22.313096Z",
     "start_time": "2025-01-12T22:21:18.495527Z"
    }
   },
   "cell_type": "code",
   "source": [
    "policy = MCOffPolicy(gamma=1)\n",
    "value_func, rewards_list = run(policy, n=10000)\n",
    "print(value_func)\n",
    "print(sum(rewards_list))"
   ],
   "id": "4751420dc5343cba",
   "outputs": [
    {
     "name": "stdout",
     "output_type": "stream",
     "text": [
      "[[0.00000000e+00 0.00000000e+00 1.31523287e-03 0.00000000e+00]\n",
      " [0.00000000e+00 0.00000000e+00 0.00000000e+00 8.52018827e-03]\n",
      " [0.00000000e+00 0.00000000e+00 1.57007476e-03 0.00000000e+00]\n",
      " [0.00000000e+00 0.00000000e+00 0.00000000e+00 0.00000000e+00]\n",
      " [0.00000000e+00 0.00000000e+00 0.00000000e+00 0.00000000e+00]\n",
      " [1.45830918e-01 5.62125150e-01 2.74928314e-01 2.60123451e-01]\n",
      " [0.00000000e+00 3.78821269e-03 0.00000000e+00 0.00000000e+00]\n",
      " [2.87661216e-02 9.04802066e-01 4.90900193e-01 6.05167634e-01]\n",
      " [0.00000000e+00 0.00000000e+00 3.54911201e-04 0.00000000e+00]\n",
      " [0.00000000e+00 0.00000000e+00 1.24602608e-03 0.00000000e+00]\n",
      " [2.99331149e-01 0.00000000e+00 0.00000000e+00 0.00000000e+00]\n",
      " [3.85663771e-01 1.77411239e-01 9.58900044e-02 3.36322482e-01]\n",
      " [2.83130532e-02 6.03529674e-01 7.92159128e-01 9.31001357e-01]\n",
      " [0.00000000e+00 0.00000000e+00 0.00000000e+00 1.27553875e+00]\n",
      " [0.00000000e+00 4.45824436e-02 1.93205693e-02 2.26519788e+00]\n",
      " [5.67549965e-01 9.75866441e-01 7.84049972e-01 4.92821194e-01]]\n",
      "233.0\n"
     ]
    }
   ],
   "execution_count": 13
  },
  {
   "metadata": {
    "ExecuteTime": {
     "end_time": "2025-01-12T22:21:22.517352Z",
     "start_time": "2025-01-12T22:21:22.313096Z"
    }
   },
   "cell_type": "code",
   "source": [
    "optimal_policy = np.asarray(list(map(np.argmax, value_func))).reshape(4, 4)\n",
    "actions_labels = ['←', '↓', '→', '↑']\n",
    "policy_grid = np.array([[actions_labels[action] for action in row] for row in optimal_policy])\n",
    "\n",
    "fig, ax = plt.subplots()\n",
    "ax.set_title('Optimal Policy')\n",
    "ax.axis('off')\n",
    "table = ax.table(cellText=policy_grid, loc='center', cellLoc='center')\n",
    "table.scale(1, 4)\n",
    "plt.show()\n",
    "\n",
    "fig, axes = plt.subplots(1, 4, figsize=(20, 5))\n",
    "for a in range(4):\n",
    "    ax = axes[a]\n",
    "    q_values = value_func[:, a].reshape(4, 4)\n",
    "    im = ax.imshow(q_values, vmin=np.min(value_func), vmax=np.max(value_func), cmap='viridis')\n",
    "    ax.set_title(\"Action: %s\" % actions_labels[a])\n",
    "    ax.set_xticks([]) # remove x-axis ticks\n",
    "    ax.set_yticks([]) # remove y-axis ticks\n",
    "fig.colorbar(im, ax=axes.ravel().tolist())\n",
    "plt.show()"
   ],
   "id": "3bee8015c5f2178a",
   "outputs": [
    {
     "data": {
      "text/plain": [
       "<Figure size 640x480 with 1 Axes>"
      ],
      "image/png": "[encoded data removed]"
     },
     "metadata": {},
     "output_type": "display_data"
    },
    {
     "data": {
      "text/plain": [
       "<Figure size 2000x500 with 5 Axes>"
      ],
      "image/png": "[encoded data removed]"
     },
     "metadata": {},
     "output_type": "display_data"
    }
   ],
   "execution_count": 14
  },
  {
   "metadata": {
    "ExecuteTime": {
     "end_time": "2025-01-12T22:21:25.571786Z",
     "start_time": "2025-01-12T22:21:25.556013Z"
    }
   },
   "cell_type": "code",
   "source": [
    "def run_episode_target(env, policy):\n",
    "    observation, info = env.reset()  #obligatory reset\n",
    "\n",
    "    path = [observation]\n",
    "    rewards = []\n",
    "    actions = []\n",
    "\n",
    "    episode_over = False\n",
    "    while not episode_over:\n",
    "        action = policy.target_policy(observation)\n",
    "        actions.append(action)\n",
    "\n",
    "        observation, reward, terminated, truncated, info = env.step(action)  #action is performed\n",
    "\n",
    "        path.append(observation)\n",
    "        rewards.append(reward)\n",
    "\n",
    "        #if either a termination condition is met or the maximum episode length is reached,\n",
    "        #the loop needs to end\n",
    "        episode_over = terminated or truncated\n",
    "\n",
    "    return path, actions, rewards"
   ],
   "id": "6b439f43b860c749",
   "outputs": [],
   "execution_count": 15
  },
  {
   "metadata": {
    "ExecuteTime": {
     "end_time": "2025-01-12T22:21:26.178111Z",
     "start_time": "2025-01-12T22:21:26.162507Z"
    }
   },
   "cell_type": "code",
   "source": [
    "def run_target(policy, n=100):\n",
    "    env = gym.make('FrozenLake-v1', desc=None, map_name=\"4x4\", is_slippery=True)\n",
    "\n",
    "    rewards_list = []\n",
    "    for _ in range(n):\n",
    "        path, actions, rewards = run_episode_target(env, policy)\n",
    "        rewards_list.append(rewards[-1])\n",
    "\n",
    "    return policy.get_v(), rewards_list"
   ],
   "id": "b1ca635099e72790",
   "outputs": [],
   "execution_count": 16
  },
  {
   "metadata": {
    "ExecuteTime": {
     "end_time": "2025-01-12T22:21:02.536484Z",
     "start_time": "2025-01-12T22:21:02.138394Z"
    }
   },
   "cell_type": "code",
   "source": [
    "#evaluationg when not using importance sampling\n",
    "value_func, rewards_list = run_target(policy, n=1000)\n",
    "print(value_func)\n",
    "total_reward_no_importance_sampling = sum(rewards_list)\n",
    "print(total_reward_no_importance_sampling)"
   ],
   "id": "7ef2aa60f64affb2",
   "outputs": [
    {
     "name": "stdout",
     "output_type": "stream",
     "text": [
      "[[0.02588235 0.02396804 0.0225366  0.02593466]\n",
      " [0.01748252 0.02281491 0.02089757 0.02906977]\n",
      " [0.03633491 0.03095559 0.03785011 0.03012048]\n",
      " [0.02337662 0.01515152 0.00909091 0.02486188]\n",
      " [0.04160689 0.02747626 0.02592    0.02222222]\n",
      " [0.19703793 0.77547328 0.35138506 0.62141583]\n",
      " [0.09387755 0.05564648 0.09734513 0.00787402]\n",
      " [0.95412975 0.2516234  0.11850342 0.14017565]\n",
      " [0.03666667 0.0626506  0.04732824 0.07637655]\n",
      " [0.10699588 0.17283951 0.15028902 0.09090909]\n",
      " [0.30882353 0.26548673 0.19354839 0.08474576]\n",
      " [0.07236748 0.66663746 0.44171728 0.14242001]\n",
      " [0.6598999  0.52730523 0.21306893 0.81238137]\n",
      " [0.1221374  0.24347826 0.27467811 0.25757576]\n",
      " [0.35294118 0.60619469 0.6036036  0.48695652]\n",
      " [0.98865801 0.08875192 0.87894777 0.15410058]]\n",
      "301.0\n"
     ]
    }
   ],
   "execution_count": 9
  },
  {
   "metadata": {
    "ExecuteTime": {
     "end_time": "2025-01-12T22:21:28.946684Z",
     "start_time": "2025-01-12T22:21:28.768539Z"
    }
   },
   "cell_type": "code",
   "source": [
    "#evaluating when using importance sampling\n",
    "value_func, rewards_list = run_target(policy, n=1000)\n",
    "print(value_func)\n",
    "total_reward_importance_sampling = sum(rewards_list)\n",
    "print(total_reward_importance_sampling)"
   ],
   "id": "c6629815f0cd1389",
   "outputs": [
    {
     "name": "stdout",
     "output_type": "stream",
     "text": [
      "[[0.00000000e+00 0.00000000e+00 1.31523287e-03 0.00000000e+00]\n",
      " [0.00000000e+00 0.00000000e+00 0.00000000e+00 8.52018827e-03]\n",
      " [0.00000000e+00 0.00000000e+00 1.57007476e-03 0.00000000e+00]\n",
      " [0.00000000e+00 0.00000000e+00 0.00000000e+00 0.00000000e+00]\n",
      " [0.00000000e+00 0.00000000e+00 0.00000000e+00 0.00000000e+00]\n",
      " [1.45830918e-01 5.62125150e-01 2.74928314e-01 2.60123451e-01]\n",
      " [0.00000000e+00 3.78821269e-03 0.00000000e+00 0.00000000e+00]\n",
      " [2.87661216e-02 9.04802066e-01 4.90900193e-01 6.05167634e-01]\n",
      " [0.00000000e+00 0.00000000e+00 3.54911201e-04 0.00000000e+00]\n",
      " [0.00000000e+00 0.00000000e+00 1.24602608e-03 0.00000000e+00]\n",
      " [2.99331149e-01 0.00000000e+00 0.00000000e+00 0.00000000e+00]\n",
      " [3.85663771e-01 1.77411239e-01 9.58900044e-02 3.36322482e-01]\n",
      " [2.83130532e-02 6.03529674e-01 7.92159128e-01 9.31001357e-01]\n",
      " [0.00000000e+00 0.00000000e+00 0.00000000e+00 1.27553875e+00]\n",
      " [0.00000000e+00 4.45824436e-02 1.93205693e-02 2.26519788e+00]\n",
      " [5.67549965e-01 9.75866441e-01 7.84049972e-01 4.92821194e-01]]\n",
      "39.0\n"
     ]
    }
   ],
   "execution_count": 17
  },
  {
   "metadata": {
    "ExecuteTime": {
     "end_time": "2025-01-12T22:21:33.406837Z",
     "start_time": "2025-01-12T22:21:33.320293Z"
    }
   },
   "cell_type": "code",
   "source": [
    "values = [total_reward_no_importance_sampling, total_reward_importance_sampling]\n",
    "labels = ['Without importance sampling', 'With importance sampling']\n",
    "\n",
    "fig, ax = plt.subplots()\n",
    "ax.bar(labels, values)\n",
    "\n",
    "# Add some text for labels, title, etc.\n",
    "ax.set_xlabel('Labels')\n",
    "ax.set_ylabel('Values')\n",
    "ax.set_title('Total reward over 1000 episodes')\n",
    "\n",
    "# Function to add labels on top of the bars\n",
    "def autolabel(rects):\n",
    "    for rect in rects:\n",
    "        height = rect.get_height()\n",
    "        ax.annotate('{}'.format(height),\n",
    "                    xy=(rect.get_x() + rect.get_width() / 2, height),\n",
    "                    xytext=(0, 3),  # 3 points vertical offset\n",
    "                    textcoords=\"offset points\",\n",
    "                    ha='center', va='bottom')\n",
    "\n",
    "autolabel(ax.patches)\n",
    "\n",
    "plt.show()"
   ],
   "id": "daff8a9eae196e35",
   "outputs": [
    {
     "data": {
      "text/plain": [
       "<Figure size 640x480 with 1 Axes>"
      ],
      "image/png": "[encoded data removed]"
     },
     "metadata": {},
     "output_type": "display_data"
    }
   ],
   "execution_count": 18
  },
  {
   "metadata": {},
   "cell_type": "markdown",
   "source": [
    "#### Reflection:\n",
    "- The use of importance sampling can improve a given problem, but as it drastically increases variance, the sample size needs to increase in the same drastic manner to combat this effect.\n",
    "- Due to this increased variance, both the convergence speed and the accuracy can be affected negatively, however, in some environments the final accuracy after convergence should be better than without importance sampling.\n",
    "- In an environment such as the one presented here (with non-deterministic action effects), I believe that the increased variance when using importance sampling combined with the variance caused by the non-deterministic environment leads to worse results when using importance sampling than without, especially with lower sample sizes.\n",
    "- In fact, in this case, just using off-policy MC led to the agent reaching the goal roughly 30% of the time, while when including importance sampling, it only reaches the goal 4-5% of the time."
   ],
   "id": "475d5c8d6e4abf42"
  }
 ],
 "metadata": {
  "kernelspec": {
   "display_name": "Python 3",
   "language": "python",
   "name": "python3"
  },
  "language_info": {
   "codemirror_mode": {
    "name": "ipython",
    "version": 2
   },
   "file_extension": ".py",
   "mimetype": "text/x-python",
   "name": "python",
   "nbconvert_exporter": "python",
   "pygments_lexer": "ipython2",
   "version": "2.7.6"
  }
 },
 "nbformat": 4,
 "nbformat_minor": 5
}
