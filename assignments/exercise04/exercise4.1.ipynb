{
 "cells": [
  {
   "metadata": {},
   "cell_type": "markdown",
   "source": [
    "## Task a)\n",
    "\n",
    "- As behavioural policy, the simple policy from exercise 3.2 is used.\n",
    "- The evaluation of the policy happens as in the on-policy MC approach in exercise 3.2, with 2 notable differences:\n",
    "\t1. The algorithm is now off-policy (it does not use the action-value function to choose the next action at all)\n",
    "\t2. The reward is scaled by the ratio of the target policy to the behavioural policy (importance sampling)\n",
    "\n",
    "Disclaimer:\n",
    "I decided to implement importance sampling on the frozen lake environment rather than the grid-world environment due to its non-deterministic properties. I hope that the results from this exercise are still valuable."
   ],
   "id": "cf52077804849b90"
  },
  {
   "metadata": {
    "ExecuteTime": {
     "end_time": "2025-01-12T20:23:37.369453Z",
     "start_time": "2025-01-12T20:23:37.353998Z"
    }
   },
   "cell_type": "code",
   "source": [
    "import gymnasium as gym\n",
    "import numpy as np\n",
    "import matplotlib.pyplot as plt\n",
    "import random\n",
    "import time"
   ],
   "id": "3b82a39a73cfb3ba",
   "outputs": [],
   "execution_count": 6
  },
  {
   "cell_type": "code",
   "id": "initial_id",
   "metadata": {
    "collapsed": true,
    "ExecuteTime": {
     "end_time": "2025-01-12T22:06:04.360231Z",
     "start_time": "2025-01-12T22:06:04.328952Z"
    }
   },
   "source": [
    "class MCOffPolicy:\n",
    "\tdef __init__(self, gamma=1, epsilon=0.1):\n",
    "\t\tself.moves = [0, 1, 2, 3]\n",
    "\t\tself.probabilities = [0.15, 0.35, 0.35, 0.15]\n",
    "\t\tself.returns = [[[] for _ in range(4)] for _ in range(16)]\n",
    "\t\tself.v = np.random.rand(16, 4)\n",
    "\t\tself.gamma = gamma\n",
    "\t\tself.epsilon = epsilon\n",
    "\n",
    "\n",
    "\tdef behaviour_policy(self, observation):\n",
    "\t\treturn np.random.choice(self.moves, p=self.probabilities)\n",
    "\n",
    "\tdef target_policy(self, observation):\n",
    "\t\treturn np.random.choice(np.asarray(self.v[observation] == np.max(self.v[observation])).nonzero()[0])\n",
    "\n",
    "\tdef evaluate(self, path, actions, rewards):\n",
    "\t\tg = 0\n",
    "\t\tp = 1\n",
    "\t\tfor t in reversed(range(len(path) - 1)):\n",
    "\t\t\t# calculate ratio of target policy to behaviour policy with every step\n",
    "\t\t\t# (generating the relative probability of the trajectory while traversing that same trajectory)\n",
    "\t\t\tif sum(self.v[path[t]]) != 0:\n",
    "\t\t\t\tp = p * ((self.v[path[t]][actions[t]] / sum(self.v[path[t]])) / self.probabilities[actions[t]])\n",
    "\t\t\telse:\n",
    "\t\t\t\tp = p * (0.25 / self.probabilities[actions[t]])\n",
    "\t\t\tg = self.gamma * g + rewards[t]\n",
    "\t\t\tif (path[t], actions[t]) not in zip(path[:t], actions[:t]):\n",
    "\t\t\t\tself.returns[path[t]][actions[t]].append(g*p)  #scale reward g by ratio p\n",
    "\t\t\t\t#self.returns[path[t]][actions[t]].append(g)\n",
    "\t\t\t\tself.v[path[t]][actions[t]] = np.average(self.returns[path[t]][actions[t]])\n",
    "\n",
    "\t\treturn self.v\n",
    "\n",
    "\tdef get_v(self):\n",
    "\t\treturn self.v"
   ],
   "outputs": [],
   "execution_count": 162
  },
  {
   "metadata": {
    "ExecuteTime": {
     "end_time": "2025-01-12T22:06:04.799878Z",
     "start_time": "2025-01-12T22:06:04.790885Z"
    }
   },
   "cell_type": "code",
   "source": [
    "def run_episode(env, policy):\n",
    "    observation, info = env.reset()  #obligatory reset\n",
    "\n",
    "    path = [observation]\n",
    "    rewards = []\n",
    "    actions = []\n",
    "\n",
    "    episode_over = False\n",
    "    while not episode_over:\n",
    "        action = policy.behaviour_policy(observation)\n",
    "        actions.append(action)\n",
    "\n",
    "        observation, reward, terminated, truncated, info = env.step(action)  #action is performed\n",
    "\n",
    "        path.append(observation)\n",
    "        rewards.append(reward)\n",
    "\n",
    "        #if either a termination condition is met or the maximum episode length is reached,\n",
    "        #the loop needs to end\n",
    "        episode_over = terminated or truncated\n",
    "\n",
    "    return path, actions, rewards\n"
   ],
   "id": "ff1d99806ff767c7",
   "outputs": [],
   "execution_count": 163
  },
  {
   "metadata": {
    "ExecuteTime": {
     "end_time": "2025-01-12T22:06:05.272504Z",
     "start_time": "2025-01-12T22:06:05.256737Z"
    }
   },
   "cell_type": "code",
   "source": [
    "def run(policy, n=100):\n",
    "    env = gym.make('FrozenLake-v1', desc=None, map_name=\"4x4\", is_slippery=True)\n",
    "\n",
    "    rewards_list = []\n",
    "    for _ in range(n):\n",
    "        path, actions, rewards = run_episode(env, policy)\n",
    "        policy.evaluate(path, actions, rewards)\n",
    "        rewards_list.append(rewards[-1])\n",
    "\n",
    "    return policy.get_v(), rewards_list"
   ],
   "id": "bb85bfecd8dece24",
   "outputs": [],
   "execution_count": 164
  },
  {
   "metadata": {
    "ExecuteTime": {
     "end_time": "2025-01-12T22:06:23.568711Z",
     "start_time": "2025-01-12T22:06:19.980246Z"
    }
   },
   "cell_type": "code",
   "source": [
    "policy = MCOffPolicy(gamma=1)\n",
    "value_func, rewards_list = run(policy, n=10000)\n",
    "print(value_func)\n",
    "print(sum(rewards_list))"
   ],
   "id": "4751420dc5343cba",
   "outputs": [
    {
     "name": "stdout",
     "output_type": "stream",
     "text": [
      "[[0.         0.         0.00545642 0.        ]\n",
      " [0.         0.02105552 0.         0.        ]\n",
      " [0.         0.         0.06824902 0.        ]\n",
      " [0.         0.         0.         0.        ]\n",
      " [0.         0.         0.         0.        ]\n",
      " [0.59700859 0.29063103 0.80458862 0.29466706]\n",
      " [0.         0.         0.43129188 0.        ]\n",
      " [0.65036608 0.76760838 0.01151081 0.95227877]\n",
      " [0.         0.         0.01682176 0.        ]\n",
      " [0.         0.         0.49517207 0.        ]\n",
      " [1.78222991 0.         0.         0.        ]\n",
      " [0.08871011 0.30877124 0.14755042 0.8581423 ]\n",
      " [0.96371839 0.54373845 0.25477307 0.77536229]\n",
      " [0.         0.         0.         2.14663643]\n",
      " [0.         0.         0.         2.05607057]\n",
      " [0.3673071  0.12730693 0.2460183  0.66504114]]\n",
      "257.0\n"
     ]
    }
   ],
   "execution_count": 168
  },
  {
   "metadata": {
    "ExecuteTime": {
     "end_time": "2025-01-12T22:06:28.875756Z",
     "start_time": "2025-01-12T22:06:28.334293Z"
    }
   },
   "cell_type": "code",
   "source": [
    "optimal_policy = np.asarray(list(map(np.argmax, value_func))).reshape(4, 4)\n",
    "actions_labels = ['←', '↓', '→', '↑']\n",
    "policy_grid = np.array([[actions_labels[action] for action in row] for row in optimal_policy])\n",
    "\n",
    "fig, ax = plt.subplots()\n",
    "ax.set_title('Optimal Policy')\n",
    "ax.axis('off')\n",
    "table = ax.table(cellText=policy_grid, loc='center', cellLoc='center')\n",
    "table.scale(1, 4)\n",
    "plt.show()\n",
    "\n",
    "fig, axes = plt.subplots(1, 4, figsize=(20, 5))\n",
    "for a in range(4):\n",
    "    ax = axes[a]\n",
    "    q_values = value_func[:, a].reshape(4, 4)\n",
    "    im = ax.imshow(q_values, vmin=np.min(value_func), vmax=np.max(value_func), cmap='viridis')\n",
    "    ax.set_title(\"Action: %s\" % actions_labels[a])\n",
    "    ax.set_xticks([]) # remove x-axis ticks\n",
    "    ax.set_yticks([]) # remove y-axis ticks\n",
    "fig.colorbar(im, ax=axes.ravel().tolist())\n",
    "plt.show()"
   ],
   "id": "3bee8015c5f2178a",
   "outputs": [
    {
     "data": {
      "text/plain": [
       "<Figure size 640x480 with 1 Axes>"
      ],
      "image/png": "[encoded data removed]"
     },
     "metadata": {},
     "output_type": "display_data"
    },
    {
     "data": {
      "text/plain": [
       "<Figure size 2000x500 with 5 Axes>"
      ],
      "image/png": "[encoded data removed]"
     },
     "metadata": {},
     "output_type": "display_data"
    }
   ],
   "execution_count": 169
  },
  {
   "metadata": {
    "ExecuteTime": {
     "end_time": "2025-01-12T22:06:35.339795Z",
     "start_time": "2025-01-12T22:06:35.325788Z"
    }
   },
   "cell_type": "code",
   "source": [
    "def run_episode_target(env, policy):\n",
    "    observation, info = env.reset()  #obligatory reset\n",
    "\n",
    "    path = [observation]\n",
    "    rewards = []\n",
    "    actions = []\n",
    "\n",
    "    episode_over = False\n",
    "    while not episode_over:\n",
    "        action = policy.target_policy(observation)\n",
    "        actions.append(action)\n",
    "\n",
    "        observation, reward, terminated, truncated, info = env.step(action)  #action is performed\n",
    "\n",
    "        path.append(observation)\n",
    "        rewards.append(reward)\n",
    "\n",
    "        #if either a termination condition is met or the maximum episode length is reached,\n",
    "        #the loop needs to end\n",
    "        episode_over = terminated or truncated\n",
    "\n",
    "    return path, actions, rewards"
   ],
   "id": "6b439f43b860c749",
   "outputs": [],
   "execution_count": 170
  },
  {
   "metadata": {
    "ExecuteTime": {
     "end_time": "2025-01-12T22:06:37.165571Z",
     "start_time": "2025-01-12T22:06:37.150135Z"
    }
   },
   "cell_type": "code",
   "source": [
    "def run_target(policy, n=100):\n",
    "    env = gym.make('FrozenLake-v1', desc=None, map_name=\"4x4\", is_slippery=True)\n",
    "\n",
    "    rewards_list = []\n",
    "    for _ in range(n):\n",
    "        path, actions, rewards = run_episode_target(env, policy)\n",
    "        rewards_list.append(rewards[-1])\n",
    "\n",
    "    return policy.get_v(), rewards_list"
   ],
   "id": "b1ca635099e72790",
   "outputs": [],
   "execution_count": 171
  },
  {
   "metadata": {
    "ExecuteTime": {
     "end_time": "2025-01-12T22:05:52.467333Z",
     "start_time": "2025-01-12T22:05:51.891738Z"
    }
   },
   "cell_type": "code",
   "source": [
    "#evaluationg when not using importance sampling\n",
    "value_func, rewards_list = run_target(policy, n=1000)\n",
    "print(value_func)\n",
    "total_reward_no_importance_sampling = sum(rewards_list)\n",
    "print(total_reward_no_importance_sampling)"
   ],
   "id": "7ef2aa60f64affb2",
   "outputs": [
    {
     "name": "stdout",
     "output_type": "stream",
     "text": [
      "[[0.02603319 0.02485784 0.02523087 0.02403521]\n",
      " [0.01966292 0.02066116 0.0174642  0.02260739]\n",
      " [0.04180064 0.02731092 0.04192073 0.01204819]\n",
      " [0.00268817 0.01010101 0.         0.01302932]\n",
      " [0.03701068 0.02935154 0.02863578 0.01614087]\n",
      " [0.0820599  0.37911004 0.64560734 0.15901644]\n",
      " [0.06557377 0.07169118 0.08391608 0.01702128]\n",
      " [0.11324097 0.47259444 0.7310512  0.66273204]\n",
      " [0.03135889 0.06607575 0.06152648 0.08595041]\n",
      " [0.08035714 0.17938144 0.15730337 0.11206897]\n",
      " [0.28275862 0.230563   0.2132964  0.10738255]\n",
      " [0.67811833 0.6782859  0.03090151 0.35221122]\n",
      " [0.92271025 0.0212131  0.42033404 0.13896958]\n",
      " [0.1637931  0.26086957 0.30543933 0.24264706]\n",
      " [0.37634409 0.57619048 0.625      0.54545455]\n",
      " [0.51004967 0.07688178 0.8238438  0.06029282]]\n",
      "620.0\n"
     ]
    }
   ],
   "execution_count": 161
  },
  {
   "metadata": {
    "ExecuteTime": {
     "end_time": "2025-01-12T22:06:53.982602Z",
     "start_time": "2025-01-12T22:06:53.865893Z"
    }
   },
   "cell_type": "code",
   "source": [
    "#evaluating when using importance sampling\n",
    "value_func, rewards_list = run_target(policy, n=1000)\n",
    "print(value_func)\n",
    "total_reward_importance_sampling = sum(rewards_list)\n",
    "print(total_reward_importance_sampling)"
   ],
   "id": "c6629815f0cd1389",
   "outputs": [
    {
     "name": "stdout",
     "output_type": "stream",
     "text": [
      "[[0.         0.         0.00545642 0.        ]\n",
      " [0.         0.02105552 0.         0.        ]\n",
      " [0.         0.         0.06824902 0.        ]\n",
      " [0.         0.         0.         0.        ]\n",
      " [0.         0.         0.         0.        ]\n",
      " [0.59700859 0.29063103 0.80458862 0.29466706]\n",
      " [0.         0.         0.43129188 0.        ]\n",
      " [0.65036608 0.76760838 0.01151081 0.95227877]\n",
      " [0.         0.         0.01682176 0.        ]\n",
      " [0.         0.         0.49517207 0.        ]\n",
      " [1.78222991 0.         0.         0.        ]\n",
      " [0.08871011 0.30877124 0.14755042 0.8581423 ]\n",
      " [0.96371839 0.54373845 0.25477307 0.77536229]\n",
      " [0.         0.         0.         2.14663643]\n",
      " [0.         0.         0.         2.05607057]\n",
      " [0.3673071  0.12730693 0.2460183  0.66504114]]\n",
      "38.0\n"
     ]
    }
   ],
   "execution_count": 176
  },
  {
   "metadata": {
    "ExecuteTime": {
     "end_time": "2025-01-12T22:08:51.077619Z",
     "start_time": "2025-01-12T22:08:50.983385Z"
    }
   },
   "cell_type": "code",
   "source": [
    "values = [total_reward_no_importance_sampling, total_reward_importance_sampling]\n",
    "labels = ['Without importance sampling', 'With importance sampling']\n",
    "\n",
    "fig, ax = plt.subplots()\n",
    "ax.bar(labels, values)\n",
    "\n",
    "# Add some text for labels, title, etc.\n",
    "ax.set_xlabel('Labels')\n",
    "ax.set_ylabel('Values')\n",
    "ax.set_title('Total reward over 1000 episodes')\n",
    "\n",
    "# Function to add labels on top of the bars\n",
    "def autolabel(rects):\n",
    "    for rect in rects:\n",
    "        height = rect.get_height()\n",
    "        ax.annotate('{}'.format(height),\n",
    "                    xy=(rect.get_x() + rect.get_width() / 2, height),\n",
    "                    xytext=(0, 3),  # 3 points vertical offset\n",
    "                    textcoords=\"offset points\",\n",
    "                    ha='center', va='bottom')\n",
    "\n",
    "autolabel(ax.patches)\n",
    "\n",
    "plt.show()"
   ],
   "id": "daff8a9eae196e35",
   "outputs": [
    {
     "data": {
      "text/plain": [
       "<Figure size 640x480 with 1 Axes>"
      ],
      "image/png": "[encoded data removed]"
     },
     "metadata": {},
     "output_type": "display_data"
    }
   ],
   "execution_count": 177
  },
  {
   "metadata": {},
   "cell_type": "markdown",
   "source": [
    "#### Reflection:\n",
    "- The use of importance sampling can improve a given problem, but as it drastically increases variance, the sample size needs to increase in the same drastic manner to combat this effect.\n",
    "- Due to this increased variance, both the convergence speed and the accuracy can be affected negatively, however, in some environments the final accuracy after convergence should be better than without importance sampling.\n",
    "- In an environment such as the one presented here (with non-deterministic action effects), I believe that the increased variance when using importance sampling combined with the variance caused by the non-deterministic environment leads to worse results when using importance sampling than without, especially with lower sample sizes.\n",
    "- In fact, in this case, just using off-policy MC led to the agent reaching the goal roughly 20% of the time, while when including importance sampling, it only reaches the goal 4-5% of the time."
   ],
   "id": "475d5c8d6e4abf42"
  }
 ],
 "metadata": {
  "kernelspec": {
   "display_name": "Python 3",
   "language": "python",
   "name": "python3"
  },
  "language_info": {
   "codemirror_mode": {
    "name": "ipython",
    "version": 2
   },
   "file_extension": ".py",
   "mimetype": "text/x-python",
   "name": "python",
   "nbconvert_exporter": "python",
   "pygments_lexer": "ipython2",
   "version": "2.7.6"
  }
 },
 "nbformat": 4,
 "nbformat_minor": 5
}
