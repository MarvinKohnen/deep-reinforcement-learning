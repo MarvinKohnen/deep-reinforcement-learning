{
 "cells": [
  {
   "cell_type": "markdown",
   "source": [
    "# Exercise 3.2"
   ],
   "metadata": {
    "collapsed": false
   },
   "id": "7d1bca9ebe67cd5a"
  },
  {
   "cell_type": "code",
   "execution_count": 2,
   "id": "initial_id",
   "metadata": {
    "collapsed": true,
    "ExecuteTime": {
     "end_time": "2024-11-12T15:39:04.446095100Z",
     "start_time": "2024-11-12T15:39:03.719150900Z"
    }
   },
   "outputs": [],
   "source": [
    "import gymnasium as gym\n",
    "import numpy as np\n",
    "import matplotlib.pyplot as plt\n",
    "import random\n",
    "import time"
   ]
  },
  {
   "cell_type": "code",
   "execution_count": null,
   "outputs": [],
   "source": [
    "\"\"\"\n",
    "Simple Simulation of the FrozenLake environment; \n",
    "code structure taken from gym documentation. The loop chooses a random action at each time step.\n",
    "The action is then executed and the environment is rendered. Rendering is delayed by 0.1 seconds after each step,\n",
    "as otherwise the simulation terminates after <1 second and cannot actually be observed by humans.\n",
    "\"\"\"\n",
    "env = gym.make('FrozenLake-v1', desc=None, map_name=\"4x4\", is_slippery=True, render_mode=\"human\")\n",
    "\n",
    "observation, info = env.reset()  #obligatory reset\n",
    "\n",
    "episode_over = False\n",
    "while not episode_over:\n",
    "    action = env.action_space.sample()  #sample random action (either 0 or 1, left or right)\n",
    "    observation, reward, terminated, truncated, info = env.step(action)  #action is performed\n",
    "\n",
    "    print(observation)\n",
    "\n",
    "    env.render()  #environment is rendered\n",
    "    time.sleep(0.1)  #delay\n",
    "\n",
    "    #if either a termination condition is met or the maximum episode length is reached, the loop needs to end\n",
    "    episode_over = terminated or truncated\n",
    "\n",
    "env.close()  #close the environment"
   ],
   "metadata": {
    "collapsed": false
   },
   "id": "db6867ab7cfb2e5d"
  },
  {
   "cell_type": "markdown",
   "source": [
    "#### (a)"
   ],
   "metadata": {
    "collapsed": false
   },
   "id": "45cc07a61bcb1beb"
  },
  {
   "cell_type": "markdown",
   "source": [
    "Initial policy:\n",
    "    - RIGHT: 35%\n",
    "    - DOWN: 35%\n",
    "    - LEFT: 15%\n",
    "    - UP: 15%\n",
    "\n",
    "The idea behind this is that as the goal is on the bottom right and the start is on the top left,\n",
    "the general trend should be to move to the bottom right of the lake."
   ],
   "metadata": {
    "collapsed": false
   },
   "id": "e8fac633f52edad7"
  },
  {
   "cell_type": "code",
   "execution_count": 3,
   "outputs": [],
   "source": [
    "def initial_policy(observation):\n",
    "    moves = [0, 1, 2, 3]\n",
    "    probabilities = [0.15, 0.35, 0.35, 0.15]\n",
    "    return np.random.choice(moves, p=probabilities)"
   ],
   "metadata": {
    "collapsed": false,
    "ExecuteTime": {
     "end_time": "2024-11-12T15:39:07.681401800Z",
     "start_time": "2024-11-12T15:39:07.664377900Z"
    }
   },
   "id": "2c2b443c8b896d93"
  },
  {
   "cell_type": "code",
   "execution_count": 4,
   "outputs": [],
   "source": [
    "def run_episode(env, policy):\n",
    "    \n",
    "    observation, info = env.reset()  #obligatory reset\n",
    "    path = [observation]\n",
    "    rewards = []\n",
    "    \n",
    "    episode_over = False\n",
    "    while not episode_over:\n",
    "        action = policy(observation)\n",
    "        observation, reward, terminated, truncated, info = env.step(action)  #action is performed\n",
    "    \n",
    "        path.append(observation)\n",
    "        rewards.append(reward)\n",
    "    \n",
    "        #if either a termination condition is met or the maximum episode length is reached,\n",
    "        #the loop needs to end\n",
    "        episode_over = terminated or truncated\n",
    "    \n",
    "    return path, rewards"
   ],
   "metadata": {
    "collapsed": false,
    "ExecuteTime": {
     "end_time": "2024-11-12T15:39:09.004574200Z",
     "start_time": "2024-11-12T15:39:08.995096500Z"
    }
   },
   "id": "fe9d22ebeeb7a843"
  },
  {
   "cell_type": "code",
   "execution_count": 5,
   "outputs": [],
   "source": [
    "def policy_eval(n=100, gamma=0.2):\n",
    "    env = gym.make('FrozenLake-v1', desc=None, map_name=\"4x4\", is_slippery=True)\n",
    "    \n",
    "    returns = [[] for _ in range(16)]\n",
    "    v = np.zeros(16, dtype=float)\n",
    "    for _ in range(n):\n",
    "        path, rewards = run_episode(env, initial_policy)\n",
    "        g = 0\n",
    "        for t in reversed(range(len(path)-1)):\n",
    "            g = gamma*g + rewards[t]\n",
    "            if path[t] not in path[:t]:\n",
    "                returns[path[t]].append(g)\n",
    "                v[path[t]] = np.average(returns[path[t]])\n",
    "    \n",
    "    env.close()\n",
    "    return v"
   ],
   "metadata": {
    "collapsed": false,
    "ExecuteTime": {
     "end_time": "2024-11-12T15:39:11.224155200Z",
     "start_time": "2024-11-12T15:39:11.210996300Z"
    }
   },
   "id": "51a02348fc92afc2"
  },
  {
   "cell_type": "code",
   "execution_count": 6,
   "outputs": [
    {
     "data": {
      "text/plain": "<Figure size 640x480 with 2 Axes>",
      "image/png": "[encoded data removed]"
     },
     "metadata": {},
     "output_type": "display_data"
    }
   ],
   "source": [
    "heatmap = policy_eval(n=1000, gamma=1)\n",
    "plt.imshow(heatmap.reshape(4,4))\n",
    "plt.colorbar()\n",
    "plt.show()\n",
    "#print(policy_eval(n=100))"
   ],
   "metadata": {
    "collapsed": false,
    "ExecuteTime": {
     "end_time": "2024-11-12T15:39:13.777431Z",
     "start_time": "2024-11-12T15:39:13.433697500Z"
    }
   },
   "id": "18db31465c16546d"
  },
  {
   "cell_type": "markdown",
   "source": [
    "Analysis:\n",
    "    -   A state value is only the average action value in that state across all actions and the policy\n",
    "    -   However, if the state has an action that guarantees a reward (e.g. the action to the left of the goal, \n",
    "        in this case with a value of ~0.5), that fact is not accurately represented by just the state value function\n",
    "    -   Similarly, states far from the goal are all evaluated very close to each other in value (in this case 0),\n",
    "        even though some of them are clearly superior (e.g. tile 6 compared to tile 4), but since the agent generally\n",
    "        fails to retrieve a reward very often, they have almost the same value."
   ],
   "metadata": {
    "collapsed": false
   },
   "id": "98f1ece095440a1f"
  },
  {
   "cell_type": "markdown",
   "source": [
    "#### (b)"
   ],
   "metadata": {
    "collapsed": false
   },
   "id": "92415083160c505d"
  },
  {
   "cell_type": "code",
   "execution_count": 18,
   "outputs": [],
   "source": [
    "def run_episode(env, policy):\n",
    "    observation, info = env.reset()  #obligatory reset\n",
    "    \n",
    "    path = [observation]\n",
    "    rewards = []\n",
    "    actions = []\n",
    "\n",
    "    episode_over = False\n",
    "    while not episode_over:\n",
    "        action = policy.policy(observation)\n",
    "        actions.append(action)\n",
    "        \n",
    "        observation, reward, terminated, truncated, info = env.step(action)  #action is performed\n",
    "\n",
    "        path.append(observation)\n",
    "        rewards.append(reward)\n",
    "\n",
    "        #if either a termination condition is met or the maximum episode length is reached,\n",
    "        #the loop needs to end\n",
    "        episode_over = terminated or truncated\n",
    "\n",
    "    return path, actions, rewards\n"
   ],
   "metadata": {
    "collapsed": false,
    "ExecuteTime": {
     "end_time": "2024-11-12T15:42:59.449202800Z",
     "start_time": "2024-11-12T15:42:59.433570300Z"
    }
   },
   "id": "deca92a5d0911cf0"
  },
  {
   "cell_type": "code",
   "execution_count": 55,
   "outputs": [],
   "source": [
    "class Policy:\n",
    "    def __init__(self, n=100, gamma=1):\n",
    "        self.moves = [0, 1, 2, 3]\n",
    "        self.v = np.zeros((16, 4), dtype=float)\n",
    "        self.n = n\n",
    "        self.gamma = gamma\n",
    "    \n",
    "    def policy(self, observation):\n",
    "        t = np.asarray(self.v[observation] == np.max(self.v[observation])).nonzero()[0]\n",
    "        return np.random.choice(t)\n",
    "    \n",
    "    def policy_eval(self):\n",
    "        env = gym.make('FrozenLake-v1', desc=None, map_name=\"4x4\", is_slippery=True)\n",
    "\n",
    "        returns = [[[] for _ in range(4)] for _ in range(16)]\n",
    "        for _ in range(self.n):\n",
    "            path, actions, rewards = run_episode(env, self)\n",
    "            g = 0\n",
    "            for t in reversed(range(len(path)-1)):\n",
    "                g = self.gamma * g + rewards[t]\n",
    "                if (path[t], actions[t]) not in zip(path[:t], actions[:t]):\n",
    "                    returns[path[t]][actions[t]].append(g)\n",
    "                    self.v[path[t]][actions[t]] = np.average(returns[path[t]][actions[t]])\n",
    "\n",
    "        return self.v"
   ],
   "metadata": {
    "collapsed": false,
    "ExecuteTime": {
     "end_time": "2024-11-12T16:08:11.857321500Z",
     "start_time": "2024-11-12T16:08:11.850564400Z"
    }
   },
   "id": "df637450eede224"
  },
  {
   "cell_type": "code",
   "execution_count": 59,
   "outputs": [
    {
     "name": "stdout",
     "output_type": "stream",
     "text": [
      "[[0.03703704 0.03773585 0.04261131 0.        ]\n",
      " [0.         0.         0.03591    0.        ]\n",
      " [0.07238597 0.         0.         0.        ]\n",
      " [0.         0.         0.         0.        ]\n",
      " [0.         0.         0.04939629 0.        ]\n",
      " [0.         0.         0.         0.        ]\n",
      " [0.10802526 0.         0.         0.        ]\n",
      " [0.         0.         0.         0.        ]\n",
      " [0.         0.10496042 0.         0.        ]\n",
      " [0.         0.21151133 0.         0.        ]\n",
      " [0.         0.         0.24994331 0.        ]\n",
      " [0.         0.         0.         0.        ]\n",
      " [0.         0.         0.         0.        ]\n",
      " [0.         0.         0.         0.28380062]\n",
      " [0.         0.64296498 0.         0.        ]\n",
      " [0.         0.         0.         0.        ]]\n"
     ]
    }
   ],
   "source": [
    "policy = Policy(n=100000)\n",
    "print(policy.policy_eval())"
   ],
   "metadata": {
    "collapsed": false,
    "ExecuteTime": {
     "end_time": "2024-11-12T16:13:13.295589600Z",
     "start_time": "2024-11-12T16:09:05.223315800Z"
    }
   },
   "id": "e997acb105c03e92"
  },
  {
   "cell_type": "markdown",
   "source": [],
   "metadata": {
    "collapsed": false
   },
   "id": "56ac0a6f76727997"
  }
 ],
 "metadata": {
  "kernelspec": {
   "display_name": "Python 3",
   "language": "python",
   "name": "python3"
  },
  "language_info": {
   "codemirror_mode": {
    "name": "ipython",
    "version": 2
   },
   "file_extension": ".py",
   "mimetype": "text/x-python",
   "name": "python",
   "nbconvert_exporter": "python",
   "pygments_lexer": "ipython2",
   "version": "2.7.6"
  }
 },
 "nbformat": 4,
 "nbformat_minor": 5
}
