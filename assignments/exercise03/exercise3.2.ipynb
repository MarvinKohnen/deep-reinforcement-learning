{
 "cells": [
  {
   "cell_type": "markdown",
   "source": [
    "# Exercise 3.2"
   ],
   "metadata": {
    "collapsed": false
   },
   "id": "7d1bca9ebe67cd5a"
  },
  {
   "cell_type": "code",
   "execution_count": 1,
   "id": "initial_id",
   "metadata": {
    "collapsed": true,
    "ExecuteTime": {
     "end_time": "2024-11-14T10:05:32.243641300Z",
     "start_time": "2024-11-14T10:05:31.483930700Z"
    }
   },
   "outputs": [],
   "source": [
    "import gymnasium as gym\n",
    "import numpy as np\n",
    "import matplotlib.pyplot as plt\n",
    "import random\n",
    "import time"
   ]
  },
  {
   "cell_type": "code",
   "execution_count": null,
   "outputs": [],
   "source": [
    "\"\"\"\n",
    "Simple Simulation of the FrozenLake environment; \n",
    "code structure taken from gym documentation. The loop chooses a random action at each time step.\n",
    "The action is then executed and the environment is rendered. Rendering is delayed by 0.1 seconds after each step,\n",
    "as otherwise the simulation terminates after <1 second and cannot actually be observed by humans.\n",
    "\"\"\"\n",
    "env = gym.make('FrozenLake-v1', desc=None, map_name=\"4x4\", is_slippery=True, render_mode=\"human\")\n",
    "\n",
    "observation, info = env.reset()  #obligatory reset\n",
    "\n",
    "episode_over = False\n",
    "while not episode_over:\n",
    "    action = env.action_space.sample()  #sample random action (either 0 or 1, left or right)\n",
    "    print(\"action\", action)\n",
    "    observation, reward, terminated, truncated, info = env.step(action)  #action is performed\n",
    "\n",
    "    print(observation)\n",
    "\n",
    "    env.render()  #environment is rendered\n",
    "    time.sleep(2)  #delay\n",
    "\n",
    "    #if either a termination condition is met or the maximum episode length is reached, the loop needs to end\n",
    "    episode_over = terminated or truncated\n",
    "\n",
    "env.close()  #close the environment"
   ],
   "metadata": {
    "collapsed": false
   },
   "id": "db6867ab7cfb2e5d"
  },
  {
   "cell_type": "markdown",
   "source": [
    "#### (a)"
   ],
   "metadata": {
    "collapsed": false
   },
   "id": "45cc07a61bcb1beb"
  },
  {
   "cell_type": "markdown",
   "source": [
    "Initial policy:\n",
    "    - RIGHT: 35%\n",
    "    - DOWN: 35%\n",
    "    - LEFT: 15%\n",
    "    - UP: 15%\n",
    "\n",
    "The idea behind this is that as the goal is on the bottom right and the start is on the top left,\n",
    "the general trend should be to move to the bottom right of the lake."
   ],
   "metadata": {
    "collapsed": false
   },
   "id": "e8fac633f52edad7"
  },
  {
   "cell_type": "code",
   "execution_count": 8,
   "outputs": [],
   "source": [
    "class SimplePolicy:\n",
    "    def __init__(self, gamma=1):\n",
    "        self.moves = [0, 1, 2, 3]\n",
    "        self.probabilities = [0.15, 0.35, 0.35, 0.15]\n",
    "        self.returns =[[] for _ in range(16)]\n",
    "        self.v = np.zeros(16, dtype=float)\n",
    "        self.gamma = gamma\n",
    "    \n",
    "    def policy(self, observation):\n",
    "        return np.random.choice(self.moves, p=self.probabilities)\n",
    "    \n",
    "    def evaluate(self, path, rewards):\n",
    "        g = 0\n",
    "        for t in reversed(range(len(path)-1)):\n",
    "            g = self.gamma*g + rewards[t]\n",
    "            if path[t] not in path[:t]:\n",
    "                self.returns[path[t]].append(g)\n",
    "                self.v[path[t]] = np.average(self.returns[path[t]])\n",
    "\n",
    "        return self.v\n",
    "    \n",
    "    def get_v(self):\n",
    "        return self.v"
   ],
   "metadata": {
    "collapsed": false,
    "ExecuteTime": {
     "end_time": "2024-11-13T14:24:44.423628100Z",
     "start_time": "2024-11-13T14:24:44.407984800Z"
    }
   },
   "id": "783216ebe07d3afc"
  },
  {
   "cell_type": "code",
   "execution_count": null,
   "outputs": [],
   "source": [
    "def initial_policy(observation):\n",
    "    moves = [0, 1, 2, 3]\n",
    "    probabilities = [0.15, 0.35, 0.35, 0.15]\n",
    "    return np.random.choice(moves, p=probabilities)"
   ],
   "metadata": {
    "collapsed": false
   },
   "id": "2c2b443c8b896d93"
  },
  {
   "cell_type": "code",
   "execution_count": 3,
   "outputs": [],
   "source": [
    "def run_episode(env, policy):\n",
    "    \n",
    "    observation, info = env.reset()  #obligatory reset\n",
    "    path = [observation]\n",
    "    rewards = []\n",
    "    \n",
    "    episode_over = False\n",
    "    while not episode_over:\n",
    "        action = policy.policy(observation)\n",
    "        observation, reward, terminated, truncated, info = env.step(action)  #action is performed\n",
    "    \n",
    "        path.append(observation)\n",
    "        rewards.append(reward)\n",
    "    \n",
    "        #if either a termination condition is met or the maximum episode length is reached,\n",
    "        #the loop needs to end\n",
    "        episode_over = terminated or truncated\n",
    "    \n",
    "    return path, rewards"
   ],
   "metadata": {
    "collapsed": false,
    "ExecuteTime": {
     "end_time": "2024-11-13T14:23:49.731750400Z",
     "start_time": "2024-11-13T14:23:49.723840100Z"
    }
   },
   "id": "fe9d22ebeeb7a843"
  },
  {
   "cell_type": "code",
   "execution_count": 4,
   "outputs": [],
   "source": [
    "def run(policy, n=100):\n",
    "    env = gym.make('FrozenLake-v1', desc=None, map_name=\"4x4\", is_slippery=True)\n",
    "    \n",
    "    for _ in range(n):\n",
    "        path, rewards = run_episode(env, policy)\n",
    "        policy.evaluate(path, rewards)\n",
    "    \n",
    "    return policy.get_v()"
   ],
   "metadata": {
    "collapsed": false,
    "ExecuteTime": {
     "end_time": "2024-11-13T14:23:50.994148300Z",
     "start_time": "2024-11-13T14:23:50.981722700Z"
    }
   },
   "id": "3c37c6b852242dec"
  },
  {
   "cell_type": "code",
   "execution_count": null,
   "outputs": [],
   "source": [
    "def policy_eval(n=100, gamma=0.2):\n",
    "    env = gym.make('FrozenLake-v1', desc=None, map_name=\"4x4\", is_slippery=True)\n",
    "    \n",
    "    returns = [[] for _ in range(16)]\n",
    "    v = np.zeros(16, dtype=float)\n",
    "    for _ in range(n):\n",
    "        path, rewards = run_episode(env, initial_policy)\n",
    "        g = 0\n",
    "        for t in reversed(range(len(path)-1)):\n",
    "            g = gamma*g + rewards[t]\n",
    "            if path[t] not in path[:t]:\n",
    "                returns[path[t]].append(g)\n",
    "                v[path[t]] = np.average(returns[path[t]])\n",
    "    \n",
    "    env.close()\n",
    "    return v"
   ],
   "metadata": {
    "collapsed": false
   },
   "id": "51a02348fc92afc2"
  },
  {
   "cell_type": "code",
   "execution_count": 9,
   "outputs": [],
   "source": [
    "policy = SimplePolicy(gamma=1)\n",
    "value_funct = run(policy, n=1000)"
   ],
   "metadata": {
    "collapsed": false,
    "ExecuteTime": {
     "end_time": "2024-11-13T14:24:47.860891600Z",
     "start_time": "2024-11-13T14:24:47.698975100Z"
    }
   },
   "id": "4f34463ec3937235"
  },
  {
   "cell_type": "code",
   "execution_count": 10,
   "outputs": [
    {
     "data": {
      "text/plain": "<Figure size 640x480 with 2 Axes>",
      "image/png": "[encoded data removed]"
     },
     "metadata": {},
     "output_type": "display_data"
    }
   ],
   "source": [
    "#heatmap = policy_eval(n=1000, gamma=1)\n",
    "plt.imshow(value_funct.reshape(4,4))\n",
    "plt.colorbar()\n",
    "plt.show()\n",
    "#print(policy_eval(n=100))"
   ],
   "metadata": {
    "collapsed": false,
    "ExecuteTime": {
     "end_time": "2024-11-13T14:25:02.967678100Z",
     "start_time": "2024-11-13T14:25:02.744241500Z"
    }
   },
   "id": "18db31465c16546d"
  },
  {
   "cell_type": "markdown",
   "source": [
    "Analysis:\n",
    "    -   A state value is only the average action value in that state across all actions and the policy\n",
    "    -   However, if the state has an action that guarantees a reward (e.g. the action to the left of the goal, \n",
    "        in this case with a value of ~0.5), that fact is not accurately represented by just the state value function\n",
    "    -   Similarly, states far from the goal are all evaluated very close to each other in value (in this case 0),\n",
    "        even though some of them are clearly superior (e.g. tile 6 compared to tile 4), but since the agent generally\n",
    "        fails to retrieve a reward very often, they have almost the same value."
   ],
   "metadata": {
    "collapsed": false
   },
   "id": "98f1ece095440a1f"
  },
  {
   "cell_type": "markdown",
   "source": [
    "#### (b)"
   ],
   "metadata": {
    "collapsed": false
   },
   "id": "92415083160c505d"
  },
  {
   "cell_type": "code",
   "execution_count": 2,
   "outputs": [],
   "source": [
    "class MCPolicy:\n",
    "    def __init__(self, gamma=1, epsilon=0.1):\n",
    "        self.moves = [0, 1, 2, 3]\n",
    "        self.returns = [[[] for _ in range(4)] for _ in range(16)]\n",
    "        self.v = np.zeros((16, 4), dtype=float)\n",
    "        self.gamma = gamma\n",
    "        self.epsilon = epsilon\n",
    "    \n",
    "    def policy(self, observation):\n",
    "        x = np.random.rand()\n",
    "        if x < self.epsilon:\n",
    "            t = self.moves\n",
    "        else:\n",
    "            t = np.asarray(self.v[observation] == np.max(self.v[observation])).nonzero()[0]\n",
    "        return np.random.choice(t)\n",
    "    \n",
    "    def evaluate(self, path, actions, rewards):\n",
    "        g = 0\n",
    "        for t in reversed(range(len(path)-1)):\n",
    "            g = self.gamma * g + rewards[t]\n",
    "            if (path[t], actions[t]) not in zip(path[:t], actions[:t]):\n",
    "                self.returns[path[t]][actions[t]].append(g)\n",
    "                self.v[path[t]][actions[t]] = np.average(self.returns[path[t]][actions[t]])\n",
    "\n",
    "        return self.v\n",
    "    \n",
    "    def get_v(self):\n",
    "        return self.v"
   ],
   "metadata": {
    "collapsed": false,
    "ExecuteTime": {
     "end_time": "2024-11-14T10:05:33.750461Z",
     "start_time": "2024-11-14T10:05:33.734931700Z"
    }
   },
   "id": "df637450eede224"
  },
  {
   "cell_type": "code",
   "execution_count": 3,
   "outputs": [],
   "source": [
    "def run_episode(env, policy):\n",
    "    observation, info = env.reset()  #obligatory reset\n",
    "    \n",
    "    path = [observation]\n",
    "    rewards = []\n",
    "    actions = []\n",
    "\n",
    "    episode_over = False\n",
    "    while not episode_over:\n",
    "        action = policy.policy(observation)\n",
    "        actions.append(action)\n",
    "        \n",
    "        observation, reward, terminated, truncated, info = env.step(action)  #action is performed\n",
    "\n",
    "        path.append(observation)\n",
    "        rewards.append(reward)\n",
    "\n",
    "        #if either a termination condition is met or the maximum episode length is reached,\n",
    "        #the loop needs to end\n",
    "        episode_over = terminated or truncated\n",
    "\n",
    "    return path, actions, rewards\n"
   ],
   "metadata": {
    "collapsed": false,
    "ExecuteTime": {
     "end_time": "2024-11-14T10:05:34.491959Z",
     "start_time": "2024-11-14T10:05:34.483402200Z"
    }
   },
   "id": "deca92a5d0911cf0"
  },
  {
   "cell_type": "code",
   "execution_count": 26,
   "outputs": [],
   "source": [
    "def run(policy, n=100):\n",
    "    env = gym.make('FrozenLake-v1', desc=None, map_name=\"4x4\", is_slippery=True)\n",
    "    \n",
    "    rewards_list = []\n",
    "    for _ in range(n):\n",
    "        path, actions, rewards = run_episode(env, policy)\n",
    "        policy.evaluate(path, actions, rewards)\n",
    "        rewards_list.append(rewards[-1])\n",
    "    \n",
    "    return policy.get_v(), rewards_list"
   ],
   "metadata": {
    "collapsed": false,
    "ExecuteTime": {
     "end_time": "2024-11-14T10:22:03.654349200Z",
     "start_time": "2024-11-14T10:22:03.638592500Z"
    }
   },
   "id": "7c5eb97aa47f98fa"
  },
  {
   "cell_type": "code",
   "execution_count": 34,
   "outputs": [
    {
     "name": "stdout",
     "output_type": "stream",
     "text": [
      "[[0.22222222 0.28881988 0.26853147 0.20338983]\n",
      " [0.17977528 0.14473684 0.16049383 0.26279863]\n",
      " [0.25539568 0.18656716 0.17886179 0.25694444]\n",
      " [0.12820513 0.09821429 0.13461538 0.25773196]\n",
      " [0.32469304 0.18095238 0.20618557 0.1978022 ]\n",
      " [0.         0.         0.         0.        ]\n",
      " [0.21052632 0.11764706 0.24403183 0.03846154]\n",
      " [0.         0.         0.         0.        ]\n",
      " [0.26086957 0.2        0.33333333 0.39426523]\n",
      " [0.30952381 0.51079137 0.23943662 0.25      ]\n",
      " [0.49544073 0.47058824 0.4        0.23809524]\n",
      " [0.         0.         0.         0.        ]\n",
      " [0.         0.         0.         0.        ]\n",
      " [0.27272727 0.47826087 0.67449664 0.47826087]\n",
      " [0.66666667 0.83884298 0.78823529 0.70588235]\n",
      " [0.         0.         0.         0.        ]]\n",
      "258.0\n"
     ]
    }
   ],
   "source": [
    "policy = MCPolicy(gamma=1)\n",
    "value_func, rewards_list = run(policy, n=1000)\n",
    "print(value_func)\n",
    "print(sum(rewards_list))"
   ],
   "metadata": {
    "collapsed": false,
    "ExecuteTime": {
     "end_time": "2024-11-14T10:22:40.086452900Z",
     "start_time": "2024-11-14T10:22:39.453640200Z"
    }
   },
   "id": "dd4451a08a242245"
  },
  {
   "cell_type": "code",
   "execution_count": 35,
   "outputs": [
    {
     "data": {
      "text/plain": "<Figure size 640x480 with 1 Axes>",
      "image/png": "[encoded data removed]"
     },
     "metadata": {},
     "output_type": "display_data"
    },
    {
     "data": {
      "text/plain": "<Figure size 2000x500 with 5 Axes>",
      "image/png": "[encoded data removed]"
     },
     "metadata": {},
     "output_type": "display_data"
    }
   ],
   "source": [
    "optimal_policy = np.asarray(list(map(np.argmax, value_func))).reshape(4, 4)\n",
    "actions_labels = ['←', '↓', '→', '↑']\n",
    "policy_grid = np.array([[actions_labels[action] for action in row] for row in optimal_policy])\n",
    "\n",
    "fig, ax = plt.subplots()\n",
    "ax.set_title('Optimal Policy')\n",
    "ax.axis('off')\n",
    "table = ax.table(cellText=policy_grid, loc='center', cellLoc='center')\n",
    "table.scale(1, 4)\n",
    "plt.show()\n",
    "\n",
    "fig, axes = plt.subplots(1, 4, figsize=(20, 5))\n",
    "for a in range(4):\n",
    "    ax = axes[a]\n",
    "    q_values = value_func[:, a].reshape(4, 4)\n",
    "    im = ax.imshow(q_values, vmin=np.min(value_func), vmax=np.max(value_func), cmap='viridis')\n",
    "    ax.set_title(\"Action: %s\" % actions_labels[a])\n",
    "    ax.set_xticks([]) # remove x-axis ticks\n",
    "    ax.set_yticks([]) # remove y-axis ticks\n",
    "fig.colorbar(im, ax=axes.ravel().tolist())\n",
    "plt.show()"
   ],
   "metadata": {
    "collapsed": false,
    "ExecuteTime": {
     "end_time": "2024-11-14T10:22:43.670375Z",
     "start_time": "2024-11-14T10:22:43.482211Z"
    }
   },
   "id": "c09c54543cd56534"
  },
  {
   "cell_type": "code",
   "execution_count": 36,
   "outputs": [
    {
     "data": {
      "text/plain": "<Figure size 640x480 with 1 Axes>",
      "image/png": "[encoded data removed]"
     },
     "metadata": {},
     "output_type": "display_data"
    }
   ],
   "source": [
    "#rewards_list.extend([0] * 1000)\n",
    "#print(sum(rewards_list[:1000]))\n",
    "cumulated_rewards_list = list(map(lambda x: sum(rewards_list[:(x+1)]), list(range(len(rewards_list)))))\n",
    "weighted_crl = list(map(\n",
    "    lambda x: sum(map(\n",
    "        lambda y: np.e**(-0.005*y)*rewards_list[x-y], \n",
    "        list(range(len(rewards_list[:(x+1)]))))), \n",
    "    list(range(len(rewards_list)))))\n",
    "#plt.plot(cumulated_rewards_list)\n",
    "peak_policy = np.argmax(weighted_crl)\n",
    "peak_performance = weighted_crl[peak_policy]\n",
    "plt.plot(weighted_crl, color=\"red\")\n",
    "plt.annotate(f'Peak: {peak_policy:.2f}', xy=(peak_policy, peak_performance), xytext=(peak_policy, peak_performance + 0.5),\n",
    "             arrowprops=dict(facecolor='black', shrink=0.05))\n",
    "plt.xlabel('Episode')\n",
    "plt.ylabel('Reward')\n",
    "plt.title('Rewards per Episode')\n",
    "plt.show()"
   ],
   "metadata": {
    "collapsed": false,
    "ExecuteTime": {
     "end_time": "2024-11-14T10:23:19.770831Z",
     "start_time": "2024-11-14T10:23:19.589617800Z"
    }
   },
   "id": "c76179b07dce7ac7"
  },
  {
   "cell_type": "markdown",
   "source": [
    "Even though in (3,2), the action RIGHT should give a reward of 1 every time, because it is slippery and there is a randomness factor, its state-action value is less than 1.\n",
    "Controversely, the action value for the action DOWN is actually sometimes greater than the one for RIGHT. This is because the discounting factor `gamma` is 1 (i.e. there is no discounting), and because when using the action DOWN in (3,2), there is a chance that the agent slips into the goal state, and if not, it either slips into another safe state (there are no adjacent holes) or stays in (3,2).\n",
    "Therefore, the calculated action values can only be relied upon to a certain extent, as the best action in (3,2) is obviously to move RIGHT, but due to the non-deterministic environment dynamics, this will not always be represented in the state-action values."
   ],
   "metadata": {
    "collapsed": false
   },
   "id": "e8dd83038a6753f3"
  },
  {
   "cell_type": "markdown",
   "source": [],
   "metadata": {
    "collapsed": false
   },
   "id": "56ac0a6f76727997"
  }
 ],
 "metadata": {
  "kernelspec": {
   "display_name": "Python 3",
   "language": "python",
   "name": "python3"
  },
  "language_info": {
   "codemirror_mode": {
    "name": "ipython",
    "version": 2
   },
   "file_extension": ".py",
   "mimetype": "text/x-python",
   "name": "python",
   "nbconvert_exporter": "python",
   "pygments_lexer": "ipython2",
   "version": "2.7.6"
  }
 },
 "nbformat": 4,
 "nbformat_minor": 5
}
