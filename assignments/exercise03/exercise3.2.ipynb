{
 "cells": [
  {
   "cell_type": "markdown",
   "source": [
    "# Exercise 3.2"
   ],
   "metadata": {
    "collapsed": false
   },
   "id": "7d1bca9ebe67cd5a"
  },
  {
   "cell_type": "code",
   "execution_count": 1,
   "id": "initial_id",
   "metadata": {
    "collapsed": true,
    "ExecuteTime": {
     "end_time": "2024-11-14T13:40:49.373088600Z",
     "start_time": "2024-11-14T13:40:48.512925600Z"
    }
   },
   "outputs": [],
   "source": [
    "import gymnasium as gym\n",
    "import numpy as np\n",
    "import matplotlib.pyplot as plt\n",
    "import random\n",
    "import time"
   ]
  },
  {
   "cell_type": "code",
   "execution_count": null,
   "outputs": [],
   "source": [
    "\"\"\"\n",
    "Simple Simulation of the FrozenLake environment; \n",
    "code structure taken from gym documentation. The loop chooses a random action at each time step.\n",
    "The action is then executed and the environment is rendered. Rendering is delayed by 0.1 seconds after each step,\n",
    "as otherwise the simulation terminates after <1 second and cannot actually be observed by humans.\n",
    "\"\"\"\n",
    "env = gym.make('FrozenLake-v1', desc=None, map_name=\"4x4\", is_slippery=True, render_mode=\"human\")\n",
    "\n",
    "observation, info = env.reset()  #obligatory reset\n",
    "\n",
    "episode_over = False\n",
    "while not episode_over:\n",
    "    action = env.action_space.sample()  #sample random action (either 0 or 1, left or right)\n",
    "    print(\"action\", action)\n",
    "    observation, reward, terminated, truncated, info = env.step(action)  #action is performed\n",
    "\n",
    "    print(observation)\n",
    "\n",
    "    env.render()  #environment is rendered\n",
    "    time.sleep(2)  #delay\n",
    "\n",
    "    #if either a termination condition is met or the maximum episode length is reached, the loop needs to end\n",
    "    episode_over = terminated or truncated\n",
    "\n",
    "env.close()  #close the environment"
   ],
   "metadata": {
    "collapsed": false
   },
   "id": "db6867ab7cfb2e5d"
  },
  {
   "cell_type": "markdown",
   "source": [
    "#### (a)"
   ],
   "metadata": {
    "collapsed": false
   },
   "id": "45cc07a61bcb1beb"
  },
  {
   "cell_type": "markdown",
   "source": [
    "Initial policy:\n",
    "    - RIGHT: 35%\n",
    "    - DOWN: 35%\n",
    "    - LEFT: 15%\n",
    "    - UP: 15%\n",
    "\n",
    "The idea behind this is that as the goal is on the bottom right and the start is on the top left,\n",
    "the general trend should be to move to the bottom right of the lake."
   ],
   "metadata": {
    "collapsed": false
   },
   "id": "e8fac633f52edad7"
  },
  {
   "cell_type": "code",
   "execution_count": 2,
   "outputs": [],
   "source": [
    "class SimplePolicy:\n",
    "    def __init__(self, gamma=1):\n",
    "        self.moves = [0, 1, 2, 3]\n",
    "        self.probabilities = [0.15, 0.35, 0.35, 0.15]\n",
    "        self.returns =[[] for _ in range(16)]\n",
    "        self.v = np.zeros(16, dtype=float)\n",
    "        self.gamma = gamma\n",
    "    \n",
    "    def policy(self, observation):\n",
    "        return np.random.choice(self.moves, p=self.probabilities)\n",
    "    \n",
    "    def evaluate(self, path, rewards):\n",
    "        g = 0\n",
    "        for t in reversed(range(len(path)-1)):\n",
    "            g = self.gamma*g + rewards[t]\n",
    "            if path[t] not in path[:t]:\n",
    "                self.returns[path[t]].append(g)\n",
    "                self.v[path[t]] = np.average(self.returns[path[t]])\n",
    "\n",
    "        return self.v\n",
    "    \n",
    "    def get_v(self):\n",
    "        return self.v"
   ],
   "metadata": {
    "collapsed": false,
    "ExecuteTime": {
     "end_time": "2024-11-14T13:41:23.485835200Z",
     "start_time": "2024-11-14T13:41:23.481104400Z"
    }
   },
   "id": "783216ebe07d3afc"
  },
  {
   "cell_type": "code",
   "execution_count": 3,
   "outputs": [],
   "source": [
    "def run_episode(env, policy):\n",
    "    \n",
    "    observation, info = env.reset()  #obligatory reset\n",
    "    path = [observation]\n",
    "    rewards = []\n",
    "    \n",
    "    episode_over = False\n",
    "    while not episode_over:\n",
    "        action = policy.policy(observation)\n",
    "        observation, reward, terminated, truncated, info = env.step(action)  #action is performed\n",
    "    \n",
    "        path.append(observation)\n",
    "        rewards.append(reward)\n",
    "    \n",
    "        #if either a termination condition is met or the maximum episode length is reached,\n",
    "        #the loop needs to end\n",
    "        episode_over = terminated or truncated\n",
    "    \n",
    "    return path, rewards"
   ],
   "metadata": {
    "collapsed": false,
    "ExecuteTime": {
     "end_time": "2024-11-14T13:41:26.944928300Z",
     "start_time": "2024-11-14T13:41:26.940130700Z"
    }
   },
   "id": "fe9d22ebeeb7a843"
  },
  {
   "cell_type": "code",
   "execution_count": 4,
   "outputs": [],
   "source": [
    "def run(policy, n=100):\n",
    "    env = gym.make('FrozenLake-v1', desc=None, map_name=\"4x4\", is_slippery=True)\n",
    "    \n",
    "    for _ in range(n):\n",
    "        path, rewards = run_episode(env, policy)\n",
    "        policy.evaluate(path, rewards)\n",
    "    \n",
    "    return policy.get_v()"
   ],
   "metadata": {
    "collapsed": false,
    "ExecuteTime": {
     "end_time": "2024-11-14T13:41:27.437771700Z",
     "start_time": "2024-11-14T13:41:27.427464300Z"
    }
   },
   "id": "3c37c6b852242dec"
  },
  {
   "cell_type": "code",
   "execution_count": 5,
   "outputs": [],
   "source": [
    "policy = SimplePolicy(gamma=1)\n",
    "value_funct = run(policy, n=1000)"
   ],
   "metadata": {
    "collapsed": false,
    "ExecuteTime": {
     "end_time": "2024-11-14T13:41:28.888780800Z",
     "start_time": "2024-11-14T13:41:28.721464800Z"
    }
   },
   "id": "4f34463ec3937235"
  },
  {
   "cell_type": "code",
   "execution_count": 6,
   "outputs": [
    {
     "data": {
      "text/plain": "<Figure size 640x480 with 2 Axes>",
      "image/png": "[encoded data removed]"
     },
     "metadata": {},
     "output_type": "display_data"
    }
   ],
   "source": [
    "#heatmap = policy_eval(n=1000, gamma=1)\n",
    "plt.imshow(value_funct.reshape(4,4))\n",
    "plt.colorbar()\n",
    "plt.show()\n",
    "#print(policy_eval(n=100))"
   ],
   "metadata": {
    "collapsed": false,
    "ExecuteTime": {
     "end_time": "2024-11-14T13:41:29.588804700Z",
     "start_time": "2024-11-14T13:41:29.366696600Z"
    }
   },
   "id": "18db31465c16546d"
  },
  {
   "cell_type": "markdown",
   "source": [
    "Analysis:\n",
    "    -   A state value is only the average action value in that state across all actions and the policy\n",
    "    -   However, if the state has an action that guarantees a reward (e.g. the action to the left of the goal, \n",
    "        in this case with a value of ~0.5), that fact is not accurately represented by just the state value function\n",
    "    -   Similarly, states far from the goal are all evaluated very close to each other in value (in this case 0),\n",
    "        even though some of them are clearly superior (e.g. tile 6 compared to tile 4), but since the agent generally\n",
    "        fails to retrieve a reward very often, they have almost the same value."
   ],
   "metadata": {
    "collapsed": false
   },
   "id": "98f1ece095440a1f"
  },
  {
   "cell_type": "markdown",
   "source": [
    "#### (b)"
   ],
   "metadata": {
    "collapsed": false
   },
   "id": "92415083160c505d"
  },
  {
   "cell_type": "code",
   "execution_count": 7,
   "outputs": [],
   "source": [
    "class MCPolicy:\n",
    "    def __init__(self, gamma=1, epsilon=0.1):\n",
    "        self.moves = [0, 1, 2, 3]\n",
    "        self.returns = [[[] for _ in range(4)] for _ in range(16)]\n",
    "        self.v = np.zeros((16, 4), dtype=float)\n",
    "        self.gamma = gamma\n",
    "        self.epsilon = epsilon\n",
    "    \n",
    "    def policy(self, observation):\n",
    "        #implements epsilon-greedy algorithm\n",
    "        x = np.random.rand()\n",
    "        if x < self.epsilon:\n",
    "            t = self.moves\n",
    "        else:\n",
    "            t = np.asarray(self.v[observation] == np.max(self.v[observation])).nonzero()[0]\n",
    "        return np.random.choice(t)\n",
    "    \n",
    "    def evaluate(self, path, actions, rewards):\n",
    "        g = 0\n",
    "        for t in reversed(range(len(path)-1)):\n",
    "            g = self.gamma * g + rewards[t]\n",
    "            if (path[t], actions[t]) not in zip(path[:t], actions[:t]):\n",
    "                self.returns[path[t]][actions[t]].append(g)\n",
    "                self.v[path[t]][actions[t]] = np.average(self.returns[path[t]][actions[t]])\n",
    "\n",
    "        return self.v\n",
    "    \n",
    "    def get_v(self):\n",
    "        return self.v"
   ],
   "metadata": {
    "collapsed": false,
    "ExecuteTime": {
     "end_time": "2024-11-14T13:41:33.065297100Z",
     "start_time": "2024-11-14T13:41:33.063096500Z"
    }
   },
   "id": "df637450eede224"
  },
  {
   "cell_type": "code",
   "execution_count": 8,
   "outputs": [],
   "source": [
    "def run_episode(env, policy):\n",
    "    observation, info = env.reset()  #obligatory reset\n",
    "    \n",
    "    path = [observation]\n",
    "    rewards = []\n",
    "    actions = []\n",
    "\n",
    "    episode_over = False\n",
    "    while not episode_over:\n",
    "        action = policy.policy(observation)\n",
    "        actions.append(action)\n",
    "        \n",
    "        observation, reward, terminated, truncated, info = env.step(action)  #action is performed\n",
    "\n",
    "        path.append(observation)\n",
    "        rewards.append(reward)\n",
    "\n",
    "        #if either a termination condition is met or the maximum episode length is reached,\n",
    "        #the loop needs to end\n",
    "        episode_over = terminated or truncated\n",
    "\n",
    "    return path, actions, rewards\n"
   ],
   "metadata": {
    "collapsed": false,
    "ExecuteTime": {
     "end_time": "2024-11-14T13:41:34.256929200Z",
     "start_time": "2024-11-14T13:41:34.241022600Z"
    }
   },
   "id": "deca92a5d0911cf0"
  },
  {
   "cell_type": "code",
   "execution_count": 9,
   "outputs": [],
   "source": [
    "def run(policy, n=100):\n",
    "    env = gym.make('FrozenLake-v1', desc=None, map_name=\"4x4\", is_slippery=True)\n",
    "    \n",
    "    rewards_list = []\n",
    "    for _ in range(n):\n",
    "        path, actions, rewards = run_episode(env, policy)\n",
    "        policy.evaluate(path, actions, rewards)\n",
    "        rewards_list.append(rewards[-1])\n",
    "    \n",
    "    return policy.get_v(), rewards_list"
   ],
   "metadata": {
    "collapsed": false,
    "ExecuteTime": {
     "end_time": "2024-11-14T13:41:34.989862900Z",
     "start_time": "2024-11-14T13:41:34.984069200Z"
    }
   },
   "id": "7c5eb97aa47f98fa"
  },
  {
   "cell_type": "code",
   "execution_count": 99,
   "outputs": [
    {
     "name": "stdout",
     "output_type": "stream",
     "text": [
      "[[0.37259101 0.24509804 0.27230047 0.21287129]\n",
      " [0.06060606 0.15238095 0.02380952 0.12      ]\n",
      " [0.0625     0.16176471 0.04166667 0.05263158]\n",
      " [0.         0.         0.09090909 0.10344828]\n",
      " [0.39051919 0.24161074 0.24427481 0.27027027]\n",
      " [0.         0.         0.         0.        ]\n",
      " [0.15384615 0.07142857 0.18518519 0.14285714]\n",
      " [0.         0.         0.         0.        ]\n",
      " [0.28235294 0.27472527 0.2688172  0.43726236]\n",
      " [0.26315789 0.52132701 0.3559322  0.2       ]\n",
      " [0.49268293 0.30434783 0.3125     0.25      ]\n",
      " [0.         0.         0.         0.        ]\n",
      " [0.         0.         0.         0.        ]\n",
      " [0.41935484 0.44680851 0.6372315  0.36666667]\n",
      " [0.56       0.81102362 0.8        0.75      ]\n",
      " [0.         0.         0.         0.        ]]\n",
      "349.0\n"
     ]
    }
   ],
   "source": [
    "policy = MCPolicy(gamma=1)\n",
    "value_func, rewards_list = run(policy, n=1000)\n",
    "print(value_func)\n",
    "print(sum(rewards_list))"
   ],
   "metadata": {
    "collapsed": false,
    "ExecuteTime": {
     "end_time": "2024-11-14T13:43:05.137462700Z",
     "start_time": "2024-11-14T13:43:04.485151900Z"
    }
   },
   "id": "dd4451a08a242245"
  },
  {
   "cell_type": "code",
   "execution_count": 100,
   "outputs": [
    {
     "data": {
      "text/plain": "<Figure size 640x480 with 1 Axes>",
      "image/png": "[encoded data removed]"
     },
     "metadata": {},
     "output_type": "display_data"
    }
   ],
   "source": [
    "# simple sum over all past rewards; unused\n",
    "cumulated_rewards_list = list(map(lambda x: sum(rewards_list[:(x+1)]), list(range(len(rewards_list)))))\n",
    "\n",
    "# each episode's result (reward) is weighted by a decaying factor (form of e^(-x)) based on how far in \n",
    "# the past it is. This ensures that recent results are weighted more strongly than those generated by \n",
    "# outdated iterations of the policy.\n",
    "weighted_crl = list(map(\n",
    "    lambda x: sum(map(\n",
    "        lambda y: np.e**(-0.005*y)*rewards_list[x-y], \n",
    "        list(range(len(rewards_list[:(x+1)]))))), \n",
    "    list(range(len(rewards_list)))))\n",
    "\n",
    "peak_policy = np.argmax(weighted_crl)\n",
    "peak_performance = weighted_crl[peak_policy]\n",
    "plt.plot(weighted_crl, color=\"red\")\n",
    "plt.annotate(f'Peak: {peak_policy:.2f}', xy=(peak_policy, peak_performance), xytext=(peak_policy, peak_performance + 0.5),\n",
    "             arrowprops=dict(facecolor='black', shrink=0.05))\n",
    "plt.xlabel('Episode')\n",
    "plt.ylabel('Weighted cumulated rewards')\n",
    "plt.title('Policy performance')\n",
    "plt.show()"
   ],
   "metadata": {
    "collapsed": false,
    "ExecuteTime": {
     "end_time": "2024-11-14T13:43:20.435726Z",
     "start_time": "2024-11-14T13:43:20.256767700Z"
    }
   },
   "id": "c76179b07dce7ac7"
  },
  {
   "cell_type": "code",
   "execution_count": 101,
   "outputs": [
    {
     "data": {
      "text/plain": "<Figure size 640x480 with 1 Axes>",
      "image/png": "[encoded data removed]"
     },
     "metadata": {},
     "output_type": "display_data"
    },
    {
     "data": {
      "text/plain": "<Figure size 2000x500 with 5 Axes>",
      "image/png": "[encoded data removed]"
     },
     "metadata": {},
     "output_type": "display_data"
    }
   ],
   "source": [
    "optimal_policy = np.asarray(list(map(np.argmax, value_func))).reshape(4, 4)\n",
    "actions_labels = ['←', '↓', '→', '↑']\n",
    "policy_grid = np.array([[actions_labels[action] for action in row] for row in optimal_policy])\n",
    "\n",
    "fig, ax = plt.subplots()\n",
    "ax.set_title('Optimal Policy')\n",
    "ax.axis('off')\n",
    "table = ax.table(cellText=policy_grid, loc='center', cellLoc='center')\n",
    "table.scale(1, 4)\n",
    "plt.show()\n",
    "\n",
    "fig, axes = plt.subplots(1, 4, figsize=(20, 5))\n",
    "for a in range(4):\n",
    "    ax = axes[a]\n",
    "    q_values = value_func[:, a].reshape(4, 4)\n",
    "    im = ax.imshow(q_values, vmin=np.min(value_func), vmax=np.max(value_func), cmap='viridis')\n",
    "    ax.set_title(\"Action: %s\" % actions_labels[a])\n",
    "    ax.set_xticks([]) # remove x-axis ticks\n",
    "    ax.set_yticks([]) # remove y-axis ticks\n",
    "fig.colorbar(im, ax=axes.ravel().tolist())\n",
    "plt.show()"
   ],
   "metadata": {
    "collapsed": false,
    "ExecuteTime": {
     "end_time": "2024-11-14T13:43:24.057264300Z",
     "start_time": "2024-11-14T13:43:23.850257500Z"
    }
   },
   "id": "c09c54543cd56534"
  },
  {
   "cell_type": "markdown",
   "source": [
    "Even though in (3,2), the action RIGHT should give a reward of 1 every time, because it is slippery and there is a randomness factor, its state-action value is less than 1.\n",
    "Controversely, the action value for the action DOWN is actually sometimes greater than the one for RIGHT. This is because the discounting factor `gamma` is 1 (i.e. there is no discounting), and because when using the action DOWN in (3,2), there is a chance that the agent slips into the goal state, and if not, it either slips into another safe state (there are no adjacent holes) or stays in (3,2).\n",
    "Therefore, the calculated action values can only be relied upon to a certain extent, as the best action in (3,2) is obviously to move RIGHT, but due to the non-deterministic environment dynamics, this will not always be represented in the state-action values."
   ],
   "metadata": {
    "collapsed": false
   },
   "id": "e8dd83038a6753f3"
  },
  {
   "cell_type": "markdown",
   "source": [],
   "metadata": {
    "collapsed": false
   },
   "id": "56ac0a6f76727997"
  }
 ],
 "metadata": {
  "kernelspec": {
   "display_name": "Python 3",
   "language": "python",
   "name": "python3"
  },
  "language_info": {
   "codemirror_mode": {
    "name": "ipython",
    "version": 2
   },
   "file_extension": ".py",
   "mimetype": "text/x-python",
   "name": "python",
   "nbconvert_exporter": "python",
   "pygments_lexer": "ipython2",
   "version": "2.7.6"
  }
 },
 "nbformat": 4,
 "nbformat_minor": 5
}
