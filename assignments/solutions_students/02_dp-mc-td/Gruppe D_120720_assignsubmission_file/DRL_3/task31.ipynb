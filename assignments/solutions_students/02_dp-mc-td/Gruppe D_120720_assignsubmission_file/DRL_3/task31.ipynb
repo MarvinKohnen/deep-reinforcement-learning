{
 "cells": [
  {
   "cell_type": "markdown",
   "metadata": {},
   "source": [
    "# **(Task 3.1)** Dynamic Programming"
   ]
  },
  {
   "cell_type": "markdown",
   "metadata": {},
   "source": [
    "## **(a)** Implementation GPI"
   ]
  },
  {
   "cell_type": "code",
   "execution_count": 1,
   "metadata": {},
   "outputs": [],
   "source": [
    "import gridworlds        # import to trigger registration of the environment\n",
    "import numpy as np\n",
    "import gymnasium as gym\n",
    "import matplotlib.pyplot as plt  \n",
    "\n",
    "class GeneralPolicyIteration:\n",
    "    \n",
    "    def __init__(self, env, theta=0.1, gamma=0.99):\n",
    "        self.env = env\n",
    "        self.n_actions = env.action_space.n\n",
    "        self.theta = theta\n",
    "        self.gamma = gamma\n",
    "        self.size = 5\n",
    "        self.policy = np.random.choice(self.n_actions, (self.size,self.size)) \n",
    "        self.value_function = np.zeros((self.size,self.size)) \n",
    "\n",
    "    def get_policy(self):\n",
    "        return self.policy\n",
    "    \n",
    "    def get_value_function(self):\n",
    "        return self.value_function\n",
    "    \n",
    "    def policy_evaluation(self, value_function, policy): \n",
    "        #start with a random policy and determine the state-value function through repeated application of Bellman equation\n",
    "        while True:\n",
    "            delta = 0\n",
    "            for i in range(self.size):\n",
    "                for j in range(self.size):\n",
    "                    old_value = value_function[i,j]\n",
    "                    action = policy[i,j]\n",
    "                    next_state, reward, done, _, _ = self.env.step(action) \n",
    "                    #Handling the terminate states\n",
    "                    if done:  \n",
    "                        value_function[i,j] = reward\n",
    "                    else:\n",
    "                        value_function[i,j] = reward + self.gamma * value_function[tuple(next_state)]\n",
    "                    delta = max(delta, abs(old_value - value_function[i,j]))\n",
    "\n",
    "            if delta < self.theta:\n",
    "                break\n",
    "\n",
    "        return value_function\n",
    "\n",
    "    \n",
    "    def policy_improvement(self,value_function, policy):\n",
    "        #use the computed state from policy evaluatuion for policy improvement\n",
    "        policy_stable = True\n",
    "        state_values = np.zeros(self.n_actions)\n",
    "        for i in range(self.size):\n",
    "            for j in range(self.size):\n",
    "                old_action = policy[i,j]\n",
    "                for action in range(self.n_actions):\n",
    "                    next_state, reward, done, _, _ = self.env.step(action) \n",
    "                    if done:\n",
    "                        state_values[action] = reward\n",
    "                    else:\n",
    "                        state_values[action] = reward + self.gamma * value_function[tuple(next_state)]\n",
    "\n",
    "                policy[i,j] = np.argmax(state_values)    \n",
    "\n",
    "            if old_action != policy[i,j]:\n",
    "                policy_stable = False\n",
    "                \n",
    "        return policy_stable, policy\n",
    "    \n",
    "    def run(self, max_iter):\n",
    "        #run the GPI algorithm until the policy experiences no further improvements and converges\n",
    "        policy_stable = False\n",
    "        for i in range(max_iter):      \n",
    "            if not policy_stable:\n",
    "                self.value_function = self.policy_evaluation(self.value_function, self.policy)\n",
    "                policy_stable, self.policy  = self.policy_improvement(self.value_function, self.policy)\n",
    "            else:\n",
    "                return self.policy, self.value_function\n",
    "                \n",
    "    \n",
    "    def draw_grid(self, title):\n",
    "      \n",
    "        fig, ax = plt.subplots(figsize=(4, 4))\n",
    "        ax.set_xticks(np.arange(self.size + 1) - 0.5, minor=True)\n",
    "        ax.set_yticks(np.arange(self.size + 1) - 0.5, minor=True)\n",
    "        ax.grid(which=\"minor\", color=\"black\", linestyle='-', linewidth=0.5)\n",
    "        ax.tick_params(which=\"minor\", size=0)\n",
    "        ax.set_xticks([])\n",
    "        ax.set_yticks([])\n",
    "        ax.invert_yaxis()\n",
    "        ax.set_title(title)\n",
    "        \n",
    "        return ax\n",
    "\n",
    " \n",
    "    def visualize(self, value_function, policy):\n",
    "        #visualize the resulting state-value function and the final optimal policy in a grid\n",
    "\n",
    "        ax = self.draw_grid(\"Optimal State-Value Function\")\n",
    "        for i in range(self.size):\n",
    "            for j in range(self.size):\n",
    "                ax.text(j, i, f\"{value_function[i, j]:.2f}\", ha='center', va='center', fontsize=9)\n",
    "        plt.show()\n",
    "\n",
    "        action_arrows = {0: '↑', 1: '→', 2: '↓', 3: '←'}\n",
    "        arrow_policy = np.vectorize(action_arrows.get)(policy)\n",
    "\n",
    "        ax = self.draw_grid(\"Optimal Policy\")\n",
    "        for i in range(self.size):\n",
    "            for j in range(self.size):\n",
    "                ax.text(j, i, arrow_policy[i, j], ha='center', va='center', fontsize=15)\n",
    "        plt.show()\n"
   ]
  },
  {
   "cell_type": "code",
   "execution_count": 3,
   "metadata": {},
   "outputs": [
    {
     "name": "stdout",
     "output_type": "stream",
     "text": [
      "Initial policy: \n",
      " [[1 0 2 3 0]\n",
      " [0 2 2 0 2]\n",
      " [0 2 0 3 1]\n",
      " [1 3 3 0 1]\n",
      " [1 2 3 1 1]]\n",
      "Initial value function: \n",
      " [[0. 0. 0. 0. 0.]\n",
      " [0. 0. 0. 0. 0.]\n",
      " [0. 0. 0. 0. 0.]\n",
      " [0. 0. 0. 0. 0.]\n",
      " [0. 0. 0. 0. 0.]]\n",
      "Optimal policy: [[2 1 0 0 0]\n",
      " [0 0 0 0 0]\n",
      " [0 0 0 0 0]\n",
      " [0 0 0 0 0]\n",
      " [0 0 0 0 0]]\n",
      "Value function: [[-89.19974742 -90.19974742 -89.10075497 -90.10075497 -90.10075497]\n",
      " [-90.19974742 -90.19974742 -90.19974742 -90.19974742 -90.19974742]\n",
      " [-90.19974742 -90.19974742 -90.19974742 -90.19974742 -90.19974742]\n",
      " [-90.19974742 -90.19974742 -90.19974742 -90.19974742 -90.19974742]\n",
      " [-90.19974742 -90.19974742 -90.19974742 -90.19974742 -90.19974742]]\n",
      "Visualisaton for optimal policy\n"
     ]
    },
    {
     "data": {
      "image/png": "[encoded data removed]",
      "text/plain": [
       "<Figure size 400x400 with 1 Axes>"
      ]
     },
     "metadata": {},
     "output_type": "display_data"
    },
    {
     "data": {
      "image/png": "[encoded data removed]",
      "text/plain": [
       "<Figure size 400x400 with 1 Axes>"
      ]
     },
     "metadata": {},
     "output_type": "display_data"
    }
   ],
   "source": [
    "env = gym.make(\"gridworld-v0\")\n",
    "env.reset()\n",
    "gpi = GeneralPolicyIteration(env)\n",
    "print(f\"Initial policy: \\n {gpi.get_policy()}\")\n",
    "print(f\"Initial value function: \\n {gpi.get_value_function()}\")\n",
    "policy, value_function = gpi.run(max_iter=1000)\n",
    "print(f\"Optimal policy: {policy}\")\n",
    "print(f\"Value function: {value_function}\")\n",
    "print(\"Visualisaton for optimal policy\")\n",
    "gpi.visualize(value_function, policy)"
   ]
  }
 ],
 "metadata": {
  "kernelspec": {
   "display_name": "Python 3",
   "language": "python",
   "name": "python3"
  },
  "language_info": {
   "codemirror_mode": {
    "name": "ipython",
    "version": 3
   },
   "file_extension": ".py",
   "mimetype": "text/x-python",
   "name": "python",
   "nbconvert_exporter": "python",
   "pygments_lexer": "ipython3",
   "version": "3.11.9"
  }
 },
 "nbformat": 4,
 "nbformat_minor": 2
}
