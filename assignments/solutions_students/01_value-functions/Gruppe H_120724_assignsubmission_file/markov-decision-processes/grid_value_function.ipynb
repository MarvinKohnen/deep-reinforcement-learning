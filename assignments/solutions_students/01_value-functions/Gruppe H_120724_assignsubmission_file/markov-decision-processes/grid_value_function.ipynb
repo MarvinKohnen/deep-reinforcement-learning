{
 "cells": [
  {
   "cell_type": "code",
   "execution_count": 1,
   "id": "initial_id",
   "metadata": {
    "ExecuteTime": {
     "end_time": "2024-10-25T08:20:14.276999Z",
     "start_time": "2024-10-25T08:20:14.252005Z"
    },
    "collapsed": true
   },
   "outputs": [],
   "source": [
    "from typing import Literal\n",
    "\n",
    "import numpy as np\n",
    "import numpy.typing as npt\n",
    "from matplotlib import pyplot as plt\n",
    "import seaborn as sns\n",
    "from matplotlib.widgets import Slider\n",
    "%matplotlib widget"
   ]
  },
  {
   "cell_type": "code",
   "execution_count": 2,
   "id": "7c71dba3c9b68470",
   "metadata": {
    "ExecuteTime": {
     "end_time": "2024-10-25T08:20:15.763072Z",
     "start_time": "2024-10-25T08:20:15.751021Z"
    }
   },
   "outputs": [],
   "source": [
    "class GridWorld:\n",
    "    \"\"\"\"\"\"\n",
    "\n",
    "    def __init__(self, discount_factor: float = 0.9) -> None:\n",
    "        \"\"\"\n",
    "        Constructor\n",
    "        :param discount_factor: Gamma factor\n",
    "        \"\"\"\n",
    "        self.discount_factor = discount_factor\n",
    "        self.directions: list[str] = ['N', 'E', 'S', 'W']\n",
    "        self.state_values: npt.NDArray = np.zeros((5, 5))\n",
    "        self.list_of_state_values =[np.zeros((5, 5))]\n",
    "\n",
    "        self.pos: npt.NDArray = np.random.randint(0, 5, size=(1, 2))[0]\n",
    "\n",
    "        self.A: npt.NDArray = np.array([0, 1])\n",
    "        self.A_prime: npt.NDArray = np.array([4, 1])\n",
    "        self.B_prime: npt.NDArray = np.array([2, 3])\n",
    "        self.B: npt.NDArray = np.array([0, 3])\n",
    "        \n",
    "        # init action matrices\n",
    "        self.N_mat: npt.NDArray = np.zeros((5, 5))\n",
    "        self.E_mat: npt.NDArray = np.zeros((5, 5))\n",
    "        self.S_mat: npt.NDArray = np.zeros((5, 5))\n",
    "        self.W_mat: npt.NDArray = np.zeros((5, 5))\n",
    "        \n",
    "        #init corresponding lists of matrices\n",
    "        self.N_list = [np.zeros((5, 5))]\n",
    "        self.E_list = [np.zeros((5, 5))]\n",
    "        self.S_list = [np.zeros((5, 5))]\n",
    "        self.W_list = [np.zeros((5, 5))]\n",
    "\n",
    "    def _policy(self) -> str:\n",
    "        \"\"\"\n",
    "        The Agent's policy\n",
    "        :return: Direction of movement\n",
    "        \"\"\"\n",
    "        return np.random.choice(self.directions)\n",
    "\n",
    "    def _reward(self, direction: Literal['N', 'E', 'S', 'W'] | str) -> int:\n",
    "        \"\"\"\n",
    "        Return the reward of the agent based on its position.\n",
    "        :param direction: Direction the agent is going to move. \n",
    "        :return: Reward\n",
    "        \"\"\"\n",
    "        # check if new position is at A or B\n",
    "        if np.array_equal(self.pos, self.A):\n",
    "            return 10\n",
    "        elif np.array_equal(self.pos, self.B):\n",
    "            return 5\n",
    "        new_pos: npt.NDArray = self.pos.copy()\n",
    "        # if going up\n",
    "        if direction == 'N':\n",
    "            new_pos = np.add(new_pos, np.array([-1, 0]))\n",
    "        # if going left\n",
    "        elif direction == 'W':\n",
    "            new_pos = np.add(new_pos, np.array([0, -1]))\n",
    "        # if going down\n",
    "        elif direction == 'S':\n",
    "            new_pos = np.add(new_pos, np.array([1, 0]))\n",
    "        # if going right\n",
    "        elif direction == 'E':\n",
    "            new_pos = np.add(new_pos, np.array([0, 1]))\n",
    "        else:\n",
    "            raise ValueError(\"Invalid direction: {}\".format(direction))\n",
    "\n",
    "        # check if new position is in grid\n",
    "        if not ((0 <= new_pos[0] <= 4) and (0 <= new_pos[1] <= 4)):\n",
    "            # penalty\n",
    "            return -1\n",
    "        return 0\n",
    "    \n",
    "    def _move(self, direction: Literal['N', 'E', 'S', 'W'] | str) -> npt.NDArray:\n",
    "        \"\"\"\n",
    "        Return the agent's position when moving in one of the four direction.\n",
    "        :param direction: Direction of movement \n",
    "        :return: The agent's new position.\n",
    "        \"\"\"\n",
    "        if np.array_equal(self.pos, self.A):\n",
    "            return self.A_prime\n",
    "        elif np.array_equal(self.pos, self.B):\n",
    "            return self.B_prime\n",
    "        new_pos: npt.NDArray = self.pos.copy()\n",
    "        # if going up\n",
    "        if direction == 'N':\n",
    "            new_pos = np.add(new_pos, np.array([-1, 0]))\n",
    "        # if going left\n",
    "        elif direction == 'W':\n",
    "            new_pos = np.add(new_pos, np.array([0, -1]))\n",
    "        # if going down\n",
    "        elif direction == 'S':\n",
    "            new_pos = np.add(new_pos, np.array([1, 0]))\n",
    "        # if going right\n",
    "        elif direction == 'E':\n",
    "            new_pos = np.add(new_pos, np.array([0, 1]))\n",
    "        else:\n",
    "            raise ValueError(\"Invalid direction: {}\".format(direction))\n",
    "        # check if new position is in grid\n",
    "        if (0 <= new_pos[0] <= 4) and (0 <= new_pos[1] <= 4):\n",
    "            # return position\n",
    "            return new_pos\n",
    "        # otherwise the agent should stay in grid\n",
    "        return self.pos\n",
    "\n",
    "    def bellman_state_value_function(self, runs: int = 10000) -> None:\n",
    "        \"\"\"\n",
    "        State-Value-Function using the Bellman expectation.\n",
    "        :param runs: Number of steps the agent is going to do per episode.\n",
    "        :return: None\n",
    "        \"\"\"\n",
    "        for _ in range(runs):\n",
    "            old_pos = self.pos.copy()\n",
    "            new_state_value: float = 0.0\n",
    "            for action in self.directions:\n",
    "                # get reward\n",
    "                reward = self._reward(direction=action)\n",
    "                new_pos = self._move(direction=action)\n",
    "                # get next state\n",
    "                new_state_value += (reward + self.discount_factor * self.state_values[*new_pos]) / 4\n",
    "            # update state value (and list)\n",
    "            self.state_values[*old_pos] = new_state_value\n",
    "            self.list_of_state_values.append(self.state_values.copy())\n",
    "            # update position\n",
    "            self.pos = self._move(direction=self._policy())\n",
    "            \n",
    "    def bellman_action_value_function(self, runs: int = 10000) -> None:\n",
    "        \"\"\"\n",
    "        Action-Value-Function using the Bellman expectation.\n",
    "        :param runs: Number of steps the agent is going to do per episode.\n",
    "        :return: None\n",
    "        \"\"\"\n",
    "        for _ in range(runs):\n",
    "            old_pos = self.pos.copy()\n",
    "            for action in self.directions:\n",
    "                # get reward\n",
    "                reward = self._reward(direction=action)\n",
    "                new_pos = self._move(direction=action)\n",
    "                # get next state\n",
    "                new_action_value = reward + self.discount_factor * (\n",
    "                        self.N_mat[*new_pos] + self.E_mat[*new_pos] + self.S_mat[*new_pos] + self.W_mat[*new_pos]) / 4\n",
    "                # update corresponding direction matrix\n",
    "                if action == 'N':\n",
    "                    self.N_mat[*old_pos] = new_action_value\n",
    "                elif action == 'E':\n",
    "                    self.E_mat[*old_pos] = new_action_value\n",
    "                elif action == 'S':\n",
    "                    self.S_mat[*old_pos] = new_action_value\n",
    "                elif action == 'W':\n",
    "                    self.W_mat[*old_pos] = new_action_value\n",
    "            # update position\n",
    "            self.pos = self._move(direction=self._policy())\n"
   ]
  },
  {
   "cell_type": "code",
   "execution_count": 3,
   "id": "d98e20624b2eab71",
   "metadata": {
    "ExecuteTime": {
     "end_time": "2024-10-25T08:20:17.541829Z",
     "start_time": "2024-10-25T08:20:16.650882Z"
    }
   },
   "outputs": [],
   "source": [
    "env = GridWorld()\n",
    "\n",
    "RUNS = 10000\n",
    "env.bellman_state_value_function(runs=RUNS)"
   ]
  },
  {
   "cell_type": "code",
   "execution_count": 4,
   "id": "8b353ccd9868c80c",
   "metadata": {
    "ExecuteTime": {
     "end_time": "2024-10-25T08:20:17.550032Z",
     "start_time": "2024-10-25T08:20:17.544809Z"
    }
   },
   "outputs": [
    {
     "data": {
      "text/plain": [
       "array([[ 3.30899634,  8.78929186,  4.42761918,  5.32236759,  1.49217876],\n",
       "       [ 1.52158807,  2.99231786,  2.25013995,  1.9075717 ,  0.54740271],\n",
       "       [ 0.05082249,  0.73817059,  0.67311326,  0.35818621, -0.40314114],\n",
       "       [-0.9735923 , -0.43549543, -0.35488227, -0.58560509, -1.18307508],\n",
       "       [-1.85770055, -1.34523126, -1.22926726, -1.42291815, -1.97517905]])"
      ]
     },
     "execution_count": 4,
     "metadata": {},
     "output_type": "execute_result"
    }
   ],
   "source": [
    "env.state_values"
   ]
  },
  {
   "cell_type": "code",
   "execution_count": 7,
   "id": "238cc7a3763225e7",
   "metadata": {
    "ExecuteTime": {
     "end_time": "2024-10-25T08:20:19.453808Z",
     "start_time": "2024-10-25T08:20:19.449859Z"
    }
   },
   "outputs": [],
   "source": [
    "# This function takes a list of matrices (lom) and then plots it into a changeable heatmap\n",
    "def grafik(lom):\n",
    "    # Create the initial heatmap\n",
    "    fig, ax = plt.subplots()\n",
    "    heatmap = sns.heatmap(lom[0], vmin=-2, vmax=10, ax=ax, cbar=True, annot=True, cmap='rocket_r')\n",
    "\n",
    "    # Adjust the main plot to make room for the slider\n",
    "    plt.subplots_adjust(left=0.25, bottom=0.25)\n",
    "\n",
    "    # Define the slider axis and create the slider\n",
    "    ax_slider = plt.axes([0.25, 0.1, 0.65, 0.03])\n",
    "    slider = Slider(ax_slider, 'Iterations: ', 0, len(lom) - 1, valinit=0, valstep=100)\n",
    "\n",
    "    # Update function to update the heatmap when the slider is moved\n",
    "    def update(val):\n",
    "        index = int(slider.val)\n",
    "        ax.clear()\n",
    "        sns.heatmap(lom[index], ax=ax, cbar=False, annot=True, cmap='rocket_r')\n",
    "        fig.canvas.draw_idle()\n",
    "\n",
    "    # Add an action to update the slider\n",
    "    slider.on_changed(update)\n",
    "    plt.plot()"
   ]
  },
  {
   "cell_type": "code",
   "execution_count": 9,
   "id": "539dd9fe5c171302",
   "metadata": {
    "ExecuteTime": {
     "end_time": "2024-10-25T08:20:41.173946Z",
     "start_time": "2024-10-25T08:20:40.919397Z"
    }
   },
   "outputs": [
    {
     "data": {
      "application/vnd.jupyter.widget-view+json": {
       "model_id": "060316d62a0046d0b66328f71d2d7481",
       "version_major": 2,
       "version_minor": 0
      },
      "image/png": "[encoded data removed]",
      "text/html": [
       "\n",
       "            <div style=\"display: inline-block;\">\n",
       "                <div class=\"jupyter-widgets widget-label\" style=\"text-align: center;\">\n",
       "                    Figure\n",
       "                </div>\n",
       "                <img src='data:image/png;base64,iVBORw0KGgoAAAANSUhEUgAAAoAAAAHgCAYAAAA10dzkAAAAOXRFWHRTb2Z0d2FyZQBNYXRwbG90bGliIHZlcnNpb24zLjkuMiwgaHR0cHM6Ly9tYXRwbG90bGliLm9yZy8hTgPZAAAACXBIWXMAAA9hAAAPYQGoP6dpAAAwbUlEQVR4nO3de3RU9b338c9MLpMAIQKBJFxDQS4BAhgQkRYBcwCXWqjLS1uqgF1aNWAxQjXPEtHWGrRq44WLch6F9oh4lha0PhUWJyp4AUNCQUBAuRUPmpAQjCaGIWTm+SNtpgORhEkyG/J9v1h7LbNnZu/vfIeFn/x++7fH5ff7/QIAAIAZbqcLAAAAQHgRAAEAAIwhAAIAABhDAAQAADCGAAgAAGAMARAAAMAYAiAAAIAxBEAAAABjCIAAAADGEAABAACMIQACAAAYQwAEAAAwhgAIAABgDAEQAADAGAIgAACAMQRAAAAAYwiAAAAAxhAAAQAAjCEAAgAAGEMABAAAMIYACAAAYAwBEAAAwBgCIAAAgDEEQAAAAGMIgAAAAMYQAAEAAIwhAAIAABhDAAQAADCGAAgAAGAMARAAAMAYAiAAAIAxBEAAAABjCIAAAADGEAABAACMIQACAAAYQwAEAAAwhgAIAABgDAEQAADAGAIgAACAMQRAAAAAYwiAAAAAxhAAAQAAjCEAAgAAGEMABAAAMIYACAAAYAwBEAAAwBgCIAAAgDEEQAAAAGMIgAAAAMYQAAEAAIwhAAIAABhDAAQAADCGAAgAAFrcxo0bde2116pr165yuVxas2ZN0ON+v18PPvigkpOTFRsbq4yMDH3++efOFGsAARAAALS4yspKDR06VIsWLar38ccff1zPPPOMli5dqo8//lht27bVpEmTdOLEiTBXaoPL7/f7nS4CAADY4XK5tHr1ak2dOlVS7ehf165dde+992ru3LmSpPLyciUmJmr58uX66U9/6mC1rRMjgAAAwFEHDx5UUVGRMjIy6vbFx8dr1KhR2rRpk4OVtV6RThcAAAAuTF6vV16vN2ifx+ORx+M5p+MUFRVJkhITE4P2JyYm1j2G5kUAhKOqXnvE6RIA4IIRe/0DzX7MyOhuIb/2gf9zmx5++OGgfQsWLNBDDz3UxKrQ0giAAAAY5mrCa7Ozs5WVlRW071xH/yQpKSlJklRcXKzk5OS6/cXFxRo2bFgTKsT34RpAAAAMc7lcIW8ej0ft27cP2kIJgL1791ZSUpLy8vLq9n3zzTf6+OOPNXr06OZ8u/gnRgABADDM5WrKGGDjVVRUaN++fXU/Hzx4UNu2bVPHjh3Vs2dPzZkzR4888oguvvhi9e7dW/Pnz1fXrl3rVgqjeREAAQAwzNWkSeDGKygo0Pjx4+t+/tfU8fTp07V8+XL95je/UWVlpW6//XZ9/fXX+uEPf6i1a9cqJiYmLPVZw30A4SgWgQBA47XEIpCYmJ4hv/bEicPNWAnCiRFAAAAMC9cUMM4vBEAAAAxzEwBNIgACAGBYuK4BxPmFAAgAgGGMANpEAAQAwDCuAbSJAAgAgGFupoBN4ptAAAAAjGEEEAAAw5gCtokACACAYSwCsYkACACAYYwA2kQABADAMBaB2EQABADAMEYAbWIVMAAAgDGMAAIAYBhfBWcTARAAAMNYBWwTARAAAMO4BtAmAiAAAIaxCtgmAiAAAIYxAmgTARCmrdq8Vyve36VjFVXql9RB911zqYb0SHC6rLCjDwH0ohZ9CGjtvWAE0CZuAwOz1n1ySE/+rUC/mpCmVzKvVr+kDrpreZ7KKqqcLi2s6EMAvahFHwLoBVorAiDM+vOHn+q6ERdranpf9elykR6YcplioiK0pnC/06WFFX0IoBe16EOAhV64XO6QN1y4mAJGo5SWlurFF1/Upk2bVFRUJElKSkrS5ZdfrhkzZqhz584OV3huqk/VaPeXZbr1isF1+9xul0b1TdYnh0scrCy86EMAvahFHwKs9IL7ANpEfEeDtmzZon79+umZZ55RfHy8xo4dq7Fjxyo+Pl7PPPOMBgwYoIKCAqfLPCfHv/OqxudXp3axQfs7tYtRqaGpHfoQQC9q0YcAK71wu1whb7hwMQKIBs2ePVs33HCDli5desZqMb/frzvuuEOzZ8/Wpk2bznocr9crr9cbtM9XfUqeKP4aAoBTGAG0iRFANGj79u2655576r1VgMvl0j333KNt27Y1eJycnBzFx8cHbX9YvbEFKm5YhzYeRbhdOnbab/HHKk4o4bTf9lsz+hBAL2rRhwArvWAE0CYCIBqUlJSk/Pz87308Pz9fiYmJDR4nOztb5eXlQdu8n4xtzlIbLSoyQgO7dlT+/qK6fT6fX/n7i5TW88K6nrEp6EMAvahFHwKs9MLVhD+4cDH3hgbNnTtXt99+uwoLC3XllVfWhb3i4mLl5eVp2bJleuKJJxo8jsfjkcfjCdpX5eD0781jUjX/9Q+V2q2TBndP0Msf7VbVyVOakt7HsZqcQB8C6EUt+hBAL9BaEQDRoMzMTCUkJOiPf/yjFi9erJqaGklSRESE0tPTtXz5ct14440OV3nuJqWl6HjlCS3J267Sb6vUP7mDFs+YcMYF360dfQigF7XoQ4CFXjCVa5PL7/f7nS4CF47q6mqVlpZKkhISEhQVFdWk41W99khzlAUAJsRe/0CzH3Nw4mUhv3Zn8eZmrAThxAggzklUVJSSk5OdLgMA0EwYAbSJAAgAgGEs5rCJAAgAgGFuAqBJ3AYGAADAGEYAAQAwrL6b/KP1IwACAGAYU8A2EQABADCMEUCbCIAAABjGKmCbCIAAABjGFLBNBEAAAAxjCtgmbgMDAABgDAEQAADD3HKFvDVWTU2N5s+fr969eys2NlZ9+vTR7373O/n9/hZ8ZzgbpoABADAsHNcAPvbYY1qyZIlWrFihQYMGqaCgQDNnzlR8fLzuvvvuFj8/zkQABADAsHBcAfjRRx9pypQpuvrqqyVJKSkpeuWVV5Sfnx+Gs6M+TAEDAGCY2+UKefN6vfrmm2+CNq/Xe8Y5Lr/8cuXl5emzzz6TJG3fvl0ffPCBrrrqqnC/XfwTARAAAMNcTfiTk5Oj+Pj4oC0nJ+eMc9x///366U9/qgEDBigqKkrDhw/XnDlzNG3aNAfeMSSmgAEAQIiys7OVlZUVtM/j8ZzxvP/+7//Wyy+/rJUrV2rQoEHatm2b5syZo65du2r69OnhKhf/hgAIAIBhTVkE4vF46g18p5s3b17dKKAkDRkyRP/4xz+Uk5NDAHQIARAAAMPCcSPo7777Tm538FVnERER8vl8LX5u1I8ACACAYeG4Dcy1116r3//+9+rZs6cGDRqkv//973rqqad06623tvi5UT8CIAAAhrnCEACfffZZzZ8/X3fddZeOHj2qrl276le/+pUefPDBFj836kcABADAsHDcDiQuLk65ubnKzc0Nw9nQGARAAAAMC8c1gDj/cB9AAAAAYxgBBADAsHAsAsH5hwAIAIBh4VgEgvMPARAAAMO4FswmAiAAAIYxBWwTARAAAMNYBWwTI78AAADGMAIIAIBhjATZRAAEAMAwVgHbRAAEAMAwFoHYRAAEAMAwpoBtIgACAGAYU8A2EQABADCMKWCbGPkFAAAwhhFAAAAMY/zPJgIgAACGufkmEJMIgAAAGMa1YDYRAAEAMIxVwDYRAAEAMIwRQJv43AEAAIxhBBAAAMOYAraJAAgAgGFMBdpEAAQAwDC+CcQmAiAAAIYR/2wiAAIAYBgjgDYRAAEAMIxrAG0iAMK0VZv3asX7u3Ssokr9kjrovmsu1ZAeCU6XFXb0IYBe1KIPAfQCrRHBH2at++SQnvxbgX41IU2vZF6tfkkddNfyPJVVVDldWljRhwB6UYs+BFjohasJf3DhIgDCrD9/+KmuG3Gxpqb3VZ8uF+mBKZcpJipCawr3O11aWNGHAHpRiz4EWOiFuwkbLlx8fjCp+lSNdn9ZplF9k+r2ud0ujeqbrE8OlzhYWXjRhwB6UYs+BFjphasJGy5cBECYdPw7r2p8fnVqFxu0v1O7GJW2oqmdhtCHAHpRiz4EWOmFW66QN1y4CIBoFl988YVuvfXWsz7H6/Xqm2++Cdq81afCVCEAoD5MAdvE54dmUVZWphUrVpz1OTk5OYqPjw/a/rB6Y5gqDNahjUcRbpeOnfZb/LGKE0o47bf91ow+BNCLWvQhgF6gNeM2MGiUN99886yPHzhwoMFjZGdnKysrK2if7/891aS6QhUVGaGBXTsqf3+RJqT2rK3F51f+/iL99LL+jtTkBPoQQC9q0YcAK71gItcmAiAaZerUqXK5XPL7/d/7HJfr7P+MeDweeTyeoH1VUc79Fbx5TKrmv/6hUrt10uDuCXr5o92qOnlKU9L7OFaTE+hDAL2oRR8CLPSCa/lsIgCiUZKTk7V48WJNmTKl3se3bdum9PT0MFfVNJPSUnS88oSW5G1X6bdV6p/cQYtnTDjjgu/Wjj4E0Ita9CHAQi+4Fswml/9sQzrAP/34xz/WsGHD9Nvf/rbex7dv367hw4fL5/Od03GrXnukOcoDABNir3+g2Y/5QMrPQ37tI4dWNmMlCCdGANEo8+bNU2Vl5fc+3rdvX7377rthrAgA0ByYAraJkV80yo9+9CNNnjz5ex9v27atrrjiijBWBABoDm5/6Nu5OHLkiH7xi1+oU6dOio2N1ZAhQ1RQUNAybwoNYgQQAAC0qOPHj2vMmDEaP3683n77bXXu3Fmff/65OnTo4HRpZhEAAQAwLBxTgY899ph69Oihl156qW5f7969w3BmfB+mgAEAMKwp3wVc7zc8eb1nnOPNN9/UiBEjdMMNN6hLly4aPny4li1bFo63h+9BAAQAwLCmfBVcfd/wlJOTc8Y5Dhw4oCVLlujiiy/WunXrdOedd+ruu+9u8Buk0HK4DQwcxW1gAKDxWuI2MDm9fhHya7M++79njPjVd9P/6OhojRgxQh999FHdvrvvvltbtmzRpk2bQj4/Qsc1gAAAGNaUm8DUF/bqk5ycrNTU1KB9AwcO1Ouvv96Es6MpmAIGAAAtasyYMdq7d2/Qvs8++0y9evVyqCIQAAEAMKwp1wA21j333KPNmzfr0Ucf1b59+7Ry5Uq98MILyszMbMZ3gnNBAAQAwLBw3Ah65MiRWr16tV555RUNHjxYv/vd75Sbm6tp06a13BvDWXENIAAAhoXri+CuueYaXXPNNWE6GxpCAAQAwDCmAm0iAAIAYBgB0CYCIAAAhp3LtXxoPQj+AAAAxjACCACAYeFaBILzCwEQAADDmAq0iQAIAIBhBECbCIAAABjmYhGISQRAAAAMYwTQJj53AAAAYxgBBADAMEaCbCIAAgBgGDeCtokACACAYdwH0CYCIAAAhjEFbBMBEAAAw5gCtokACACAYUwB28TILwAAgDGMAAIAYJhbzAFbRAAEAMAwrgG0iQAIAIBhXAtmEwEQAADDWARiEwEQAADD3H7mgC1i5BcAAMAYRgABADCMkSCbCIAAABjGNYA2EQABADCM+wDaRAAEAMAw7gNoEwEQAADDXIwAmkQABADAMBaB2MTnDgAAYAwjgAAAGMZIkE0EQAAADOMaQJsIgAAAGMYIoE0EQAAADGME0CYCIAAAhnEjaJsY+QUAADCGEUAAAAxz82XAJhEAAQAwjGsAbSIAwrRVm/dqxfu7dKyiSv2SOui+ay7VkB4JTpcVdvQhgF7Uog8Brb0XXAtmE587zFr3ySE9+bcC/WpCml7JvFr9kjroruV5Kquocrq0sKIPAfSiFn0IsNALl8sf8haqhQsXyuVyac6cOc33RnBOCIAw688ffqrrRlysqel91afLRXpgymWKiYrQmsL9TpcWVvQhgF7Uog8BFnrhdvlD3kKxZcsWPf/880pLS2vmd4JzQQCESdWnarT7yzKN6ptUt8/tdmlU32R9crjEwcrCiz4E0Ita9CHASi9cTdjOVUVFhaZNm6Zly5apQ4cOzVA9QkUARKNUVVXpgw8+0KeffnrGYydOnNCf/vQnB6oK3fHvvKrx+dWpXWzQ/k7tYlTaiqZ2GkIfAuhFLfoQQC+aX2Zmpq6++mplZGQ4XYp5LAJBgz777DNNnDhRhw8flsvl0g9/+EOtWrVKycnJkqTy8nLNnDlTt9xyy1mP4/V65fV6g/b5qk/JE8VfQwBwSqhTuVL9/657PB55PJ4znrtq1Spt3bpVW7ZsCfl8aD6MAKJB9913nwYPHqyjR49q7969iouL05gxY3T48OFzOk5OTo7i4+ODtj+s3thCVZ9dhzYeRbhdOnbab/HHKk4o4bTf9lsz+hBAL2rRhwArvWjKIpD6/l3Pyck54xxffPGFfv3rX+vll19WTEyMA+8SpyMAokEfffSRcnJylJCQoL59++qvf/2rJk2apB/96Ec6cOBAo4+TnZ2t8vLyoG3eT8a2YOXfLyoyQgO7dlT+/qK6fT6fX/n7i5TWs7MjNTmBPgTQi1r0IcBKL5qyCKS+f9ezs7PPOEdhYaGOHj2qSy65RJGRkYqMjNSGDRv0zDPPKDIyUjU1NQ68c9uYe0ODqqqqFBkZ+Kvicrm0ZMkSzZo1S1dccYVWrlzZqOPUNy1Q5eD0781jUjX/9Q+V2q2TBndP0Msf7VbVyVOakt7HsZqcQB8C6EUt+hBgoReuJnwTyPdN957uyiuv1I4dO4L2zZw5UwMGDNB9992niIiI0ItASAiAaNCAAQNUUFCggQMHBu1/7rnnJEk//vGPnSirySalpeh45Qktyduu0m+r1D+5gxbPmHDGBd+tHX0IoBe16EOAhV405X5+jRUXF6fBgwcH7Wvbtq06dep0xn6Eh8vv9/MdMDirnJwcvf/++/rb3/5W7+N33XWXli5dKp/Pd87HrnrtkaaWBwBmxF7/QLMfc1uv0H+JH/aPN0N+7bhx4zRs2DDl5uaGfAyEjgAIRxEAAaDxWiIAfpJybcivTTv012asBOHEFDAAAIY15RpAXLgIgAAAGBaOawBx/iEAAgBgWFNuBI0LFwEQAADDXG4CoEUEQAAADOMaQJv4JhAAAABjGAEEAMAwpoBtIgACAGAYq4BtIgACAGAYq4BtIgACAGCYi9UAJhEAAQAwjClgm8j9AAAAxjACCACAYawCtokACACAYdwI2iYCIAAAhjECaBMBEAAAwwiANhEAAQAwjClgmwiAAAAYxgigTdwGBgAAwBhGAAEAMIxvArGJAAgAgGF8E4hNBEAAAAxjBNAmAiAAAIaxCMQmAiAAAIYxAmgTHzsAAIAxjAACAGAZi0BMIgACAGAYU8A2EQABADCMAGgTARAAAMMIgDYRAAEAsIwAaBIBEAAAwxgBtImPHQAAwBhGAAEAsIyhIJMIgAAAGMYUsE0EQAAALCMAmkQABADAMJfb5XQJcAABEAAAyxgBNImPHQAAwBhGAAEAMIwpYJsIgAAAWMZcoEl87AAAWOZ2hb41Uk5OjkaOHKm4uDh16dJFU6dO1d69e1vwTaEhBEAAAAxzuV0hb421YcMGZWZmavPmzVq/fr2qq6s1ceJEVVZWtuA7w9kwBQwAgGVhGApau3Zt0M/Lly9Xly5dVFhYqLFjx7Z8ATgDARAAAMuasAjE6/XK6/UG7fN4PPJ4PGd9XXl5uSSpY8eOIZ8bTcMUMAAACElOTo7i4+ODtpycnLO+xufzac6cORozZowGDx4cpkpxOkYAAQAwrCm3gcnOzlZWVlbQvoZG/zIzM7Vz50598MEHIZ8XTUcABADAsiYEwMZM9/67WbNm6a233tLGjRvVvXv3kM+LpiMAAgBgWRhuBO33+zV79mytXr1a7733nnr37t3i58TZEQBh2qrNe7Xi/V06VlGlfkkddN81l2pIjwSnywo7+hBAL2rRh4DW3guXq+UDYGZmplauXKk33nhDcXFxKioqkiTFx8crNja2xc+PM7EIBGat++SQnvxbgX41IU2vZF6tfkkddNfyPJVVVDldWljRhwB6UYs+BJjoRRhuBL1kyRKVl5dr3LhxSk5OrtteffXVFnxjOBsCIMz684ef6roRF2tqel/16XKRHphymWKiIrSmcL/TpYUVfQigF7XoQwC9aB5+v7/ebcaMGU6XZhYBECZVn6rR7i/LNKpvUt0+t9ulUX2T9cnhEgcrCy/6EEAvatGHADO9CMMIIM4/BECYdPw7r2p8fnVqF3ztSad2MSptTVM7DaAPAfSiFn0IMNMLtzv0DRcsFoGgUXbv3q3Nmzdr9OjRGjBggPbs2aOnn35aXq9Xv/jFLzRhwoQGj1HfHeN91afkieKvIQA4hpE8k4jvaNDatWs1bNgwzZ07V8OHD9fatWs1duxY7du3T//4xz80ceJEvfPOOw0ep747xv9h9cYwvIMzdWjjUYTbpWOn/RZ/rOKEEtrZWZFGHwLoRS36EGClFy63K+QNFy4CIBr029/+VvPmzdOxY8f00ksv6ec//7luu+02rV+/Xnl5eZo3b54WLlzY4HGys7NVXl4etM37iTNfAh4VGaGBXTsqf39R3T6fz6/8/UVK69nZkZqcQB8C6EUt+hBgphdcA2gSARAN2rVrV91KrRtvvFHffvutrr/++rrHp02bpk8++aTB43g8HrVv3z5oc3L69+YxqfpLwed6c+t+HThart+/+bGqTp7SlPQ+jtXkBPoQQC9q0YcAE71wuUPfcMHi4is0yr9uFOp2uxUTE6P4+Pi6x+Li4lReXu5UaSGblJai45UntCRvu0q/rVL/5A5aPGPCGRd8t3b0IYBe1KIPAfQCrZXL7/f7nS4C57ehQ4fqscce0+TJkyVJO3fu1IABAxQZWfv7w/vvv6/p06frwIED53zsqtceadZaAaA1i73+gWY/ZsV914X82naP/aUZK0E4MQKIBt15552qqamp+3nw4MFBj7/99tuNWgUMADgPcS2fSQRANOiOO+446+OPPvpomCoBADQ3F/fzM4kACACAZYwAmkQABADAMlbzmkQABADAMkYATSL2AwAAGMMIIAAAlrEIxCQCIAAAljEFbBIBEAAAy1gEYhIBEAAAyxgBNIkACACAYdwI2iY+dQAAAGMYAQQAwDKmgE0iAAIAYBmLQEwiAAIAYBkjgCYRAAEAsIxFICYRAAEAsMzFCKBFBEAAACxjBNAkPnUAAABjGAEEAMAyRgBNIgACAGAZq4BNIgACAGAZ9wE0iQAIAIBlTAGbRAAEAMAwF1PAJhH7AQAAjGEEEAAAy7gG0CQCIAAAlnENoEkEQAAALCMAmkQABADAMr4L2CQCIAAAljECaBIBEAAAy1gEYhKfOgAACItFixYpJSVFMTExGjVqlPLz850uySwCIAAAlrndoW/n4NVXX1VWVpYWLFigrVu3aujQoZo0aZKOHj3aQm8MZ0MABADAsjAFwKeeekq33XabZs6cqdTUVC1dulRt2rTRiy++2EJvDGdDAAQAwDKXK/StkU6ePKnCwkJlZGTU7XO73crIyNCmTZta4l2hASwCAQDAsiasAvZ6vfJ6vUH7PB6PPB5P0L7S0lLV1NQoMTExaH9iYqL27NkT8vkROkYAAQCwrAlTwDk5OYqPjw/acnJynH5HaARGAAEAQEiys7OVlZUVtO/00T9JSkhIUEREhIqLi4P2FxcXKykpqUVrRP0YAQQAwDKXO+TN4/Goffv2QVt9ATA6Olrp6enKy8ur2+fz+ZSXl6fRo0eH893inxgBBADAsjB9E0hWVpamT5+uESNG6NJLL1Vubq4qKys1c+bMsJwfwQiAAABYFqZvArnppptUUlKiBx98UEVFRRo2bJjWrl17xsIQhAcBEAAAy8L4XcCzZs3SrFmzwnY+fD8CIAAAlvFdwCYRAAEAsCyMI4A4f/CpAwAAGMMIIAAAljECaBIBEAAAy7gG0CQCIAAAljECaBIBEAAAyxgBNIkACACAZYwAmkQAhGmrNu/Vivd36VhFlfolddB911yqIT0SnC4r7OhDAL2oRR8C6AVaI2I/zFr3ySE9+bcC/WpCml7JvFr9kjroruV5Kquocrq0sKIPAfSiFn0IMNELlzv0DRcsPj2EzO/3O11Ck/z5w0913YiLNTW9r/p0uUgPTLlMMVERWlO43+nSwoo+BNCLWvQhwEQv3O7QN1yw+PQQMo/Ho927dztdRkiqT9Vo95dlGtU3qW6f2+3SqL7J+uRwiYOVhRd9CKAXtehDgJVeuFwRIW+4cHENIBqUlZVV7/6amhotXLhQnTp1kiQ99dRT4SyrSY5/51WNz69O7WKD9ndqF6NDJeUOVRV+9CGAXtSiDwFmesFInkkEQDQoNzdXQ4cO1UUXXRS03+/3a/fu3Wrbtq1cLleDx/F6vfJ6vUH7fNWn5IniryEAOIYAaBKfOhr06KOPqry8XPPnz9e7775bt0VERGj58uV699139c477zR4nJycHMXHxwdtf1i9MQzv4Ewd2ngU4Xbp2GkXch+rOKGE037bb83oQwC9qEUfAsz0gkUgJvHpoUH333+/Xn31Vd15552aO3euqqurQzpOdna2ysvLg7Z5PxnbzNU2TlRkhAZ27aj8/UV1+3w+v/L3FymtZ2dHanICfQigF7XoQwC9QGtGAESjjBw5UoWFhSopKdGIESO0c+fORk37/juPx6P27dsHbU5O/948JlV/Kfhcb27drwNHy/X7Nz9W1clTmpLex7GanEAfAuhFLfoQYKIXrAI2iYuv0Gjt2rXTihUrtGrVKmVkZKimpsbpkppkUlqKjlee0JK87Sr9tkr9kzto8YwJZ1zw3drRhwB6UYs+BJjoBVO5Jrn8F/rN3OCI//3f/1VhYaEyMjLUtm3bkI9T9dojzVgVALRusdc/0OzHPFG4JuTXxqRPbbY6EF6MACIk3bt3V/fu3Z0uAwDQVIwAmkQABADAMq7lM4lPHQAAwBhGAAEAsIwpYJMIgAAAGMZ3+tpEAAQAwDKuATSJAAgAgGVMAZtEAAQAwDJGAE0iAAIAYBkjgCbxqQMAABjDCCAAAJa5WQVsEQEQAADLmAI2iQAIAIBlLAIxiQAIAIBhLkYATSIAAgBgGSOAJvGpAwAAGMMIIAAAljEFbBIBEAAAy7gNjEkEQAAALGME0CQCIAAAlrEIxCQCIAAAhnEbGJv41AEAsMztDn1rAYcOHdIvf/lL9e7dW7GxserTp48WLFigkydPtsj5rGIEEAAAnDf27Nkjn8+n559/Xn379tXOnTt12223qbKyUk888YTT5bUaBEAAACw7z6aAJ0+erMmTJ9f9/IMf/EB79+7VkiVLCIDNiAAIAIBlTbgNjNfrldfrDdrn8Xjk8XiaWlWQ8vJydezYsVmPaZ4fMOzEiRP+BQsW+E+cOOF0KY6jF7XoQwC9CKAX9VuwYIFfUtC2YMGCZj3H559/7m/fvr3/hRdeaNbjWufy+/1+ZyMo4JxvvvlG8fHxKi8vV/v27Z0ux1H0ohZ9CKAXAfSifucyAnj//ffrscceO+vxdu/erQEDBtT9fOTIEV1xxRUaN26c/vM//7N5ioYkpoABAECIzmW6995779WMGTPO+pwf/OAHdf/95Zdfavz48br88sv1wgsvNKVM1IMACAAAWlznzp3VuXPnRj33yJEjGj9+vNLT0/XSSy/Jzc2qmx0BEAAAnDeOHDmicePGqVevXnriiSdUUlJS91hSUpKDlbUuBECY5vF4tGDBgmZfsXYhohe16EMAvQigF+Gzfv167du3T/v27VP37t2DHmPZQvNhEQgAAIAxTKoDAAAYQwAEAAAwhgAIAABgDAEQAADAGAIgTFu0aJFSUlIUExOjUaNGKT8/3+mSwm7jxo269tpr1bVrV7lcLq1Zs8bpkhyRk5OjkSNHKi4uTl26dNHUqVO1d+9ep8tyxJIlS5SWlqb27durffv2Gj16tN5++22ny3LcwoUL5XK5NGfOHKdLAZqMAAizXn31VWVlZWnBggXaunWrhg4dqkmTJuno0aNOlxZWlZWVGjp0qBYtWuR0KY7asGGDMjMztXnzZq1fv17V1dWaOHGiKisrnS4t7Lp3766FCxeqsLBQBQUFmjBhgqZMmaJdu3Y5XZpjtmzZoueff15paWlOlwI0C24DA7NGjRqlkSNH6rnnnpMk+Xw+9ejRQ7Nnz9b999/vcHXOcLlcWr16taZOnep0KY4rKSlRly5dtGHDBo0dO9bpchzXsWNH/eEPf9Avf/lLp0sJu4qKCl1yySVavHixHnnkEQ0bNky5ublOlwU0CSOAMOnkyZMqLCxURkZG3T63262MjAxt2rTJwcpwvigvL5dUG3wsq6mp0apVq1RZWanRo0c7XY4jMjMzdfXVVwf9ewFc6PgmEJhUWlqqmpoaJSYmBu1PTEzUnj17HKoK5wufz6c5c+ZozJgxGjx4sNPlOGLHjh0aPXq0Tpw4oXbt2mn16tVKTU11uqywW7VqlbZu3aotW7Y4XQrQrAiAAHCazMxM7dy5Ux988IHTpTimf//+2rZtm8rLy/Xaa69p+vTp2rBhg6kQ+MUXX+jXv/611q9fr5iYGKfLAZoVARAmJSQkKCIiQsXFxUH7i4uL+bJx42bNmqW33npLGzduPON7SC2Jjo5W3759JUnp6enasmWLnn76aT3//PMOVxY+hYWFOnr0qC655JK6fTU1Ndq4caOee+45eb1eRUREOFghEDquAYRJ0dHRSk9PV15eXt0+n8+nvLw8s9c5Wef3+zVr1iytXr1a77zzjnr37u10SecVn88nr9frdBlhdeWVV2rHjh3atm1b3TZixAhNmzZN27ZtI/zhgsYIIMzKysrS9OnTNWLECF166aXKzc1VZWWlZs6c6XRpYVVRUaF9+/bV/Xzw4EFt27ZNHTt2VM+ePR2sLLwyMzO1cuVKvfHGG4qLi1NRUZEkKT4+XrGxsQ5XF17Z2dm66qqr1LNnT3377bdauXKl3nvvPa1bt87p0sIqLi7ujGtA27Ztq06dOpm9NhStBwEQZt10000qKSnRgw8+qKKiIg0bNkxr1649Y2FIa1dQUKDx48fX/ZyVlSVJmj59upYvX+5QVeG3ZMkSSdK4ceOC9r/00kuaMWNG+Aty0NGjR3XLLbfoq6++Unx8vNLS0rRu3Tr9x3/8h9OlAWgm3AcQAADAGK4BBAAAMIYACAAAYAwBEAAAwBgCIAAAgDEEQAAAAGMIgAAAAMYQAAEAAIwhAAIAABhDAAQAADCGAAgAAGAMARAAAMAYAiAAAIAxBEAAAABjCIAAAADGEAABAACMIQACAAAYQwAEAAAwhgAIAABgDAEQAADAGAIgAACAMQRAAAAAYwiAAAAAxhAAAQAAjCEAAgAAGEMABAAAMIYACAAAYAwBEAAAwBgCIAAAgDEEQAAAAGMIgAAAAMYQAAEAAIwhAAIAABhDAAQAADCGAAgAAGAMARAAAMCYSKcLgE1+v1/V1dWqqalRRESEoqKi5HK5nC4LAAATCICtTEpKiubMmaM5c+Y4XUq9qqurVVxcrCNHjqiqqqpuf2xsrLp166bExERFRUU5WCEAAK0fU8AhmjFjhqZOnVr387hx48IaupYvX66LLrrojP1btmzR7bffHrY6zkVZWZk2b96s/fv3q127dkpNTVVaWppSU1PVrl077d+/X5s3b1ZZWZnTpQIAUGfRokVKSUlRTEyMRo0apfz8fKdLajJGAM8zJ0+eVHR0dMiv79y5czNW03zKysq0Y8cOdejQQf3795fH4wl6vEuXLvJ6vdq7d6927NihIUOGqGPHjg5VCwBArVdffVVZWVlaunSpRo0apdzcXE2aNEl79+5Vly5dnC4vZC6/3+93uogL0YwZM/T1119rzZo1mjFjhlasWBH0+MGDB5WSkqKdO3dq3rx5ev/999W2bVtNnDhRf/zjH5WQkCCpduRw8ODBioyM1H/9139pyJAhevfdd/XUU0/ppZde0oEDB9SxY0dde+21evzxx9WuXTu99957Gj9+fND5FixYoIceeuiMKeDDhw9r9uzZysvLk9vt1uTJk/Xss88qMTFRkvTQQw9pzZo1uvfeezV//nwdP35cV111lZYtW6a4uDhJ0muvvaaHH35Y+/btU5s2bTR8+HC98cYbatu2baN6VV1drc2bNys+Pl6DBw+W2/39A88+n087d+7U8ePH1aFDh7M+FwCAUA0ePLhRzxs1apRGjhyp5557TlLt/6d69Oih2bNn6/7772/JElsU/3dtBk8//bRGjx6t2267TV999ZW++uor9ejRQ19//bUmTJig4cOHq6CgQGvXrlVxcbFuvPHGoNevWLFC0dHR+vDDD7V06VJJktvt1jPPPKNdu3ZpxYoVeuedd/Sb3/xGknT55ZcrNzdX7du3rzvf3Llzz6jL5/NpypQpKisr04YNG7R+/XodOHBAN910U9Dz9u/frzVr1uitt97SW2+9pQ0bNmjhwoWSpK+++ko/+9nPdOutt2r37t167733dN111+lfvze89957crlcOnTo0Pf2p7i4WD6fT/37928w0LndbvXv319+v19er/fsjQcAoAWdPHlShYWFysjIqNvndruVkZGhTZs2OVhZ0zEF3Azi4+MVHR2tNm3aKCkpqW7/c889p+HDh+vRRx+t2/fiiy+qR48e+uyzz9SvXz9J0sUXX6zHH3886Jj/fj1hSkqKHnnkEd1xxx1avHixoqOjFR8fL5fLFXS+0+Xl5WnHjh06ePCgevToIUn605/+pEGDBmnLli0aOXKkpNqguHz58roRv5tvvll5eXn6/e9/r6+++kqnTp3Sddddp169ekmShgwZUneONm3aqH///t+7cMPv9+vIkSNKSEg4Y9r3+3g8HnXu3FllZWWKiYlhdTAAwBGlpaWqqampmzX7l8TERO3Zs8ehqpoHI4AtaPv27Xr33XfVrl27um3AgAGSakfd/iU9Pf2M1/7P//yPrrzySnXr1k1xcXG6+eabdezYMX333XeNPv/u3bvVo0ePuvAnSampqbrooou0e/fuun0pKSl14U+SkpOTdfToUUnS0KFDdeWVV2rIkCG64YYbtGzZMh0/frzuuZdeeqn27Nmjbt261VtDdXW1qqqqzvnaxM6dO6umpkZcoQAAQPMjALagiooKXXvttdq2bVvQ9vnnn2vs2LF1zzv9WrpDhw7pmmuuUVpaml5//XUVFhZq0aJFkmqHo5vb6aN3LpdLPp9PkhQREaH169fr7bffVmpqqp599ln1799fBw8ebNSxa2pqJEmRkec22Pyv5xMAAQBOSUhIUEREhIqLi4P2FxcXn3UG7kJAAGwm0dHRdWHnXy655BLt2rVLKSkp6tu3b9B2tgUUhYWF8vl8evLJJ3XZZZepX79++vLLLxs83+kGDhyoL774Ql988UXdvk8//VRff/21UlNTG/3eXC6XxowZo4cfflh///vfFR0drdWrVzfqtREREZKkU6dONfp8//58pn8BAE6Jjo5Wenq68vLy6vb5fD7l5eVp9OjRDlbWdATAZpKSkqKPP/5Yhw4dUmlpqXw+nzIzM1VWVqaf/exn2rJli/bv369169Zp5syZZw1vffv2VXV1tZ599lkdOHBAf/7zn+sWh/z7+SoqKpSXl6fS0tJ6p4YzMjI0ZMgQTZs2TVu3blV+fr5uueUWXXHFFRoxYkSj3tfHH3+sRx99VAUFBTp8+LD+8pe/qKSkRAMHDpQk5efna8CAATpy5Ei9r4+KilJsbKxKSkoadb5/KSkpUUREBAEQAOCorKwsLVu2TCtWrNDu3bt15513qrKyUjNnznS6tCZhEUgzmTt3rqZPn67U1FRVVVXV3Qbmww8/1H333aeJEyfK6/WqV69emjx58llXww4dOlRPPfWUHnvsMWVnZ2vs2LHKycnRLbfcUvecyy+/XHfccYduuukmHTt2rO42MP/O5XLpjTfe0OzZszV27Nig28A0Vvv27bVx40bl5ubqm2++Ua9evfTkk0/qqquukiR999132rt3r6qrq+t9vcvlUrdu3bR//355vd5GLQTxer0qLS1Vnz591L1790bXCgBAc7vppptUUlKiBx98UEVFRRo2bJjWrl17xsKQCw33AUSLC+U+gOXl5brsssv4WjgAAFoAU8BocVFRURo0aJCOHz+unTt3fu/9/bxeb91NoAcNGkT4AwCghTACiLApKyvTrl275PP5lJCQoM6dOysyMlKnTp1SSUmJSktL5Xa7NWjQIL4GDgCAFkQARFhVV1eruLhYR44cUVVVVd3+2NhYdevWTUlJSed8yxgAAHBuCIBwhN/v16lTp3Tq1ClFRkYqMjKSFb8AAIQJARAAAMAYFoEAAAAYQwAEAAAwhgAIAABgDAEQAADAGAIgAACAMQRAAAAAYwiAAAAAxhAAAQAAjCEAAgAAGEMABAAAMIYACAAAYAwBEAAAwBgCIAAAgDEEQAAAAGMIgAAAAMYQAAEAAIwhAAIAABhDAAQAADCGAAgAAGAMARAAAMAYAiAAAIAxBEAAAABjCIAAAADGEAABAACMIQACAAAYQwAEAAAwhgAIAABgDAEQAADAGAIgAACAMQRAAAAAYwiAAAAAxhAAAQAAjCEAAgAAGEMABAAAMIYACAAAYAwBEAAAwBgCIAAAgDEEQAAAAGMIgAAAAMYQAAEAAIwhAAIAABhDAAQAADCGAAgAAGAMARAAAMAYAiAAAIAx/x8J0yz9wmmakgAAAABJRU5ErkJggg==' width=640.0/>\n",
       "            </div>\n",
       "        "
      ],
      "text/plain": [
       "Canvas(toolbar=Toolbar(toolitems=[('Home', 'Reset original view', 'home', 'home'), ('Back', 'Back to previous …"
      ]
     },
     "metadata": {},
     "output_type": "display_data"
    }
   ],
   "source": [
    "grafik(env.list_of_state_values)"
   ]
  },
  {
   "metadata": {},
   "cell_type": "markdown",
   "source": [
    "Beschreibung der Ergebnisse der Berechnungen:\n",
    "Als Ergebnis erhalten wir eine 5x5 Matrix, die vom Aufbau mit unserer Grid-World Umgebung übereinstimmt. Dabei gibt der Wert (i,j) in der state_value Matrix, den state_value der Position (i,j) in der Grid-World an. Dieser gibt an, wie \"gut\" es ist, dass wir uns auf diesem Feld befinden. Ist der Wert negativ, so ist bei zufälligem Verhalten in näherer Zukunft ein negativer Reward zu erwarten. Ist der Wert positiv (z.B. an Position A), so können wir mit einem positiven Reward in Zukunft rechnen.\n",
    "Der Vorteil, den die Verwendung einer zufälligen Policy mit sich bringt, ist, dass genügend Informationen über alle Felder gesammelt werden. Eine Return-orientierte Policy hätte das Problem, dass vorrangig Informationen über \"gute\" Felder gesammelt werden. Dies führt zu einem ähnlichen Problem, wie bei den Multi-arm-Bandits, i.e. eine gute Alternative, wie Weg B wird evtl. nicht gefunden."
   ],
   "id": "d5e567742cd74cbc"
  },
  {
   "cell_type": "code",
   "execution_count": 40,
   "id": "754b286faa215565",
   "metadata": {
    "ExecuteTime": {
     "end_time": "2024-10-23T07:13:01.355609Z",
     "start_time": "2024-10-23T07:12:59.455097Z"
    }
   },
   "outputs": [],
   "source": [
    "env = GridWorld(discount_factor=0.3)\n",
    "env.bellman_action_value_function(runs=RUNS)"
   ]
  },
  {
   "cell_type": "code",
   "execution_count": 41,
   "id": "ca4e248a0b04811e",
   "metadata": {
    "ExecuteTime": {
     "end_time": "2024-10-23T07:13:02.699919Z",
     "start_time": "2024-10-23T07:13:02.695279Z"
    }
   },
   "outputs": [
    {
     "data": {
      "text/plain": [
       "array([[-9.20246523e-01,  9.89376302e+00, -7.15030340e-01,\n",
       "         4.99999442e+00, -1.05154661e+00],\n",
       "       [ 7.97534767e-02,  2.96812891e+00,  2.84969660e-01,\n",
       "         1.49999833e+00, -5.15466128e-02],\n",
       "       [-6.42561711e-02,  2.21925778e-01,  4.64985712e-02,\n",
       "         1.09672353e-01, -8.41932715e-02],\n",
       "       [-9.41720308e-02,  8.63906029e-03,  3.41315840e-03,\n",
       "        -5.57950934e-06, -9.65094227e-02],\n",
       "       [-1.05837936e-01, -1.59794346e-02, -9.62327329e-03,\n",
       "        -1.66504826e-02, -1.06084029e-01]])"
      ]
     },
     "execution_count": 41,
     "metadata": {},
     "output_type": "execute_result"
    }
   ],
   "source": "grafik(env.N_list)"
  },
  {
   "cell_type": "code",
   "execution_count": 32,
   "id": "1b4cf8ec9824004f",
   "metadata": {
    "ExecuteTime": {
     "end_time": "2024-10-23T07:09:20.251117Z",
     "start_time": "2024-10-23T07:09:20.246140Z"
    }
   },
   "outputs": [
    {
     "data": {
      "text/plain": [
       "array([[-6.42561711e-02,  9.89376302e+00,  4.64985712e-02,\n",
       "         4.99999442e+00, -8.41932715e-02],\n",
       "       [-9.41720308e-02,  8.63906029e-03,  3.41315840e-03,\n",
       "        -5.57950934e-06, -9.65094227e-02],\n",
       "       [-1.05837936e-01, -1.59794346e-02, -9.62327329e-03,\n",
       "        -1.66504826e-02, -1.06084029e-01],\n",
       "       [-1.95183081e-01, -1.06236978e-01, -9.90935517e-02,\n",
       "        -1.06293553e-01, -1.95209787e-01],\n",
       "       [-1.19518308e+00, -1.10623698e+00, -1.09909355e+00,\n",
       "        -1.10629355e+00, -1.19520979e+00]])"
      ]
     },
     "execution_count": 32,
     "metadata": {},
     "output_type": "execute_result"
    }
   ],
   "source": "grafik(env.S_list)"
  },
  {
   "cell_type": "code",
   "execution_count": 33,
   "id": "d9254d70c7d2190b",
   "metadata": {
    "ExecuteTime": {
     "end_time": "2024-10-23T07:09:20.844525Z",
     "start_time": "2024-10-23T07:09:20.841063Z"
    }
   },
   "outputs": [
    {
     "data": {
      "text/plain": [
       "array([[-9.20246523e-01,  9.89376302e+00,  2.96812891e+00,\n",
       "         4.99999442e+00,  1.49999833e+00],\n",
       "       [-1.06425617e+00, -6.42561711e-02,  2.21925778e-01,\n",
       "         4.64985712e-02,  1.09672353e-01],\n",
       "       [-1.09417203e+00, -9.41720308e-02,  8.63906029e-03,\n",
       "         3.41315840e-03, -5.57950934e-06],\n",
       "       [-1.10583794e+00, -1.05837936e-01, -1.59794346e-02,\n",
       "        -9.62327329e-03, -1.66504826e-02],\n",
       "       [-1.19518308e+00, -1.95183081e-01, -1.06236978e-01,\n",
       "        -9.90935517e-02, -1.06293553e-01]])"
      ]
     },
     "execution_count": 33,
     "metadata": {},
     "output_type": "execute_result"
    }
   ],
   "source": "grafik(env.W_list)"
  },
  {
   "cell_type": "code",
   "execution_count": 34,
   "id": "e612a28363bd467b",
   "metadata": {
    "ExecuteTime": {
     "end_time": "2024-10-23T07:09:21.279399Z",
     "start_time": "2024-10-23T07:09:21.275465Z"
    }
   },
   "outputs": [
    {
     "data": {
      "text/plain": [
       "array([[ 2.96812891e+00,  9.89376302e+00,  1.49999833e+00,\n",
       "         4.99999442e+00, -1.05154661e+00],\n",
       "       [ 2.21925778e-01,  4.64985712e-02,  1.09672353e-01,\n",
       "        -8.41932715e-02, -1.08419327e+00],\n",
       "       [ 8.63906029e-03,  3.41315840e-03, -5.57950934e-06,\n",
       "        -9.65094227e-02, -1.09650942e+00],\n",
       "       [-1.59794346e-02, -9.62327329e-03, -1.66504826e-02,\n",
       "        -1.06084029e-01, -1.10608403e+00],\n",
       "       [-1.06236978e-01, -9.90935517e-02, -1.06293553e-01,\n",
       "        -1.95209787e-01, -1.19520979e+00]])"
      ]
     },
     "execution_count": 34,
     "metadata": {},
     "output_type": "execute_result"
    }
   ],
   "source": "grafik(env.E_list)"
  },
  {
   "metadata": {},
   "cell_type": "markdown",
   "source": [
    "Als Ergebnis der Action-Value-Funktion erhalten wir in Abhängigkeit der Aktion eine Matrix. Dabei beschreibt der Wert in der Matrix zur Aktion a in dem jeweiligen Feld, wie \"gut\" das Feld ist. Dies ist so zu interpretieren, dass umso höher der Wert, umso sinnvoller ist es die jeweilige Aktion auszuführen, wenn man sich auf dem Feld befindet.\n",
    "Die state-value Werte zeigen also an, wie hoch das Feld bei einer zufälligen Aktion zu bewerten ist, die Action-Value Werte beschreiben, wie hoch die Aktion zu bewerten ist, wenn man in dem jeweiligen Feld steht.\n",
    "Dabei gibt jeder value eine Bewertung für das jeweilige Feld ab, einmal bezüglich einer zufälligen Aktion, einmal in Abhängigkeit von dieser."
   ],
   "id": "650191e59c48bc3f"
  }
 ],
 "metadata": {
  "kernelspec": {
   "display_name": ".venv",
   "language": "python",
   "name": "python3"
  },
  "language_info": {
   "codemirror_mode": {
    "name": "ipython",
    "version": 3
   },
   "file_extension": ".py",
   "mimetype": "text/x-python",
   "name": "python",
   "nbconvert_exporter": "python",
   "pygments_lexer": "ipython3",
   "version": "3.13.0"
  }
 },
 "nbformat": 4,
 "nbformat_minor": 5
}
